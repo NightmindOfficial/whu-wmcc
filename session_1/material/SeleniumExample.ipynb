{
 "cells": [
  {
   "cell_type": "markdown",
   "metadata": {},
   "source": [
    "# Using Selenium for scraping of infinity pages"
   ]
  },
  {
   "cell_type": "markdown",
   "metadata": {
    "jp-MarkdownHeadingCollapsed": true
   },
   "source": [
    "## Step 1\n",
    "* pip install selenium\n",
    "* Install the geckodriver to run firefox in the background\n",
    "\n",
    "https://github.com/mozilla/geckodriver/releases\n",
    "\n",
    "Download the binary for your system and place the binary in the same folder as this Jupyter notebook"
   ]
  },
  {
   "cell_type": "markdown",
   "metadata": {},
   "source": [
    "## Step 2"
   ]
  },
  {
   "cell_type": "code",
   "execution_count": null,
   "metadata": {
    "scrolled": true
   },
   "outputs": [],
   "source": [
    "from selenium import webdriver\n",
    "from selenium.webdriver.common.by import By\n",
    "from selenium.webdriver.common.keys import Keys\n",
    "from selenium.webdriver.support.ui import Select\n",
    "from selenium.webdriver.support.ui import WebDriverWait\n",
    "from selenium.common.exceptions import TimeoutException\n",
    "from selenium.webdriver.support import expected_conditions as EC\n",
    "from selenium.common.exceptions import NoSuchElementException\n",
    "from selenium.common.exceptions import NoAlertPresentException\n",
    "import time"
   ]
  },
  {
   "cell_type": "code",
   "execution_count": null,
   "metadata": {
    "scrolled": true
   },
   "outputs": [],
   "source": [
    "my_driver = webdriver.Firefox()\n",
    "\n",
    "#or Download Chromedriver: https://www.tutorialspoint.com/how-to-setup-chrome-driver-with-selenium-on-macos\n",
    "#\n",
    "#my_driver =  = webdriver.Chrome(executable_path='/usr/local/bin/chromedriver')"
   ]
  },
  {
   "cell_type": "code",
   "execution_count": null,
   "metadata": {
    "scrolled": true
   },
   "outputs": [],
   "source": [
    "my_driver.get(\"https://twitter.com/search?q=scholz&src=typed_query\")"
   ]
  },
  {
   "cell_type": "code",
   "execution_count": null,
   "metadata": {
    "scrolled": true
   },
   "outputs": [],
   "source": [
    "my_driver.execute_script(\"window.scrollTo(0, document.body.scrollHeight);\")"
   ]
  },
  {
   "cell_type": "code",
   "execution_count": null,
   "metadata": {},
   "outputs": [],
   "source": [
    "from selenium import webdriver\n",
    "from selenium.webdriver.common.by import By\n",
    "from selenium.webdriver.common.keys import Keys\n",
    "from selenium.webdriver.support.ui import Select\n",
    "from selenium.webdriver.support.ui import WebDriverWait\n",
    "from selenium.common.exceptions import TimeoutException\n",
    "from selenium.webdriver.support import expected_conditions as EC\n",
    "from selenium.common.exceptions import NoSuchElementException\n",
    "from selenium.common.exceptions import NoAlertPresentException\n",
    "import time\n",
    "\n",
    "class Sel():\n",
    "    def __init__(self):\n",
    "        self.driver = webdriver.Firefox()\n",
    "        self.driver.implicitly_wait(30)\n",
    "        self.base_url = \"https://twitter.com\"\n",
    "        self.verificationErrors = []\n",
    "        self.accept_next_alert = True\n",
    "\n",
    "        driver = self.driver\n",
    "        delay = 3\n",
    "        driver.get(self.base_url + \"/search?q=scholz&src=typed_query\")\n",
    "        \n",
    "        #driver.find_element_by_link_text(\"Alle anzeigen\").click()\n",
    "        for i in range(1,10):\n",
    "            self.driver.execute_script(\"window.scrollTo(0, document.body.scrollHeight);\")\n",
    "            time.sleep(4)\n",
    "        html_source = driver.page_source\n",
    "        data = html_source.encode('utf-8')\n",
    "        print(html_source)\n",
    "\n",
    "Sel()"
   ]
  },
  {
   "cell_type": "markdown",
   "metadata": {},
   "source": [
    "# Using Selenium for scraping of websites that need a login"
   ]
  },
  {
   "cell_type": "code",
   "execution_count": null,
   "metadata": {
    "scrolled": true
   },
   "outputs": [],
   "source": [
    "from selenium import webdriver\n",
    "import time\n",
    "from bs4 import BeautifulSoup\n",
    "import re"
   ]
  },
  {
   "cell_type": "code",
   "execution_count": null,
   "metadata": {
    "scrolled": true
   },
   "outputs": [],
   "source": [
    "driver = webdriver.Firefox()\n",
    "driver.get(\"https://www.linkedin.com/login?fromSignIn=true&trk=guest_homepage-basic_nav-header-signin\")"
   ]
  },
  {
   "cell_type": "code",
   "execution_count": null,
   "metadata": {},
   "outputs": [],
   "source": [
    "dir(driver)"
   ]
  },
  {
   "cell_type": "code",
   "execution_count": null,
   "metadata": {
    "scrolled": true
   },
   "outputs": [],
   "source": [
    "# Select Element by ID\n",
    "driver.find_element(By.ID,'username').send_keys(\"hansklaus@tempr.email\")"
   ]
  },
  {
   "cell_type": "code",
   "execution_count": null,
   "metadata": {},
   "outputs": [],
   "source": [
    "# Select Element by Name\n",
    "driver.find_element(By.ID,'password').send_keys(\"whu2024\")"
   ]
  },
  {
   "cell_type": "code",
   "execution_count": null,
   "metadata": {},
   "outputs": [],
   "source": [
    "# Select Element by XML \n",
    "driver.find_element(By.XPATH,\"//button[@data-litms-control-urn='login-submit']\").click()"
   ]
  },
  {
   "cell_type": "code",
   "execution_count": null,
   "metadata": {
    "scrolled": true
   },
   "outputs": [],
   "source": [
    "x=driver.get(\"https://www.linkedin.com/jobs/search/?keywords=data%20science\")\n",
    "html_source = driver.page_source\n",
    "data = html_source.encode('utf-8')"
   ]
  },
  {
   "cell_type": "code",
   "execution_count": null,
   "metadata": {
    "scrolled": true
   },
   "outputs": [],
   "source": [
    "soup = BeautifulSoup(data, 'html')\n",
    "events = soup.findAll('a',{'class':re.compile(\"job-card-container*\")})\n",
    "print(events)\n",
    "print(len(events))"
   ]
  },
  {
   "cell_type": "code",
   "execution_count": null,
   "metadata": {},
   "outputs": [],
   "source": [
    "for e in events:\n",
    "    print(e[\"aria-label\"])\n",
    "    print(e[\"href\"])\n",
    "   \n",
    "    "
   ]
  },
  {
   "cell_type": "markdown",
   "metadata": {},
   "source": [
    "We need to scroll down on the internal div to get all data"
   ]
  },
  {
   "cell_type": "code",
   "execution_count": null,
   "metadata": {
    "scrolled": true
   },
   "outputs": [],
   "source": [
    "x=driver.get(\"https://www.linkedin.com/jobs/search/?keywords=data%20science&start=10\")\n",
    "time.sleep(10)\n",
    "html_source = driver.page_source\n",
    "data = html_source\n"
   ]
  },
  {
   "cell_type": "code",
   "execution_count": null,
   "metadata": {
    "scrolled": true
   },
   "outputs": [],
   "source": [
    "soup = BeautifulSoup(data, 'html')\n",
    "events = soup.findAll('li',{'class':re.compile(\"jobs-search-results__list-item*\")})\n",
    "print(len(events))"
   ]
  },
  {
   "cell_type": "code",
   "execution_count": null,
   "metadata": {
    "scrolled": true
   },
   "outputs": [],
   "source": [
    "for e in events:\n",
    "    e1 = e.find('a',{'class':re.compile(\"^job-card-list__title.*\")})\n",
    "    if e1:\n",
    "        print(e1.get_text())"
   ]
  }
 ],
 "metadata": {
  "kernelspec": {
   "display_name": "Python 3 (ipykernel)",
   "language": "python",
   "name": "python3"
  },
  "language_info": {
   "codemirror_mode": {
    "name": "ipython",
    "version": 3
   },
   "file_extension": ".py",
   "mimetype": "text/x-python",
   "name": "python",
   "nbconvert_exporter": "python",
   "pygments_lexer": "ipython3",
   "version": "3.8.18"
  }
 },
 "nbformat": 4,
 "nbformat_minor": 4
}
