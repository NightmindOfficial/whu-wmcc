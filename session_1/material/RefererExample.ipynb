{
 "cells": [
  {
   "cell_type": "markdown",
   "id": "adopted-function",
   "metadata": {},
   "source": [
    "# Handling Referer Requirements"
   ]
  },
  {
   "cell_type": "code",
   "execution_count": null,
   "id": "5e4d01b2",
   "metadata": {},
   "outputs": [],
   "source": [
    "import requests"
   ]
  },
  {
   "cell_type": "code",
   "execution_count": null,
   "id": "expensive-eleven",
   "metadata": {},
   "outputs": [],
   "source": [
    "s = requests.Session()\n",
    "r=s.get(\"https://www.zvg-portal.de/index.php?button=showZvg&zvg_id=160499&land_abk=nw\")\n",
    "r.text"
   ]
  },
  {
   "cell_type": "code",
   "execution_count": null,
   "id": "682b64dd",
   "metadata": {},
   "outputs": [],
   "source": [
    "s = requests.Session()\n",
    "s.headers.update({'referer': \"https://zvg-portal.de/index.php\"})\n",
    "r=s.get(\"https://www.zvg-portal.de/index.php?button=showZvg&zvg_id=160499&land_abk=nw\")"
   ]
  },
  {
   "cell_type": "code",
   "execution_count": null,
   "id": "967be1f6",
   "metadata": {},
   "outputs": [],
   "source": [
    "r.text"
   ]
  }
 ],
 "metadata": {
  "kernelspec": {
   "display_name": "Python 3 (ipykernel)",
   "language": "python",
   "name": "python3"
  },
  "language_info": {
   "codemirror_mode": {
    "name": "ipython",
    "version": 3
   },
   "file_extension": ".py",
   "mimetype": "text/x-python",
   "name": "python",
   "nbconvert_exporter": "python",
   "pygments_lexer": "ipython3",
   "version": "3.8.18"
  }
 },
 "nbformat": 4,
 "nbformat_minor": 5
}
