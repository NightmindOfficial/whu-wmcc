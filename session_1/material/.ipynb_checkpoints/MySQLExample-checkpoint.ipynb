{
 "cells": [
  {
   "cell_type": "markdown",
   "metadata": {},
   "source": [
    "# MySQL Examples"
   ]
  },
  {
   "cell_type": "markdown",
   "metadata": {},
   "source": [
    "## Access the webinterface of a MySQL database"
   ]
  },
  {
   "cell_type": "markdown",
   "metadata": {},
   "source": [
    "We will use a preinstalled database in the AWS Cloud (Amazon Web Service). The webinterface to the database (phpMyAdmin) is available at:\n",
    "    \n",
    "* URL: http://ec2-54-211-136-9.compute-1.amazonaws.com/phpMyAdmin/\n",
    "* Username: admin\n",
    "* Password: famviews58239\n",
    "\n",
    "Don't share the credentials with anyone else or misuse the database. "
   ]
  },
  {
   "cell_type": "markdown",
   "metadata": {},
   "source": [
    "![mysql01.PNG](images/mysql01.PNG)"
   ]
  },
  {
   "cell_type": "markdown",
   "metadata": {},
   "source": [
    "##  Establish a MySQL connection with Python\n",
    "```Python\n",
    "conda install pymysql\n",
    "```"
   ]
  },
  {
   "cell_type": "code",
   "execution_count": null,
   "metadata": {},
   "outputs": [],
   "source": [
    "import pandas as pd\n",
    "import pymysql"
   ]
  },
  {
   "cell_type": "markdown",
   "metadata": {},
   "source": [
    "The webinterface and the database have two different endpoints. Therefore, accessing the database directly without an interface is only possible using the direct URL as below:"
   ]
  },
  {
   "cell_type": "code",
   "execution_count": null,
   "metadata": {},
   "outputs": [],
   "source": [
    "# Connection parameters to the instance of the database, not the visual interface\n",
    "host=\"dbtest.ckiye7lbs2mb.us-east-1.rds.amazonaws.com\"\n",
    "user=\"admin\"\n",
    "password=\"famviews58239\"\n",
    "db=\"webmining\""
   ]
  },
  {
   "cell_type": "markdown",
   "metadata": {},
   "source": [
    "Enter your name here to create your own table"
   ]
  },
  {
   "cell_type": "code",
   "execution_count": null,
   "metadata": {},
   "outputs": [],
   "source": [
    "yourname=\"martin\""
   ]
  },
  {
   "cell_type": "code",
   "execution_count": null,
   "metadata": {},
   "outputs": [],
   "source": [
    "#Create a table\n",
    "# Before you execute it, replace the <yourname> with your name first (no spaces, no special characters)\n",
    "\n",
    "connection = pymysql.connect(host=host,user=user,password=password,db=db)\n",
    "try:\n",
    "    cursorObject            = connection.cursor()                                     \n",
    "\n",
    "    sqlCreateTableCommand   = \"CREATE TABLE webmining.\"+yourname+\"_tracking_sales (\"\\\n",
    "      \"id INT NOT NULL AUTO_INCREMENT,\"\\\n",
    "      \"product_name VARCHAR(45) NULL,\"\\\n",
    "      \"product_price_per_unit DECIMAL(6,2) NULL,\"\\\n",
    "      \"units_ordered INT NULL,\"\\\n",
    "      \"PRIMARY KEY (id));\"\n",
    "\n",
    "    # Execute the sqlQuery\n",
    "    cursorObject.execute(sqlCreateTableCommand)\n",
    "\n",
    "    #Fetch all the rows - from the command output\n",
    "    rows = cursorObject.fetchall()\n",
    "    for row in rows:\n",
    "        print(row)\n",
    "\n",
    "    \n",
    "except Exception as e:\n",
    "    print(\"Exeception occured:{}\".format(e))\n",
    "\n",
    "finally:\n",
    "    connection.close()"
   ]
  },
  {
   "cell_type": "markdown",
   "metadata": {},
   "source": [
    "Let's take a look in the visual interface"
   ]
  },
  {
   "cell_type": "code",
   "execution_count": null,
   "metadata": {},
   "outputs": [],
   "source": [
    "#Show all tables in the database using python\n",
    "connection = pymysql.connect(host=host,user=user,password=password,db=db)\n",
    "try:\n",
    "    # Create a cursor object\n",
    "    cursorObject            = connection.cursor()                                     \n",
    "\n",
    "    # List the tables using SQL command\n",
    "    sqlShowTablesCommand    = \"show tables\"   \n",
    "\n",
    "    # Execute the SQL command\n",
    "    cursorObject.execute(sqlShowTablesCommand)\n",
    "\n",
    "    #Fetch all the rows - from the command output\n",
    "    rows = cursorObject.fetchall()\n",
    "    for row in rows:\n",
    "        print(row)\n",
    "\n",
    "    \n",
    "except Exception as e:\n",
    "    print(\"Exeception occured:{}\".format(e))\n",
    "\n",
    "finally:\n",
    "    connection.close()"
   ]
  },
  {
   "cell_type": "code",
   "execution_count": null,
   "metadata": {},
   "outputs": [],
   "source": [
    "#Insert Dummy data into the table\n",
    "# Before you execute it, replace the <martin> with your name (no spaces, no special characters)\n",
    "connection = pymysql.connect(host=host,user=user,password=password,db=db)\n",
    "try:\n",
    "    cursorObject = connection.cursor()                                     \n",
    "\n",
    "    insertStatement = \"INSERT INTO webmining.\"+yourname+\"_tracking_sales (product_name,product_price_per_unit,units_ordered) VALUES\"\\\n",
    "    \"('Desktop Computer', 500.0, 5),\"\\\n",
    "    \"('Monitor', 200.0, 5),\"\\\n",
    "    \"('Telephone', 150.0, 2),\"\\\n",
    "    \"('Telephone', 150.0, 3),\"\\\n",
    "    \"('Chair', 100.0, 1)\"\n",
    " \n",
    "    cursorObject.execute(insertStatement)\n",
    "    connection.commit();\n",
    "    \n",
    "except Exception as e:\n",
    "    print(\"Exeception occured:{}\".format(e))\n",
    "\n",
    "finally:\n",
    "    connection.close()"
   ]
  },
  {
   "cell_type": "code",
   "execution_count": null,
   "metadata": {},
   "outputs": [],
   "source": [
    "#Connect to the database and keep the connection open\n",
    "connection = pymysql.connect(host=host,user=user,password=password,db=db)"
   ]
  },
  {
   "cell_type": "code",
   "execution_count": null,
   "metadata": {},
   "outputs": [],
   "source": [
    "#Create the SQL Query\n",
    "# Before you execute it, replace the <martin> with your name (no spaces, no special characters)\n",
    "sqlquery = pd.read_sql_query(\"select product_name, product_price_per_unit, units_ordered, \"\\\n",
    "                              \"((units_ordered) * (product_price_per_unit)) AS revenue from webmining.\"+yourname+\"_tracking_sales\", connection)"
   ]
  },
  {
   "cell_type": "code",
   "execution_count": null,
   "metadata": {
    "scrolled": true
   },
   "outputs": [],
   "source": [
    "#Convert the SQL Result into a dataframe\n",
    "df = pd.DataFrame(sqlquery, columns=['product_name','product_price_per_unit','units_ordered','revenue'])\n",
    "df"
   ]
  },
  {
   "cell_type": "code",
   "execution_count": null,
   "metadata": {},
   "outputs": [],
   "source": [
    "#Work with the dataframe as usual\n",
    "df['revenue'].max()"
   ]
  },
  {
   "cell_type": "code",
   "execution_count": null,
   "metadata": {},
   "outputs": [],
   "source": [
    "#Close the connection\n",
    "connection.close()"
   ]
  },
  {
   "cell_type": "code",
   "execution_count": null,
   "metadata": {},
   "outputs": [],
   "source": []
  }
 ],
 "metadata": {
  "kernelspec": {
   "display_name": "Python 3 (ipykernel)",
   "language": "python",
   "name": "python3"
  },
  "language_info": {
   "codemirror_mode": {
    "name": "ipython",
    "version": 3
   },
   "file_extension": ".py",
   "mimetype": "text/x-python",
   "name": "python",
   "nbconvert_exporter": "python",
   "pygments_lexer": "ipython3",
   "version": "3.8.16"
  }
 },
 "nbformat": 4,
 "nbformat_minor": 4
}
