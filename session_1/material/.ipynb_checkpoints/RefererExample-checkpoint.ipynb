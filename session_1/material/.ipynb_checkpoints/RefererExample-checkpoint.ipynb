{
 "cells": [
  {
   "cell_type": "markdown",
   "id": "adopted-function",
   "metadata": {},
   "source": [
    "# Handling Referer Requirements"
   ]
  },
  {
   "cell_type": "code",
   "execution_count": 4,
   "id": "5e4d01b2",
   "metadata": {},
   "outputs": [],
   "source": [
    "import requests"
   ]
  },
  {
   "cell_type": "code",
   "execution_count": 5,
   "id": "expensive-eleven",
   "metadata": {},
   "outputs": [
    {
     "data": {
      "text/plain": [
       "'error'"
      ]
     },
     "execution_count": 5,
     "metadata": {},
     "output_type": "execute_result"
    }
   ],
   "source": [
    "s = requests.Session()\n",
    "r=s.get(\"https://www.zvg-portal.de/index.php?button=showZvg&zvg_id=157459&land_abk=nw\")\n",
    "r.text"
   ]
  },
  {
   "cell_type": "code",
   "execution_count": 6,
   "id": "682b64dd",
   "metadata": {},
   "outputs": [],
   "source": [
    "s = requests.Session()\n",
    "s.headers.update({'referer': \"https://zvg-portal.de/index.php\"})\n",
    "r=s.get(\"https://www.zvg-portal.de/index.php?button=showZvg&zvg_id=157459&land_abk=nw\")"
   ]
  },
  {
   "cell_type": "code",
   "execution_count": 7,
   "id": "967be1f6",
   "metadata": {},
   "outputs": [
    {
     "data": {
      "text/plain": [
       "'\\n<!DOCTYPE html PUBLIC \"-//W3C//DTD XHTML 1.0 Transitional//EN\" \"http://www.w3.org/TR/xhtml1/DTD/xhtml1-transitional.dtd\">\\n<html xmlns=\"http://www.w3.org/1999/xhtml\" xml:lang=\"de\" lang=\"de\">\\n    <head>\\n        <title>Justizportal - Verfahren</title>\\n        <meta http-equiv=\"Content-Type\" content=\"text/html; charset=ISO-8859-1\" />\\n        <meta content=\"Justizportal des Bundes und der Länder\" name=\"DC.Description\" />\\n        <meta content=\"Referat Öffentlichkeitsarbeit\" name=\"DC.Author\" />\\n        <meta content=\"Justizportal des Bundes und der Länder\" name=\"DC.Page-topic\" />\\n\\t\\n\\t<meta content=\"noindex,nofollow,nosnippet,noarchive,noodp\" name=\"Robots\" />\\n\\n        <link href=\"mailto:redaktion@justiz.de\" title=\"Mail\" rel=\"author\" />\\n        <link href=\"https://justiz.de/Uebersicht.php\" title=\"Inhaltsverzeichnis\" rel=\"contents\" />\\n        <link href=\"https://justiz.de/index.php\" title=\"Startseite\" rel=\"start\" />\\n        <link href=\"https://justiz.de/Impressum.php\" title=\"Impressum\" rel=\"copyright\" />\\n        <link href=\"https://justiz.de/index.php#suchzeile\" title=\"Suchen\" rel=\"search\" />\\n<link rel=\"icon\" href=\"images/favicon.ico\" type=\"image/x-icon\">\\n\\n<LINK title=Basis-Stylesheet href=\"images/basis.css\" type=text/css rel=stylesheet >\\n\\n    </head>\\n\\n    <body>\\n        <!-- Kopfbereich -->\\n        <a name=\"top\"></a>\\n        <a href=\"https://justiz.de/\" title=\"Link zur Startseite\"><img src=\"images/justitia.gif\" alt=\"Justitia auf Deutschlandkarte\" id=\"logo\" height=\"132\" width=\"160\"></a>\\n        <h1 id=\"kopf\">Zwangsversteigerungstermine</h1>\\n        <div id=\"micronavi\" ><!-- Micronavi -->\\n        Sie sind hier:\\n            <ul>\\n                Amtsgericht: Mönchengladbach-Rheydt in Nordrhein-Westfalen            </ul>\\n        </div><!-- ende Micronavi -->\\n\\n\\n\\n        <!-- Ende Kopfbereich -->\\n\\n<div id=\"container\"><!-- Container -->\\n<div id=\"navi\" class=\"noprint\"> <!-- Navigation linke Seite -->\\n            <ul class=\"hinterlegt\">\\n\\t\\t<li><a href=\\'index.php?button=Termine suchen\\'\\n\\t\\t\\t\\t\\t >Termine suchen</a></li>\\n\\t\\t\\n\\t\\t <li><a href=\\'index.php?button=Uebersicht\\'\\n                                         >&Uuml;bersicht</a></li>\\n\\n\\t\\t <li><a href=\\'index.php?button=Hinweise fuer Bieter\\'\\n                                         >Hinweise f&uuml;r Bieter</a></li>\\n\\n\\t\\t <li><a href=\\'index.php?button=handbuch&sess_clean=1\\' target=_blanc\\n                                         >Bieter Handbuch</a></li>\\n\\n            </ul>\\n            <ul class=\"binnennavi\">\\n                <li><a href=\"index.php?button=Startseite\" title=\"Startseite\">Startseite</a></li>\\n                <li><a href=\"index.php?button=Impressum\">Impressum</a></li>\\n                <li><a href=\"https://justiz.de/datenschutz/index.php\" target=_blank>Rechtliche Hinweise</a></li>\\n    \\t\\t<li><a href=\"index.php?button=Kontakt\">Kontakt</a></li>\\n            </ul>\\n                <div id=\"zusatznavi\">\\n\\n</div>\\n\\n            <form action=\"https://justiz.de/suchergebnis/index.php\" method=\"get\"><label class=\"small\" for=\"query\">Suche</label><br>\\n                <input name=\"q\" id=\"suchzeile\" type=\"text\"><input src=\"images/lupe.gif\" alt=\"\" type=\"image\">\\n            </form>\\n        </div> <!-- Ende Navigation -->\\n\\n        <div id=\"inhalt\"><!-- Inhalt -->\\n                <p>\\n<table border=0 id=anzeige>\\n<tr><td valign=top align=left><b>0502&nbsp;K&nbsp;0025/&nbsp;2021</b></td><td align=right><nobr>(letzte Aktualisierung: 07-12-2022 09:39)</nobr></td></tr>\\n<tr><td valign=top align=left><NOBR>Art der Versteigerung:</nobr></td><td valign=top align=left>Zwangsversteigerung zum Zwecke der Aufhebung der Gemeinschaft</td></tr><tr><td valign=top align=left>Grundbuch:</td><td valign=top align=left>Odenkirchen Blatt 2453</td></tr><tr><td valign=top align=left>Objekt/Lage:</td><td valign=top align=left><b>Wohn-/Gesch&auml;ftshaus, Reihenhaus:</b> Ruhrfelder Stra&szlig;e 9, 11, 41199 M&ouml;nchengladbach, Odenkirchen</td></tr><tr><td valign=top align=left>Beschreibung:</td><td valign=top align=left>Laut Wertgutachten handelt es sich um eine Wohn- und Gesch&auml;ftsbebauung in Massivbauweise, bestehend aus zwei Geb&auml;udeteilen historischen Ursprungs, welche erstmals 1906 erbaut wurden und nach teilweiser Kriegszerst&ouml;rung ab ca. 1948 wieder aufgebaut wurde. Aufgrund der N&auml;he zum Flusslauf der Niers kann eine &Uuml;berschwemmung des Grundst&uuml;cks nicht ausgeschlossen werden. Im &Uuml;brigen wird zur n&auml;heren Beschreibung auf das im Internet eingestellte und auf der Gesch&auml;ftsstelle einsehbare Wertgutachten Bezug genommen.</td></tr>\\n<tr><td valign=top align=left>Verkehrswert in &#128;:</td><td valign=top align=left>289.000,00 \\x80</td></tr>\\n<tr><td valign=top align=left>Termin:</td><td valign=top align=left><b>Montag, 20. März 2023, 11:00 Uhr</b></td></tr>\\n<tr><td valign=top align=left><nobr>Ort der Versteigerung:</nobr></td><td valign=top align=left>Amtsgericht M&ouml;nchengladbach-Rheydt, Brucknerallee 115, 41236 M&ouml;nchengladbach, Saal 202</td></tr><tr><td valign=top align=left>Gericht:</td><td valign=top align=left><a target=_blank href=\\'http://www.ag-moenchengladbach-rheydt.nrw.de\\'>Internetseite des Gerichtes</a> <img class=screen src=images/externer_Link.gif title=\\'externer Link, &ouml;ffnet neues Browserfenster\\' height=12 width=13></td></tr><tr><td valign=top align=left>GeoServer:</td><td valign=top align=left><a target=_blank href=\"https://map.nrw/client/?ref_src=zvg&strasse=Ruhrfelder StraÃ\\x9fe&hnr=9, 11&plz=41199&ort=MÃ¶nchengladbach\">Karten, Luftbilder</a> <img class=screen src=images/externer_Link.gif title=\\'externer Link, &ouml;ffnet neues Browserfenster\\' height=12 width=13></td></tr><tr><td valign=top align=left>GoogleMaps:</td><td valign=top align=left><a target=_blank href=\"http://maps.google.de/maps?f=q&source=s_q&output=html&hl=de&q=Ruhrfelder StraÃ\\x9fe+9, 11,+41199+MÃ¶nchengladbach\">Karten, Luftbilder</a> <img class=screen src=images/externer_Link.gif title=\\'externer Link, &ouml;ffnet neues Browserfenster\\' height=12 width=13></td></tr><!--- Start Anhaenge --->\\n<tr><td colspan=2><hr></td></tr><tr><td><nobr>amtliche Bekanntmachung</nobr>:&nbsp;</td><td><a target=_blank href=\"?button=showAnhang&land_abk=nw&file_id=345465&zvg_id=157459 \"/>amtliche_Bekanntmachung.pdf</a> <img src=images/pdf.gif class=icon alt=\\'PDF-Dokument, öffnet neues Browserfenster\\' height=18 width=18>\\n<span class=kleinereSchrift>241.67 kB</span>\\n</td></tr>\\n<tr><td>Gutachten:&nbsp;</td><td><a target=_blank href=\"?button=showAnhang&land_abk=nw&file_id=345466&zvg_id=157459 \"/>Gutachten.pdf</a> <img src=images/pdf.gif class=icon alt=\\'PDF-Dokument, öffnet neues Browserfenster\\' height=18 width=18>\\n<span class=kleinereSchrift>551.95 kB</span>\\n</td></tr>\\n</table>\\n<!--- Ende Anhaenge --->\\n</p>\\n        </div><!-- ende Inhalt -->\\n\\n         <div id=\"addinfo\"><!-- ende Addinfo -->\\n            <h3>Weitere Infos</h3>\\n            <ul>\\n                <li class=\"publication\"><a target=_blank  href=\"https://justiz.de\">Justizportal des Bundes und der L&auml;nder</a></li>\\n                <li class=\"publication\"><a target=_blank  href=\"http://www.handelsregister.de\">Gemeinsames Registerportal der L&auml;nder</a></li>\\n                <!-- li class=\"publication\"><a target=_blank  href=\"Zustaendigkeitsliste.pdf\">Liste der zust&auml;ndigen Registrierungsbeh&ouml;rden</a></li -->\\n                <!-- li class=\"publication\"><a  href=\"index.php?button=Antragsformulare&sess_clean=1\">Antragsformulare</a></li-->\\n            </ul>\\n        </div><!-- ende Addinfo -->\\n\\n<div class=\"screen\" id=\"footer\"><!-- Footer -->\\n             <p><nobr><a href=\"javascript:window.print()\">Seite drucken</a>&nbsp;.&nbsp;<a href=\"#inhalt\">zum Anfang</a></nobr></p>\\n        </div><!-- Ende Footer -->\\n\\n </div><!-- ende Container -->\\n\\n    </body>\\n</html>\\n\\n'"
      ]
     },
     "execution_count": 7,
     "metadata": {},
     "output_type": "execute_result"
    }
   ],
   "source": [
    "r.text"
   ]
  },
  {
   "cell_type": "markdown",
   "id": "alive-programmer",
   "metadata": {},
   "source": [
    "# Obfuscating your IP"
   ]
  },
  {
   "cell_type": "markdown",
   "id": "stock-shanghai",
   "metadata": {},
   "source": [
    "## Start your TOR Service\n",
    "https://www.torproject.org/de/download/"
   ]
  },
  {
   "cell_type": "code",
   "execution_count": null,
   "id": "337955ad",
   "metadata": {},
   "outputs": [],
   "source": [
    "import requests\n",
    "\n",
    "def get_tor_session():\n",
    "    session = requests.session()\n",
    "    # Tor uses the 9050 port as the default socks port\n",
    "    session.proxies = {'http':  'socks5://127.0.0.1:9050',\n",
    "                       'https': 'socks5://127.0.0.1:9050'}\n",
    "    return session\n",
    "\n",
    "# Make a request through the Tor connection\n",
    "# IP visible through Tor\n",
    "session = get_tor_session()"
   ]
  },
  {
   "cell_type": "code",
   "execution_count": null,
   "id": "de51e092",
   "metadata": {},
   "outputs": [],
   "source": [
    "print(session.get(\"http://httpbin.org/ip\").text)\n",
    "# Above should print an IP different than your public IP"
   ]
  },
  {
   "cell_type": "code",
   "execution_count": null,
   "id": "dd94b19b",
   "metadata": {},
   "outputs": [],
   "source": [
    "# Following prints your normal public IP\n",
    "print(requests.get(\"http://httpbin.org/ip\").text)"
   ]
  },
  {
   "cell_type": "code",
   "execution_count": null,
   "id": "unlimited-maintenance",
   "metadata": {},
   "outputs": [],
   "source": []
  }
 ],
 "metadata": {
  "kernelspec": {
   "display_name": "Python 3 (ipykernel)",
   "language": "python",
   "name": "python3"
  },
  "language_info": {
   "codemirror_mode": {
    "name": "ipython",
    "version": 3
   },
   "file_extension": ".py",
   "mimetype": "text/x-python",
   "name": "python",
   "nbconvert_exporter": "python",
   "pygments_lexer": "ipython3",
   "version": "3.8.16"
  }
 },
 "nbformat": 4,
 "nbformat_minor": 5
}
