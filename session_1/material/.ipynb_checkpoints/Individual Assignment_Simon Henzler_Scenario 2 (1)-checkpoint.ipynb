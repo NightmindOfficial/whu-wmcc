{
 "cells": [
  {
   "cell_type": "code",
   "execution_count": 8,
   "id": "70a62beb",
   "metadata": {},
   "outputs": [],
   "source": [
    "# Simon Henzler - Scenario 2 "
   ]
  },
  {
   "cell_type": "code",
   "execution_count": 1,
   "id": "3886862a",
   "metadata": {},
   "outputs": [],
   "source": [
    "# selenium and BeautifulSoup imports here\n",
    "from selenium import webdriver \n",
    "from bs4 import BeautifulSoup as bs \n",
    "from selenium.webdriver.common.by import By\n",
    "from selenium.webdriver.common.keys import Keys\n",
    "from selenium.webdriver.support.ui import Select\n",
    "from selenium.webdriver.support.ui import WebDriverWait\n",
    "from selenium.common.exceptions import TimeoutException\n",
    "from selenium.webdriver.support import expected_conditions as EC\n",
    "from selenium.common.exceptions import NoSuchElementException\n",
    "from selenium.common.exceptions import NoAlertPresentException\n",
    "from selenium.webdriver.common.action_chains import ActionChains\n",
    "from selenium.webdriver.common.keys import Keys\n",
    "\n",
    "# other imports \n",
    "import os \n",
    "import re\n",
    "import time"
   ]
  },
  {
   "cell_type": "code",
   "execution_count": 5,
   "id": "1350f21f",
   "metadata": {},
   "outputs": [],
   "source": [
    "driver = webdriver.Firefox()"
   ]
  },
  {
   "cell_type": "code",
   "execution_count": 6,
   "id": "86b3043c",
   "metadata": {},
   "outputs": [],
   "source": [
    "# Open Instagram \n",
    "driver.get(\"https://www.instagram.com/accounts/login/\")"
   ]
  },
  {
   "cell_type": "code",
   "execution_count": 192,
   "id": "fc72ce7f",
   "metadata": {},
   "outputs": [],
   "source": [
    "# click on only essential cookies \n",
    "prelogin_cookies =driver.find_element_by_xpath(\"/html/body/div[4]/div/div/button[1][text()='Only Allow Essential Cookies']\")\n",
    "prelogin_cookies.click()"
   ]
  },
  {
   "cell_type": "code",
   "execution_count": 7,
   "id": "a94c3ea5",
   "metadata": {},
   "outputs": [],
   "source": [
    "# Account set up using tempr email address to circumvent log in \n",
    "# using WebDriverWait and expected conditions method - inserted attribute names for username and password identified through website source code\n",
    "username = WebDriverWait(driver, 10).until(EC.element_to_be_clickable((By.CSS_SELECTOR, \"input[name='username']\")))\n",
    "password = WebDriverWait(driver, 10).until(EC.element_to_be_clickable((By.CSS_SELECTOR, \"input[name='password']\")))\n",
    "# clear fields before entering username or password to ensure that there is no error \n",
    "username.clear()\n",
    "password.clear()\n",
    "# insert username and password \n",
    "username.send_keys(\"Chapmate96\")\n",
    "password.send_keys(\"123598wuefoih2395871\")\n",
    "# log in \n",
    "login = WebDriverWait(driver, 10).until(EC.element_to_be_clickable((By.CSS_SELECTOR, \"button[type='submit']\"))).click()\n"
   ]
  },
  {
   "cell_type": "code",
   "execution_count": 194,
   "id": "44a59ea7",
   "metadata": {},
   "outputs": [],
   "source": [
    "# click dont save your login info - looking for elements on source code \n",
    "# have to wait 5 seconds before executing because the page might not be loaded yet, which would result in error \n",
    "time.sleep(5)\n",
    "notnow = driver.find_element_by_xpath(\"//button[contains(text(), 'Not now')]\").click()"
   ]
  },
  {
   "cell_type": "code",
   "execution_count": 195,
   "id": "0367ce0b",
   "metadata": {},
   "outputs": [],
   "source": [
    "# click turn off notifications \n",
    "time.sleep(3)\n",
    "notnow2 = driver.find_element_by_xpath(\"//button[contains(text(), 'Not Now')]\").click()"
   ]
  },
  {
   "cell_type": "code",
   "execution_count": 8,
   "id": "9bafb593",
   "metadata": {},
   "outputs": [
    {
     "ename": "NoSuchElementException",
     "evalue": "Message: Unable to locate element: input[placeholder='Search']\n",
     "output_type": "error",
     "traceback": [
      "\u001b[1;31m---------------------------------------------------------------------------\u001b[0m",
      "\u001b[1;31mNoSuchElementException\u001b[0m                    Traceback (most recent call last)",
      "\u001b[1;32m~\\AppData\\Local\\Temp/ipykernel_17388/2092789352.py\u001b[0m in \u001b[0;36m<module>\u001b[1;34m\u001b[0m\n\u001b[0;32m      1\u001b[0m \u001b[1;31m# search for selected page using elements from source code - selected _______\u001b[0m\u001b[1;33m\u001b[0m\u001b[1;33m\u001b[0m\u001b[1;33m\u001b[0m\u001b[0m\n\u001b[0;32m      2\u001b[0m \u001b[0mtime\u001b[0m\u001b[1;33m.\u001b[0m\u001b[0msleep\u001b[0m\u001b[1;33m(\u001b[0m\u001b[1;36m3\u001b[0m\u001b[1;33m)\u001b[0m\u001b[1;33m\u001b[0m\u001b[1;33m\u001b[0m\u001b[0m\n\u001b[1;32m----> 3\u001b[1;33m \u001b[0msearch\u001b[0m \u001b[1;33m=\u001b[0m \u001b[0mdriver\u001b[0m\u001b[1;33m.\u001b[0m\u001b[0mfind_element_by_css_selector\u001b[0m\u001b[1;33m(\u001b[0m\u001b[1;34m\"input[placeholder='Search']\"\u001b[0m\u001b[1;33m)\u001b[0m\u001b[1;33m\u001b[0m\u001b[1;33m\u001b[0m\u001b[0m\n\u001b[0m\u001b[0;32m      4\u001b[0m \u001b[1;31m# ensure searchvox is clear\u001b[0m\u001b[1;33m\u001b[0m\u001b[1;33m\u001b[0m\u001b[1;33m\u001b[0m\u001b[0m\n\u001b[0;32m      5\u001b[0m \u001b[0msearch\u001b[0m\u001b[1;33m.\u001b[0m\u001b[0mclear\u001b[0m\u001b[1;33m(\u001b[0m\u001b[1;33m)\u001b[0m\u001b[1;33m\u001b[0m\u001b[1;33m\u001b[0m\u001b[0m\n",
      "\u001b[1;32m~\\anaconda3\\envs\\wm2022\\lib\\site-packages\\selenium\\webdriver\\remote\\webdriver.py\u001b[0m in \u001b[0;36mfind_element_by_css_selector\u001b[1;34m(self, css_selector)\u001b[0m\n\u001b[0;32m    596\u001b[0m             \u001b[0melement\u001b[0m \u001b[1;33m=\u001b[0m \u001b[0mdriver\u001b[0m\u001b[1;33m.\u001b[0m\u001b[0mfind_element_by_css_selector\u001b[0m\u001b[1;33m(\u001b[0m\u001b[1;34m'#foo'\u001b[0m\u001b[1;33m)\u001b[0m\u001b[1;33m\u001b[0m\u001b[1;33m\u001b[0m\u001b[0m\n\u001b[0;32m    597\u001b[0m         \"\"\"\n\u001b[1;32m--> 598\u001b[1;33m         \u001b[1;32mreturn\u001b[0m \u001b[0mself\u001b[0m\u001b[1;33m.\u001b[0m\u001b[0mfind_element\u001b[0m\u001b[1;33m(\u001b[0m\u001b[0mby\u001b[0m\u001b[1;33m=\u001b[0m\u001b[0mBy\u001b[0m\u001b[1;33m.\u001b[0m\u001b[0mCSS_SELECTOR\u001b[0m\u001b[1;33m,\u001b[0m \u001b[0mvalue\u001b[0m\u001b[1;33m=\u001b[0m\u001b[0mcss_selector\u001b[0m\u001b[1;33m)\u001b[0m\u001b[1;33m\u001b[0m\u001b[1;33m\u001b[0m\u001b[0m\n\u001b[0m\u001b[0;32m    599\u001b[0m \u001b[1;33m\u001b[0m\u001b[0m\n\u001b[0;32m    600\u001b[0m     \u001b[1;32mdef\u001b[0m \u001b[0mfind_elements_by_css_selector\u001b[0m\u001b[1;33m(\u001b[0m\u001b[0mself\u001b[0m\u001b[1;33m,\u001b[0m \u001b[0mcss_selector\u001b[0m\u001b[1;33m)\u001b[0m\u001b[1;33m:\u001b[0m\u001b[1;33m\u001b[0m\u001b[1;33m\u001b[0m\u001b[0m\n",
      "\u001b[1;32m~\\anaconda3\\envs\\wm2022\\lib\\site-packages\\selenium\\webdriver\\remote\\webdriver.py\u001b[0m in \u001b[0;36mfind_element\u001b[1;34m(self, by, value)\u001b[0m\n\u001b[0;32m    974\u001b[0m                 \u001b[0mby\u001b[0m \u001b[1;33m=\u001b[0m \u001b[0mBy\u001b[0m\u001b[1;33m.\u001b[0m\u001b[0mCSS_SELECTOR\u001b[0m\u001b[1;33m\u001b[0m\u001b[1;33m\u001b[0m\u001b[0m\n\u001b[0;32m    975\u001b[0m                 \u001b[0mvalue\u001b[0m \u001b[1;33m=\u001b[0m \u001b[1;34m'[name=\"%s\"]'\u001b[0m \u001b[1;33m%\u001b[0m \u001b[0mvalue\u001b[0m\u001b[1;33m\u001b[0m\u001b[1;33m\u001b[0m\u001b[0m\n\u001b[1;32m--> 976\u001b[1;33m         return self.execute(Command.FIND_ELEMENT, {\n\u001b[0m\u001b[0;32m    977\u001b[0m             \u001b[1;34m'using'\u001b[0m\u001b[1;33m:\u001b[0m \u001b[0mby\u001b[0m\u001b[1;33m,\u001b[0m\u001b[1;33m\u001b[0m\u001b[1;33m\u001b[0m\u001b[0m\n\u001b[0;32m    978\u001b[0m             'value': value})['value']\n",
      "\u001b[1;32m~\\anaconda3\\envs\\wm2022\\lib\\site-packages\\selenium\\webdriver\\remote\\webdriver.py\u001b[0m in \u001b[0;36mexecute\u001b[1;34m(self, driver_command, params)\u001b[0m\n\u001b[0;32m    319\u001b[0m         \u001b[0mresponse\u001b[0m \u001b[1;33m=\u001b[0m \u001b[0mself\u001b[0m\u001b[1;33m.\u001b[0m\u001b[0mcommand_executor\u001b[0m\u001b[1;33m.\u001b[0m\u001b[0mexecute\u001b[0m\u001b[1;33m(\u001b[0m\u001b[0mdriver_command\u001b[0m\u001b[1;33m,\u001b[0m \u001b[0mparams\u001b[0m\u001b[1;33m)\u001b[0m\u001b[1;33m\u001b[0m\u001b[1;33m\u001b[0m\u001b[0m\n\u001b[0;32m    320\u001b[0m         \u001b[1;32mif\u001b[0m \u001b[0mresponse\u001b[0m\u001b[1;33m:\u001b[0m\u001b[1;33m\u001b[0m\u001b[1;33m\u001b[0m\u001b[0m\n\u001b[1;32m--> 321\u001b[1;33m             \u001b[0mself\u001b[0m\u001b[1;33m.\u001b[0m\u001b[0merror_handler\u001b[0m\u001b[1;33m.\u001b[0m\u001b[0mcheck_response\u001b[0m\u001b[1;33m(\u001b[0m\u001b[0mresponse\u001b[0m\u001b[1;33m)\u001b[0m\u001b[1;33m\u001b[0m\u001b[1;33m\u001b[0m\u001b[0m\n\u001b[0m\u001b[0;32m    322\u001b[0m             response['value'] = self._unwrap_value(\n\u001b[0;32m    323\u001b[0m                 response.get('value', None))\n",
      "\u001b[1;32m~\\anaconda3\\envs\\wm2022\\lib\\site-packages\\selenium\\webdriver\\remote\\errorhandler.py\u001b[0m in \u001b[0;36mcheck_response\u001b[1;34m(self, response)\u001b[0m\n\u001b[0;32m    240\u001b[0m                 \u001b[0malert_text\u001b[0m \u001b[1;33m=\u001b[0m \u001b[0mvalue\u001b[0m\u001b[1;33m[\u001b[0m\u001b[1;34m'alert'\u001b[0m\u001b[1;33m]\u001b[0m\u001b[1;33m.\u001b[0m\u001b[0mget\u001b[0m\u001b[1;33m(\u001b[0m\u001b[1;34m'text'\u001b[0m\u001b[1;33m)\u001b[0m\u001b[1;33m\u001b[0m\u001b[1;33m\u001b[0m\u001b[0m\n\u001b[0;32m    241\u001b[0m             \u001b[1;32mraise\u001b[0m \u001b[0mexception_class\u001b[0m\u001b[1;33m(\u001b[0m\u001b[0mmessage\u001b[0m\u001b[1;33m,\u001b[0m \u001b[0mscreen\u001b[0m\u001b[1;33m,\u001b[0m \u001b[0mstacktrace\u001b[0m\u001b[1;33m,\u001b[0m \u001b[0malert_text\u001b[0m\u001b[1;33m)\u001b[0m\u001b[1;33m\u001b[0m\u001b[1;33m\u001b[0m\u001b[0m\n\u001b[1;32m--> 242\u001b[1;33m         \u001b[1;32mraise\u001b[0m \u001b[0mexception_class\u001b[0m\u001b[1;33m(\u001b[0m\u001b[0mmessage\u001b[0m\u001b[1;33m,\u001b[0m \u001b[0mscreen\u001b[0m\u001b[1;33m,\u001b[0m \u001b[0mstacktrace\u001b[0m\u001b[1;33m)\u001b[0m\u001b[1;33m\u001b[0m\u001b[1;33m\u001b[0m\u001b[0m\n\u001b[0m\u001b[0;32m    243\u001b[0m \u001b[1;33m\u001b[0m\u001b[0m\n\u001b[0;32m    244\u001b[0m     \u001b[1;32mdef\u001b[0m \u001b[0m_value_or_default\u001b[0m\u001b[1;33m(\u001b[0m\u001b[0mself\u001b[0m\u001b[1;33m,\u001b[0m \u001b[0mobj\u001b[0m\u001b[1;33m,\u001b[0m \u001b[0mkey\u001b[0m\u001b[1;33m,\u001b[0m \u001b[0mdefault\u001b[0m\u001b[1;33m)\u001b[0m\u001b[1;33m:\u001b[0m\u001b[1;33m\u001b[0m\u001b[1;33m\u001b[0m\u001b[0m\n",
      "\u001b[1;31mNoSuchElementException\u001b[0m: Message: Unable to locate element: input[placeholder='Search']\n"
     ]
    }
   ],
   "source": [
    "# search for selected page using elements from source code - selected _______ \n",
    "time.sleep(3)\n",
    "search = driver.find_element_by_css_selector(\"input[placeholder='Search']\")\n",
    "# ensure searchvox is clear\n",
    "search.clear()\n",
    "# use send keys to enter search query \n",
    "search.send_keys(\"vfb stuttgart\")\n",
    "# click search - performed twice in case of error \n",
    "time.sleep(1)\n",
    "search.send_keys(Keys.ENTER)\n",
    "time.sleep(3)\n",
    "search.send_keys(Keys.ENTER)"
   ]
  },
  {
   "cell_type": "markdown",
   "id": "172af3c5",
   "metadata": {},
   "source": [
    "# Extracting Post URLs attempt 1 (WIP)"
   ]
  },
  {
   "cell_type": "code",
   "execution_count": 309,
   "id": "6a6368dc",
   "metadata": {},
   "outputs": [
    {
     "name": "stdout",
     "output_type": "stream",
     "text": [
      "['https://www.instagram.com/p/CchfSoXFjB3/', 'https://www.instagram.com/p/Cce7Y5hoWpQ/', 'https://www.instagram.com/p/Cccz92jqMAL/', 'https://www.instagram.com/p/CccWnZ_qFHJ/', 'https://www.instagram.com/p/CcatOBWq-S9/', 'https://www.instagram.com/p/CcakptCMqdc/', 'https://www.instagram.com/p/CcaGYYlqeeN/', 'https://www.instagram.com/p/CcZ4rQ1qZKZ/', 'https://www.instagram.com/p/CcZuVcaK7Fi/', 'https://www.instagram.com/p/CcXNCM2KVNC/', 'https://www.instagram.com/p/CcUoVTfqUJf/', 'https://www.instagram.com/p/CcSDe3dKAxQ/', 'https://www.instagram.com/p/CcQGWTwKkx1/', 'https://www.instagram.com/p/CcPepHeKtfF/', 'https://www.instagram.com/p/CcNz0eeKQUE/', 'https://www.instagram.com/p/CcM5dO9oNkx/', 'https://www.instagram.com/p/CcKVAUCK4zs/', 'https://www.instagram.com/p/CcIoSz9sIhi/', 'https://www.instagram.com/p/CcHwQ8YqsDF/', 'https://www.instagram.com/p/CcGpbK3MFSo/', 'https://www.instagram.com/p/CcGhJA_MI6p/', 'https://www.instagram.com/p/CcGCaRbodJj/', 'https://www.instagram.com/p/CcFtzPBo3lk/', 'https://www.instagram.com/p/CcFSO9jKqRK/', 'https://www.instagram.com/p/CcFLck5qxv8/', 'https://www.instagram.com/p/CcCjP9qKtCj/', 'https://www.instagram.com/p/CcAB1ZrqNq3/', 'https://www.instagram.com/p/Cb-HwK2FOJJ/', 'https://www.instagram.com/p/Cb91BHaqwrI/', 'https://www.instagram.com/p/Cb9hp0KKRlK/', 'https://www.instagram.com/p/Cb7y37yFk9s/', 'https://www.instagram.com/p/Cb64QPsqWLy/', 'https://www.instagram.com/p/Cb4TbJyouBJ/', 'https://www.instagram.com/p/Cb2p1qMMoiK/', 'https://www.instagram.com/p/Cb2hb43M587/', 'https://www.instagram.com/p/Cb2fL-SMixw/']\n"
     ]
    }
   ],
   "source": [
    "def extract(browser, url):\n",
    "    header = {\"User-Agent\": \"Mozilla/5.0 (Windows NT 10.0; Win64; x64) AppleWebKit/537.36 (KHTML, like Gecko) Chrome/87.0.4280.88 Safari/537.36 OPR/73.0.3856.329\"}\n",
    "    requests.get(url, headers = header)\n",
    "    #SCROLL DOWN\n",
    "    posts = []\n",
    "    links = driver.find_elements_by_tag_name(\"a\")\n",
    "    print(\"This process maybe it will take like 2 minutes\")\n",
    "    while True:\n",
    "        for i in range(10):\n",
    "            ActionChains(driver).send_keys(Keys.END).perform()\n",
    "            time.sleep(1)\n",
    "        #GET THE URLS\n",
    "        for link in links:\n",
    "            post = link.get_attribute(\"href\")\n",
    "            \n",
    "            if \"/p/\" in post: \n",
    "                posts.append(post)\n",
    "                last_height = new_height\n",
    "print(posts)"
   ]
  },
  {
   "cell_type": "markdown",
   "id": "644da0ee",
   "metadata": {},
   "source": [
    "# # Extracting Post URLs attempt 2 (WIP)"
   ]
  },
  {
   "cell_type": "code",
   "execution_count": 308,
   "id": "e0b6fd66",
   "metadata": {},
   "outputs": [],
   "source": [
    "# scroll using a for loop 15 times to reach around post 400 of most recent on the page \n",
    "for i in range(15):\n",
    "    ActionChains(driver).send_keys(Keys.END).perform()\n",
    "    time.sleep(1)\n",
    "time.sleep(10)"
   ]
  },
  {
   "cell_type": "code",
   "execution_count": 285,
   "id": "dcc45781",
   "metadata": {},
   "outputs": [
    {
     "name": "stdout",
     "output_type": "stream",
     "text": [
      "['https://www.instagram.com/p/CchfSoXFjB3/', 'https://www.instagram.com/p/Cce7Y5hoWpQ/', 'https://www.instagram.com/p/Cccz92jqMAL/', 'https://www.instagram.com/p/CccWnZ_qFHJ/', 'https://www.instagram.com/p/CcatOBWq-S9/', 'https://www.instagram.com/p/CcakptCMqdc/', 'https://www.instagram.com/p/CcaGYYlqeeN/', 'https://www.instagram.com/p/CcZ4rQ1qZKZ/', 'https://www.instagram.com/p/CcZuVcaK7Fi/', 'https://www.instagram.com/p/CcXNCM2KVNC/', 'https://www.instagram.com/p/CcUoVTfqUJf/', 'https://www.instagram.com/p/CcSDe3dKAxQ/', 'https://www.instagram.com/p/CcQGWTwKkx1/', 'https://www.instagram.com/p/CcPepHeKtfF/', 'https://www.instagram.com/p/CcNz0eeKQUE/', 'https://www.instagram.com/p/CcM5dO9oNkx/', 'https://www.instagram.com/p/CcKVAUCK4zs/', 'https://www.instagram.com/p/CcIoSz9sIhi/', 'https://www.instagram.com/p/CcHwQ8YqsDF/', 'https://www.instagram.com/p/CcGpbK3MFSo/', 'https://www.instagram.com/p/CcGhJA_MI6p/', 'https://www.instagram.com/p/CcGCaRbodJj/', 'https://www.instagram.com/p/CcFtzPBo3lk/', 'https://www.instagram.com/p/CcFSO9jKqRK/', 'https://www.instagram.com/p/CcFLck5qxv8/', 'https://www.instagram.com/p/CcCjP9qKtCj/', 'https://www.instagram.com/p/CcAB1ZrqNq3/', 'https://www.instagram.com/p/Cb-HwK2FOJJ/', 'https://www.instagram.com/p/Cb91BHaqwrI/', 'https://www.instagram.com/p/Cb9hp0KKRlK/', 'https://www.instagram.com/p/Cb7y37yFk9s/', 'https://www.instagram.com/p/Cb64QPsqWLy/', 'https://www.instagram.com/p/Cb4TbJyouBJ/', 'https://www.instagram.com/p/Cb2p1qMMoiK/', 'https://www.instagram.com/p/Cb2hb43M587/', 'https://www.instagram.com/p/Cb2fL-SMixw/']\n"
     ]
    }
   ],
   "source": [
    "# scroll through to post number 400\n",
    "# scrolldown = driver.execute_script(\"window.scrollTo(0, document.body.scrollHeight);var scrolldown=document.body.scrollHeight;return scrolldown;\")\n",
    "# match=False\n",
    "# while(match==False):\n",
    "     # last_count = scrolldown\n",
    "     # time.sleep(3)\n",
    "     # scrolldown = driver.execute_script(\"window.scrollTo(0, document.body.scrollHeight);var scrolldown=document.body.scrollHeight;return scrolldown;\")\n",
    "    # if last_count==scrolldown:\n",
    "        # match=True\n",
    "# time.sleep(10)\n",
    "# create a list to fill with all the links to the posts \n",
    "posts = []\n",
    "links = driver.find_elements_by_tag_name(\"a\")\n",
    "# create a loop to iterate through the href url links and add them to the posts list \n",
    "for link in links:\n",
    "    post = link.get_attribute(\"href\")\n",
    "    if \"/p/\" in post: \n",
    "        posts.append(post)\n",
    "print(posts)"
   ]
  },
  {
   "cell_type": "code",
   "execution_count": 282,
   "id": "8c4d1f08",
   "metadata": {},
   "outputs": [
    {
     "name": "stdout",
     "output_type": "stream",
     "text": [
      "0\n"
     ]
    }
   ],
   "source": [
    "print(len(posts))"
   ]
  },
  {
   "cell_type": "markdown",
   "id": "d9d91675",
   "metadata": {},
   "source": [
    "# Saving images to computer --> TBD if needed "
   ]
  },
  {
   "cell_type": "code",
   "execution_count": null,
   "id": "77367a84",
   "metadata": {},
   "outputs": [],
   "source": [
    "# scroll through to post number\n",
    "driver.execute_script(\"window.scrollTo(0, 400);\")\n",
    "# extract all the images from the page \n",
    "images = driver.find_elements_by_tag_name(\"img\")\n",
    "# target image source with list comprehensions to get links \n",
    "images = [image.get_attribute(\"src\") for image in images]\n",
    "images"
   ]
  },
  {
   "cell_type": "code",
   "execution_count": 77,
   "id": "5d477dbe",
   "metadata": {},
   "outputs": [
    {
     "data": {
      "text/plain": [
       "'/Users/simonhenzler/Desktop/WHU/Web Mining/Individual Assignment/pictures'"
      ]
     },
     "execution_count": 77,
     "metadata": {},
     "output_type": "execute_result"
    }
   ],
   "source": [
    "# Navigate to where notebook is saved \n",
    "path = os.getcwd()\n",
    "# add another folder with join \n",
    "path = os.path.join(path, \"pictures\")\n",
    "# make the directory and check that it worked \n",
    "os.mkdir(path)\n",
    "path"
   ]
  },
  {
   "cell_type": "code",
   "execution_count": null,
   "id": "17653a59",
   "metadata": {},
   "outputs": [],
   "source": [
    "#https://www.youtube.com/watch?v=iJGvYBH9mcY --> used for explenation "
   ]
  },
  {
   "cell_type": "markdown",
   "id": "b64599f5",
   "metadata": {},
   "source": [
    "# Scraping likes, followers and comments (WIP)"
   ]
  },
  {
   "cell_type": "code",
   "execution_count": null,
   "id": "d4195a73",
   "metadata": {},
   "outputs": [],
   "source": [
    "# extract all the comments from the page \n",
    "comments = driver.find_elements_by_tag_name(\"\")"
   ]
  },
  {
   "cell_type": "code",
   "execution_count": null,
   "id": "db088915",
   "metadata": {},
   "outputs": [],
   "source": [
    "# extract all the likes from the page \n",
    "likes = driver.find_elements_by_tag_name(\"\")"
   ]
  }
 ],
 "metadata": {
  "kernelspec": {
   "display_name": "Python 3 (ipykernel)",
   "language": "python",
   "name": "python3"
  },
  "language_info": {
   "codemirror_mode": {
    "name": "ipython",
    "version": 3
   },
   "file_extension": ".py",
   "mimetype": "text/x-python",
   "name": "python",
   "nbconvert_exporter": "python",
   "pygments_lexer": "ipython3",
   "version": "3.8.12"
  }
 },
 "nbformat": 4,
 "nbformat_minor": 5
}
