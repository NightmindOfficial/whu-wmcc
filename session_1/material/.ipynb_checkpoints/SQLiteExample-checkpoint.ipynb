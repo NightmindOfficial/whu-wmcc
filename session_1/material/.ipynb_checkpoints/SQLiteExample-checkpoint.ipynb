{
 "cells": [
  {
   "cell_type": "markdown",
   "metadata": {},
   "source": [
    "# SQLite"
   ]
  },
  {
   "cell_type": "markdown",
   "metadata": {},
   "source": [
    "Download SQLite Studio: https://sqlitestudio.pl/\n",
    "Install SQLite Studio: Extract the zip file"
   ]
  },
  {
   "cell_type": "markdown",
   "metadata": {},
   "source": [
    "![sqlite01.PNG](images/sqlite01.PNG)"
   ]
  },
  {
   "cell_type": "markdown",
   "metadata": {},
   "source": [
    "* Create a new database in SQLite Studio and name it \"starwars.db\". \n",
    "* Store the file in the same directoy as this Jupyter notebook file. \n",
    "* Execute the SQL commands stored in starwars.text to fill the database."
   ]
  },
  {
   "cell_type": "markdown",
   "metadata": {},
   "source": [
    "![sqlite02.PNG](images/sqlite02.PNG)"
   ]
  },
  {
   "cell_type": "markdown",
   "metadata": {},
   "source": [
    "![sqlite03.PNG](images/sqlite03.PNG)"
   ]
  },
  {
   "cell_type": "markdown",
   "metadata": {},
   "source": [
    "Let's explore the database using SQL statements\n",
    "```\n",
    "Select * from people\n",
    "\n",
    "Select people.name from people where people.height<100\n",
    "\n",
    "Select people.name,people.height from people where people.height<100 order by people.height ASC\n",
    "\n",
    "Select people.name, planet.name from people, planet where people.planet_id=planet.id and people.eye_color='blue'\n",
    "\n",
    "Select * from planet where planet.terrain like '%desert%'\n",
    "```"
   ]
  },
  {
   "cell_type": "markdown",
   "metadata": {},
   "source": [
    "Install the python library for sqlite\n",
    "```Python\n",
    "conda install sqlite\n",
    "```"
   ]
  },
  {
   "cell_type": "code",
   "execution_count": null,
   "metadata": {},
   "outputs": [],
   "source": [
    "import sqlite3\n",
    "import pandas as pd\n",
    "\n",
    "# Create or connect to an existing database\n",
    "connection = sqlite3.connect('starwars.db')"
   ]
  },
  {
   "cell_type": "code",
   "execution_count": null,
   "metadata": {},
   "outputs": [],
   "source": [
    "# Select data\n",
    "ret=connection.execute(\"select * from people\")"
   ]
  },
  {
   "cell_type": "code",
   "execution_count": null,
   "metadata": {},
   "outputs": [],
   "source": [
    "# Fetchall\n",
    "ret.fetchall()"
   ]
  },
  {
   "cell_type": "code",
   "execution_count": null,
   "metadata": {
    "scrolled": true
   },
   "outputs": [],
   "source": [
    "# Load data directly into a dataframe\n",
    "sqlquery = pd.read_sql_query(\"Select * from people\", connection)\n",
    "df = pd.DataFrame(sqlquery)\n",
    "df"
   ]
  },
  {
   "cell_type": "markdown",
   "metadata": {},
   "source": [
    "Calculate interesting statistics"
   ]
  },
  {
   "cell_type": "code",
   "execution_count": null,
   "metadata": {},
   "outputs": [],
   "source": [
    "df.groupby(\"planet_id\")[\"height\"].mean()"
   ]
  },
  {
   "cell_type": "code",
   "execution_count": null,
   "metadata": {},
   "outputs": [],
   "source": []
  }
 ],
 "metadata": {
  "kernelspec": {
   "display_name": "Python 3",
   "language": "python",
   "name": "python3"
  },
  "language_info": {
   "codemirror_mode": {
    "name": "ipython",
    "version": 3
   },
   "file_extension": ".py",
   "mimetype": "text/x-python",
   "name": "python",
   "nbconvert_exporter": "python",
   "pygments_lexer": "ipython3",
   "version": "3.6.12"
  }
 },
 "nbformat": 4,
 "nbformat_minor": 4
}
