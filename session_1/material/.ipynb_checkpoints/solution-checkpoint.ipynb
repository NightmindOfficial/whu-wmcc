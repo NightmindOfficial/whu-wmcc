{
 "cells": [
  {
   "cell_type": "markdown",
   "id": "64a20d3f",
   "metadata": {},
   "source": [
    "## Imports"
   ]
  },
  {
   "cell_type": "code",
   "execution_count": 1,
   "id": "a5001647",
   "metadata": {},
   "outputs": [],
   "source": [
    "#imports here\n",
    "from selenium import webdriver\n",
    "from selenium.webdriver.common.keys import Keys\n",
    "from selenium.webdriver.support import expected_conditions as EC\n",
    "from selenium.webdriver.common.by import By\n",
    "from selenium.webdriver.support.wait import WebDriverWait\n",
    "import time\n",
    "from urllib.parse import urlparse\n"
   ]
  },
  {
   "cell_type": "code",
   "execution_count": 2,
   "id": "b2c192f4",
   "metadata": {},
   "outputs": [],
   "source": [
    "# conda install beautifulsoup4\n",
    "# pip install requests\n",
    "import requests\n",
    "from bs4 import BeautifulSoup"
   ]
  },
  {
   "cell_type": "markdown",
   "id": "082e9afa",
   "metadata": {},
   "source": [
    "##Get the Driver"
   ]
  },
  {
   "cell_type": "code",
   "execution_count": 41,
   "id": "7d47d929",
   "metadata": {},
   "outputs": [],
   "source": [
    "#specify the path to chromedriver.exe (download and save on your computer)\n",
    "driver = webdriver.Firefox()\n",
    "driver.get(\"https://www.instagram.com/\")\n",
    "##deal with popups\n"
   ]
  },
  {
   "cell_type": "markdown",
   "id": "9a2233f3",
   "metadata": {},
   "source": [
    "#Log Into Instagram"
   ]
  },
  {
   "cell_type": "code",
   "execution_count": 42,
   "id": "b7b8a133",
   "metadata": {},
   "outputs": [],
   "source": [
    "#https://www.youtube.com/watch?v=iJGvYBH9mcY\n",
    "#target username\n",
    "username = WebDriverWait(driver, 10).until(EC.element_to_be_clickable((By.CSS_SELECTOR, \"input[name='username']\")))\n",
    "password = WebDriverWait(driver, 10).until(EC.element_to_be_clickable((By.CSS_SELECTOR, \"input[name='password']\")))\n",
    "\n",
    "#enter username and password\n",
    "username.clear()\n",
    "username.send_keys(\"sweetnsauer18\")\n",
    "time.sleep(4)\n",
    "password.clear()\n",
    "password.send_keys(\"301017\")\n",
    "\n",
    "#target the login button and click it\n",
    "button = WebDriverWait(driver, 2).until(EC.element_to_be_clickable((By.CSS_SELECTOR, \"button[type='submit']\"))).click()\n",
    "\n",
    "#We are logged in!"
   ]
  },
  {
   "cell_type": "code",
   "execution_count": 5,
   "id": "198117ff",
   "metadata": {},
   "outputs": [],
   "source": [
    "time.sleep(5)\n",
    "alert = WebDriverWait(driver, 15).until(EC.element_to_be_clickable((By.XPATH, '//button[contains(text(), \"Not Now\")]'))).click()\n",
    "#alert2 = WebDriverWait(driver, 15).until(EC.element_to_be_clickable((By.XPATH, '//button[contains(text(), \"Not Now\")]'))).click()"
   ]
  },
  {
   "cell_type": "code",
   "execution_count": 6,
   "id": "4956203c",
   "metadata": {},
   "outputs": [],
   "source": [
    "time.sleep(2)\n",
    "alert = WebDriverWait(driver, 15).until(EC.element_to_be_clickable((By.XPATH, '//button[contains(text(), \"Not Now\")]'))).click()\n",
    "#alert2 = WebDriverWait(driver, 15).until(EC.element_to_be_clickable((By.XPATH, '//button[contains(text(), \"Not Now\")]'))).click()"
   ]
  },
  {
   "cell_type": "markdown",
   "id": "7944f087",
   "metadata": {},
   "source": [
    "#Navigate to the page"
   ]
  },
  {
   "cell_type": "code",
   "execution_count": 43,
   "id": "7c88b960",
   "metadata": {},
   "outputs": [],
   "source": [
    "#target the search input field\n",
    "searchbox = WebDriverWait(driver, 10).until(EC.element_to_be_clickable((By.XPATH, \"//input[@placeholder='Suchen']\")))\n",
    "searchbox.clear()\n",
    "\n",
    "#search for the adidas page\n",
    "keyword = \"beyondmeat\"\n",
    "searchbox.send_keys(keyword)\n",
    "time.sleep(5)\n",
    "searchbox.send_keys(Keys.ENTER)\n",
    "\n",
    "searchbox.send_keys(Keys.ENTER)"
   ]
  },
  {
   "cell_type": "markdown",
   "id": "86250c58",
   "metadata": {},
   "source": [
    "Scroll"
   ]
  },
  {
   "cell_type": "code",
   "execution_count": 8,
   "id": "519ea1b2",
   "metadata": {},
   "outputs": [],
   "source": [
    "for i in range(1):\n",
    "    driver.execute_script(\"window.scrollTo(0,document.body.scrollHeight);\")\n",
    "    time.sleep(2)"
   ]
  },
  {
   "cell_type": "markdown",
   "id": "ed9c6f52",
   "metadata": {},
   "source": [
    "# Get Post Links"
   ]
  },
  {
   "cell_type": "code",
   "execution_count": 44,
   "id": "1a5230a0",
   "metadata": {},
   "outputs": [
    {
     "name": "stdout",
     "output_type": "stream",
     "text": [
      "Number of scraped links:  24\n",
      "['https://www.instagram.com/p/CcqaU6vJQ5h/', 'https://www.instagram.com/p/CcoV0h8PTsX/', 'https://www.instagram.com/p/Cciaq23jgbb/', 'https://www.instagram.com/p/CcfyIsXr_Ol/', 'https://www.instagram.com/p/CcYUhXKpLLa/', 'https://www.instagram.com/p/CcVhM2wF-us/', 'https://www.instagram.com/p/CcQRJ5OAwju/', 'https://www.instagram.com/p/CcMRWwQp3rT/', 'https://www.instagram.com/p/CcGuYXuPFrO/', 'https://www.instagram.com/p/CcDa4t8rz19/', 'https://www.instagram.com/p/Cb-rrbfAf5u/', 'https://www.instagram.com/p/Cb7rJrbg09-/', 'https://www.instagram.com/p/Cb5rHJzPBh4/', 'https://www.instagram.com/p/CbxoxS7rTT0/', 'https://www.instagram.com/p/CbvjHOPgvZC/', 'https://www.instagram.com/p/CbqsOjCpp6V/', 'https://www.instagram.com/p/CbiG9dfL9-U/', 'https://www.instagram.com/p/CbdoAv5vsRc/', 'https://www.instagram.com/p/CbctERULiBA/', 'https://www.instagram.com/p/CbYp9Cag0ii/', 'https://www.instagram.com/p/CbQ7t1Bv3KI/', 'https://www.instagram.com/p/CbNhpYNgrLV/', 'https://www.instagram.com/p/CbIIXYAgW97/', 'https://www.instagram.com/p/CbGc16ePEnE/']\n"
     ]
    }
   ],
   "source": [
    "#empty list for storing links\n",
    "links = []\n",
    "#anchor node\n",
    "lists = driver.find_elements_by_tag_name('a')\n",
    "for lis in lists:\n",
    "    link = lis.get_attribute('href')\n",
    "    if '/p/' in link:\n",
    "        links.append(link)\n",
    "    \n",
    "print('Number of scraped links: ', len(links))\n",
    "print(links)"
   ]
  },
  {
   "cell_type": "markdown",
   "id": "47d20d5c",
   "metadata": {},
   "source": [
    "# Create Function Library"
   ]
  },
  {
   "cell_type": "code",
   "execution_count": 56,
   "id": "42a70b59",
   "metadata": {},
   "outputs": [],
   "source": [
    "#define functions to use later\n",
    "def fetch_captions():\n",
    "    captions=soup.find_all('span',{'class':\"_7UhW9 xLCgt MMzan KV-D4 se6yk T0kll\"})\n",
    "    captions_cl=[]\n",
    "    for caption in captions:\n",
    "        caption_cl=caption.text\n",
    "        captions_cl.append(caption_cl)\n",
    "        return caption_cl   \n",
    "def fetch_comments():\n",
    "    comments=soup.find_all('span',{'class':\"_7UhW9 xLCgt MMzan KV-D4 se6yk T0kll\"})\n",
    "    comments_cl=[]\n",
    "    for comment in comments:\n",
    "        comment_cl=comment.text\n",
    "        comments_cl.append(comment_cl)\n",
    "    return comments_cl\n",
    "\n",
    "def get_images():\n",
    "    images = soup.find_all('img',{'class':\"FFVAD\"})\n",
    "    images_cl=[]\n",
    "    if (len(images)>0):\n",
    "        print(images[0])\n",
    "        image_cl=images[0][\"src\"]  \n",
    "        images_cl.append(image_cl)\n",
    "    return images_cl\n"
   ]
  },
  {
   "cell_type": "markdown",
   "id": "7e500e56",
   "metadata": {},
   "source": [
    "# Cycle through each URL to get HTML\n",
    "##Scrape Comments, Images, and Captions from each post"
   ]
  },
  {
   "cell_type": "code",
   "execution_count": 57,
   "id": "454c68ac",
   "metadata": {
    "scrolled": false
   },
   "outputs": [
    {
     "name": "stdout",
     "output_type": "stream",
     "text": [
      "https://www.instagram.com/p/CcqaU6vJQ5h/\n",
      "<img alt=\"👀\" class=\"FFVAD\" crossorigin=\"anonymous\" src=\"https://scontent-ham3-1.cdninstagram.com/v/t51.2885-15/278894167_408414647370855_7680173240456342713_n.jpg?stp=dst-jpg_e35&amp;_nc_ht=scontent-ham3-1.cdninstagram.com&amp;_nc_cat=103&amp;_nc_ohc=pjdXfTntr3oAX__YyDa&amp;edm=APU89FABAAAA&amp;ccb=7-4&amp;oh=00_AT-n7lx0CcEHddCj1uuv6-ZIVe7BNgMCDp26QkVYqVJu0w&amp;oe=626B195E&amp;_nc_sid=86f79a\" style=\"object-fit: cover;\"/>\n",
      "1\n",
      "https://www.instagram.com/p/CcoV0h8PTsX/\n",
      "<img class=\"FFVAD\" crossorigin=\"anonymous\" src=\"https://scontent-ham3-1.cdninstagram.com/v/t51.2885-15/278894167_408414647370855_7680173240456342713_n.jpg?stp=dst-jpg_e35&amp;_nc_ht=scontent-ham3-1.cdninstagram.com&amp;_nc_cat=103&amp;_nc_ohc=pjdXfTntr3oAX__YyDa&amp;edm=AABBvjUBAAAA&amp;ccb=7-4&amp;ig_cache_key=MjgyMTYwMTEzMDk4NTYxMjQ4Ng%3D%3D.2-ccb7-4&amp;oh=00_AT-vsqgOXpHaT3MTEKBc8wWRLO_0dQcS2_LYrCkvfG1F2A&amp;oe=626B195E&amp;_nc_sid=83d603\" style=\"object-fit: cover;\"/>\n",
      "2\n",
      "https://www.instagram.com/p/Cciaq23jgbb/\n",
      "<img class=\"FFVAD\" crossorigin=\"anonymous\" decoding=\"auto\" sizes=\"283px\" src=\"https://scontent-ham3-1.cdninstagram.com/v/t51.2885-15/278930662_710988586907973_8459213589674904057_n.jpg?stp=c0.90.720.720a_dst-jpg_e15_s640x640&amp;_nc_ht=scontent-ham3-1.cdninstagram.com&amp;_nc_cat=109&amp;_nc_ohc=rcK23yMORDkAX9-4geN&amp;tn=QAjGcsPYrcll-VfW&amp;edm=APU89FABAAAA&amp;ccb=7-4&amp;oh=00_AT_Ow9BWY1E0sKZ1I4xWGHFHoMTZ1MXiOKcVLlRvMoT4_A&amp;oe=6266CD1F&amp;_nc_sid=86f79a\" srcset=\"https://scontent-ham3-1.cdninstagram.com/v/t51.2885-15/278930662_710988586907973_8459213589674904057_n.jpg?stp=dst-jpg_e15_p150x150&amp;_nc_ht=scontent-ham3-1.cdninstagram.com&amp;_nc_cat=109&amp;_nc_ohc=rcK23yMORDkAX9-4geN&amp;tn=QAjGcsPYrcll-VfW&amp;edm=APU89FABAAAA&amp;ccb=7-4&amp;oh=00_AT-h9qxFqR2xmYmspdqL5YDHldRmekOFq14IYKv7Foj2Sg&amp;oe=626AC19F&amp;_nc_sid=86f79a 150w,https://scontent-ham3-1.cdninstagram.com/v/t51.2885-15/278930662_710988586907973_8459213589674904057_n.jpg?stp=dst-jpg_e15_p240x240&amp;_nc_ht=scontent-ham3-1.cdninstagram.com&amp;_nc_cat=109&amp;_nc_ohc=rcK23yMORDkAX9-4geN&amp;tn=QAjGcsPYrcll-VfW&amp;edm=APU89FABAAAA&amp;ccb=7-4&amp;oh=00_AT-c4Y7cYQgGNnYuo1joAOFFHm7QeSNrL-78JcJ9q8Csnw&amp;oe=626AC19F&amp;_nc_sid=86f79a 240w,https://scontent-ham3-1.cdninstagram.com/v/t51.2885-15/278930662_710988586907973_8459213589674904057_n.jpg?stp=dst-jpg_e15_p320x320&amp;_nc_ht=scontent-ham3-1.cdninstagram.com&amp;_nc_cat=109&amp;_nc_ohc=rcK23yMORDkAX9-4geN&amp;tn=QAjGcsPYrcll-VfW&amp;edm=APU89FABAAAA&amp;ccb=7-4&amp;oh=00_AT8-RV9-lSM0XwRD2nDG4LGUqjcGAaLUguoQIdtXHC5nDA&amp;oe=626AC19F&amp;_nc_sid=86f79a 320w,https://scontent-ham3-1.cdninstagram.com/v/t51.2885-15/278930662_710988586907973_8459213589674904057_n.jpg?stp=dst-jpg_e15_p480x480&amp;_nc_ht=scontent-ham3-1.cdninstagram.com&amp;_nc_cat=109&amp;_nc_ohc=rcK23yMORDkAX9-4geN&amp;tn=QAjGcsPYrcll-VfW&amp;edm=APU89FABAAAA&amp;ccb=7-4&amp;oh=00_AT_i4EI-7d-xbi6690y5Xj2VhyxhQDdUCVxhshp7ZzUAog&amp;oe=626AC19F&amp;_nc_sid=86f79a 480w,https://scontent-ham3-1.cdninstagram.com/v/t51.2885-15/278930662_710988586907973_8459213589674904057_n.jpg?stp=dst-jpg_e15_p640x640&amp;_nc_ht=scontent-ham3-1.cdninstagram.com&amp;_nc_cat=109&amp;_nc_ohc=rcK23yMORDkAX9-4geN&amp;tn=QAjGcsPYrcll-VfW&amp;edm=APU89FABAAAA&amp;ccb=7-4&amp;oh=00_AT8OQMP0DLUaLzRyq-SDzALw0FAmKm5zZZmMXXKK-gvn2A&amp;oe=626AC19F&amp;_nc_sid=86f79a 640w\" style=\"object-fit: cover;\"/>\n",
      "3\n",
      "https://www.instagram.com/p/CcfyIsXr_Ol/\n",
      "<img class=\"FFVAD\" crossorigin=\"anonymous\" src=\"https://scontent-ham3-1.cdninstagram.com/v/t51.2885-15/278609219_3037104359937232_2606083806894828495_n.jpg?stp=dst-jpg_e35&amp;_nc_ht=scontent-ham3-1.cdninstagram.com&amp;_nc_cat=104&amp;_nc_ohc=sd4qbwvQj5oAX8GlRm4&amp;tn=QAjGcsPYrcll-VfW&amp;edm=AABBvjUBAAAA&amp;ccb=7-4&amp;ig_cache_key=MjgxOTE5MjM4Nzc5ODA0MDM1MQ%3D%3D.2-ccb7-4&amp;oh=00_AT-6ArNRwKJneN9HEiuzyR3FJgmMVVpVyh3anS2ssOLCSA&amp;oe=626A9A9F&amp;_nc_sid=83d603\" style=\"object-fit: cover;\"/>\n",
      "4\n",
      "https://www.instagram.com/p/CcYUhXKpLLa/\n",
      "<img class=\"FFVAD\" crossorigin=\"anonymous\" decoding=\"auto\" sizes=\"478px\" src=\"https://scontent-ham3-1.cdninstagram.com/v/t51.2885-15/278495029_780895586230517_1935468647500732392_n.jpg?stp=dst-jpg_e35&amp;_nc_ht=scontent-ham3-1.cdninstagram.com&amp;_nc_cat=105&amp;_nc_ohc=M4VRdKhyjgAAX_riXlV&amp;edm=AABBvjUBAAAA&amp;ccb=7-4&amp;ig_cache_key=MjgxNzA5MTgyMDQ2NzgyNzQxOA%3D%3D.2-ccb7-4&amp;oh=00_AT_mAsYCZjcUKYrOGQTKUfJVABTFrsJDp2n2j9dWu2dnwA&amp;oe=626B9057&amp;_nc_sid=83d603\" srcset=\"https://scontent-ham3-1.cdninstagram.com/v/t51.2885-15/278495029_780895586230517_1935468647500732392_n.jpg?stp=dst-jpg_e35_p1080x1080&amp;_nc_ht=scontent-ham3-1.cdninstagram.com&amp;_nc_cat=105&amp;_nc_ohc=M4VRdKhyjgAAX_riXlV&amp;edm=AABBvjUBAAAA&amp;ccb=7-4&amp;ig_cache_key=MjgxNzA5MTgyMDQ2NzgyNzQxOA%3D%3D.2-ccb7-4&amp;oh=00_AT_NmHOaPCwDU6GLmhi3qobUtUw3gpcKy-yqSJJxtdgETg&amp;oe=626B9057&amp;_nc_sid=83d603 1080w,https://scontent-ham3-1.cdninstagram.com/v/t51.2885-15/278495029_780895586230517_1935468647500732392_n.jpg?stp=dst-jpg_e35_p750x750_sh0.08&amp;_nc_ht=scontent-ham3-1.cdninstagram.com&amp;_nc_cat=105&amp;_nc_ohc=M4VRdKhyjgAAX_riXlV&amp;edm=AABBvjUBAAAA&amp;ccb=7-4&amp;ig_cache_key=MjgxNzA5MTgyMDQ2NzgyNzQxOA%3D%3D.2-ccb7-4&amp;oh=00_AT_O2f_9YAZug0wn2q_7LKv43DznFvnnSXzmw5G_rU4iSg&amp;oe=626B9057&amp;_nc_sid=83d603 750w,https://scontent-ham3-1.cdninstagram.com/v/t51.2885-15/278495029_780895586230517_1935468647500732392_n.jpg?stp=dst-jpg_e35_p640x640_sh0.08&amp;_nc_ht=scontent-ham3-1.cdninstagram.com&amp;_nc_cat=105&amp;_nc_ohc=M4VRdKhyjgAAX_riXlV&amp;edm=AABBvjUBAAAA&amp;ccb=7-4&amp;ig_cache_key=MjgxNzA5MTgyMDQ2NzgyNzQxOA%3D%3D.2-ccb7-4&amp;oh=00_AT8rFgKnUsz929qJAvNsUwXJ08zIQHZTmMd3EeAB_BRtQQ&amp;oe=626B9057&amp;_nc_sid=83d603 640w,https://scontent-ham3-1.cdninstagram.com/v/t51.2885-15/278495029_780895586230517_1935468647500732392_n.jpg?stp=dst-jpg_e35_p480x480&amp;_nc_ht=scontent-ham3-1.cdninstagram.com&amp;_nc_cat=105&amp;_nc_ohc=M4VRdKhyjgAAX_riXlV&amp;edm=AABBvjUBAAAA&amp;ccb=7-4&amp;ig_cache_key=MjgxNzA5MTgyMDQ2NzgyNzQxOA%3D%3D.2-ccb7-4&amp;oh=00_AT9_AzVLyLXaB967-Fl-2W0JFZT-VfuHjJ_Peo1jZAuZIw&amp;oe=626B9057&amp;_nc_sid=83d603 480w,https://scontent-ham3-1.cdninstagram.com/v/t51.2885-15/278495029_780895586230517_1935468647500732392_n.jpg?stp=dst-jpg_e35_p320x320&amp;_nc_ht=scontent-ham3-1.cdninstagram.com&amp;_nc_cat=105&amp;_nc_ohc=M4VRdKhyjgAAX_riXlV&amp;edm=AABBvjUBAAAA&amp;ccb=7-4&amp;ig_cache_key=MjgxNzA5MTgyMDQ2NzgyNzQxOA%3D%3D.2-ccb7-4&amp;oh=00_AT8Rs1n__spsARrrq8NuIRXr4vT5Rml-uM6bjjpZSEjoHg&amp;oe=626B9057&amp;_nc_sid=83d603 320w,https://scontent-ham3-1.cdninstagram.com/v/t51.2885-15/278495029_780895586230517_1935468647500732392_n.jpg?stp=dst-jpg_e35_p240x240&amp;_nc_ht=scontent-ham3-1.cdninstagram.com&amp;_nc_cat=105&amp;_nc_ohc=M4VRdKhyjgAAX_riXlV&amp;edm=AABBvjUBAAAA&amp;ccb=7-4&amp;ig_cache_key=MjgxNzA5MTgyMDQ2NzgyNzQxOA%3D%3D.2-ccb7-4&amp;oh=00_AT8H6AvKZuOz1dIWdKLbSTjVVShmm8Ps9g0oJegy_DMRyw&amp;oe=626B9057&amp;_nc_sid=83d603 240w\" style=\"object-fit: cover;\"/>\n",
      "5\n",
      "https://www.instagram.com/p/CcVhM2wF-us/\n",
      "<img alt=\"Tote it and toke it 🤣 \n",
      "Our newest collection made up of 55% hemp is OUT NOW! @beis 💨\" class=\"FFVAD\" crossorigin=\"anonymous\" src=\"https://scontent-ham3-1.cdninstagram.com/v/t51.2885-15/278767625_1283544945387601_3005583862560623177_n.jpg?stp=dst-jpg_e35_p1080x1080&amp;_nc_ht=scontent-ham3-1.cdninstagram.com&amp;_nc_cat=1&amp;_nc_ohc=8tEPGk4FlYQAX-yfWT3&amp;edm=APU89FABAAAA&amp;ccb=7-4&amp;oh=00_AT9zHA-_CmGu_GQEoOu2cYiVYpeOnRchRGtULC_o_2pl0A&amp;oe=626BA2D5&amp;_nc_sid=86f79a\" style=\"visibility: hidden; object-fit: cover;\"/>\n",
      "6\n",
      "https://www.instagram.com/p/CcQRJ5OAwju/\n",
      "<img class=\"FFVAD\" crossorigin=\"anonymous\" decoding=\"auto\" sizes=\"283px\" src=\"https://scontent-ham3-1.cdninstagram.com/v/t51.2885-15/278949775_406609484246574_8156469717410803772_n.jpg?stp=c0.280.720.720a_dst-jpg_e15_s640x640&amp;_nc_ht=scontent-ham3-1.cdninstagram.com&amp;_nc_cat=106&amp;_nc_ohc=EmZWpVgEnXcAX9Kv-nC&amp;tn=QAjGcsPYrcll-VfW&amp;edm=APU89FABAAAA&amp;ccb=7-4&amp;oh=00_AT8ntNIu9d7t5RoZeSc-xYGmUdZbPwFTihzgv_ktz4x9dg&amp;oe=626630C5&amp;_nc_sid=86f79a\" srcset=\"https://scontent-ham3-1.cdninstagram.com/v/t51.2885-15/278949775_406609484246574_8156469717410803772_n.jpg?stp=c0.280.720.720a_dst-jpg_e15_s150x150&amp;_nc_ht=scontent-ham3-1.cdninstagram.com&amp;_nc_cat=106&amp;_nc_ohc=EmZWpVgEnXcAX9Kv-nC&amp;tn=QAjGcsPYrcll-VfW&amp;edm=APU89FABAAAA&amp;ccb=7-4&amp;oh=00_AT8cumzQP6opWHi5rARom-vF4zJEU_N92_XMenU4TItZBQ&amp;oe=626ACE05&amp;_nc_sid=86f79a 150w,https://scontent-ham3-1.cdninstagram.com/v/t51.2885-15/278949775_406609484246574_8156469717410803772_n.jpg?stp=c0.280.720.720a_dst-jpg_e15_s240x240&amp;_nc_ht=scontent-ham3-1.cdninstagram.com&amp;_nc_cat=106&amp;_nc_ohc=EmZWpVgEnXcAX9Kv-nC&amp;tn=QAjGcsPYrcll-VfW&amp;edm=APU89FABAAAA&amp;ccb=7-4&amp;oh=00_AT_dSweZie5nnEJ_ajbhR6u74jqwxc42MDzeDTCE9Fnc8g&amp;oe=626ACE05&amp;_nc_sid=86f79a 240w,https://scontent-ham3-1.cdninstagram.com/v/t51.2885-15/278949775_406609484246574_8156469717410803772_n.jpg?stp=c0.280.720.720a_dst-jpg_e15_s320x320&amp;_nc_ht=scontent-ham3-1.cdninstagram.com&amp;_nc_cat=106&amp;_nc_ohc=EmZWpVgEnXcAX9Kv-nC&amp;tn=QAjGcsPYrcll-VfW&amp;edm=APU89FABAAAA&amp;ccb=7-4&amp;oh=00_AT97WGp9KtXo36xK6WJwzctDrnZr63vMxPn9ipk-vNa3Qg&amp;oe=626ACE05&amp;_nc_sid=86f79a 320w,https://scontent-ham3-1.cdninstagram.com/v/t51.2885-15/278949775_406609484246574_8156469717410803772_n.jpg?stp=c0.280.720.720a_dst-jpg_e15_s480x480&amp;_nc_ht=scontent-ham3-1.cdninstagram.com&amp;_nc_cat=106&amp;_nc_ohc=EmZWpVgEnXcAX9Kv-nC&amp;tn=QAjGcsPYrcll-VfW&amp;edm=APU89FABAAAA&amp;ccb=7-4&amp;oh=00_AT9Q2AXByqE7xr8lasMIomiWZ6OBw4Q0IWYN_HU0Us7otg&amp;oe=626ACE05&amp;_nc_sid=86f79a 480w,https://scontent-ham3-1.cdninstagram.com/v/t51.2885-15/278949775_406609484246574_8156469717410803772_n.jpg?stp=c0.280.720.720a_dst-jpg_e15_s640x640&amp;_nc_ht=scontent-ham3-1.cdninstagram.com&amp;_nc_cat=106&amp;_nc_ohc=EmZWpVgEnXcAX9Kv-nC&amp;tn=QAjGcsPYrcll-VfW&amp;edm=APU89FABAAAA&amp;ccb=7-4&amp;oh=00_AT_cqRgI_UHK118Ecm9fXPPBXEg6Upn-o3psMrKzmhQxfg&amp;oe=626ACE05&amp;_nc_sid=86f79a 640w\" style=\"object-fit: cover;\"/>\n",
      "7\n"
     ]
    },
    {
     "name": "stdout",
     "output_type": "stream",
     "text": [
      "https://www.instagram.com/p/CcMRWwQp3rT/\n",
      "<img class=\"FFVAD\" crossorigin=\"anonymous\" decoding=\"auto\" sizes=\"283px\" src=\"https://scontent-ham3-1.cdninstagram.com/v/t51.2885-15/278949775_406609484246574_8156469717410803772_n.jpg?stp=c0.280.720.720a_dst-jpg_e15_s640x640&amp;_nc_ht=scontent-ham3-1.cdninstagram.com&amp;_nc_cat=106&amp;_nc_ohc=EmZWpVgEnXcAX9Kv-nC&amp;tn=QAjGcsPYrcll-VfW&amp;edm=APU89FABAAAA&amp;ccb=7-4&amp;oh=00_AT8ntNIu9d7t5RoZeSc-xYGmUdZbPwFTihzgv_ktz4x9dg&amp;oe=626630C5&amp;_nc_sid=86f79a\" srcset=\"https://scontent-ham3-1.cdninstagram.com/v/t51.2885-15/278949775_406609484246574_8156469717410803772_n.jpg?stp=c0.280.720.720a_dst-jpg_e15_s150x150&amp;_nc_ht=scontent-ham3-1.cdninstagram.com&amp;_nc_cat=106&amp;_nc_ohc=EmZWpVgEnXcAX9Kv-nC&amp;tn=QAjGcsPYrcll-VfW&amp;edm=APU89FABAAAA&amp;ccb=7-4&amp;oh=00_AT8cumzQP6opWHi5rARom-vF4zJEU_N92_XMenU4TItZBQ&amp;oe=626ACE05&amp;_nc_sid=86f79a 150w,https://scontent-ham3-1.cdninstagram.com/v/t51.2885-15/278949775_406609484246574_8156469717410803772_n.jpg?stp=c0.280.720.720a_dst-jpg_e15_s240x240&amp;_nc_ht=scontent-ham3-1.cdninstagram.com&amp;_nc_cat=106&amp;_nc_ohc=EmZWpVgEnXcAX9Kv-nC&amp;tn=QAjGcsPYrcll-VfW&amp;edm=APU89FABAAAA&amp;ccb=7-4&amp;oh=00_AT_dSweZie5nnEJ_ajbhR6u74jqwxc42MDzeDTCE9Fnc8g&amp;oe=626ACE05&amp;_nc_sid=86f79a 240w,https://scontent-ham3-1.cdninstagram.com/v/t51.2885-15/278949775_406609484246574_8156469717410803772_n.jpg?stp=c0.280.720.720a_dst-jpg_e15_s320x320&amp;_nc_ht=scontent-ham3-1.cdninstagram.com&amp;_nc_cat=106&amp;_nc_ohc=EmZWpVgEnXcAX9Kv-nC&amp;tn=QAjGcsPYrcll-VfW&amp;edm=APU89FABAAAA&amp;ccb=7-4&amp;oh=00_AT97WGp9KtXo36xK6WJwzctDrnZr63vMxPn9ipk-vNa3Qg&amp;oe=626ACE05&amp;_nc_sid=86f79a 320w,https://scontent-ham3-1.cdninstagram.com/v/t51.2885-15/278949775_406609484246574_8156469717410803772_n.jpg?stp=c0.280.720.720a_dst-jpg_e15_s480x480&amp;_nc_ht=scontent-ham3-1.cdninstagram.com&amp;_nc_cat=106&amp;_nc_ohc=EmZWpVgEnXcAX9Kv-nC&amp;tn=QAjGcsPYrcll-VfW&amp;edm=APU89FABAAAA&amp;ccb=7-4&amp;oh=00_AT9Q2AXByqE7xr8lasMIomiWZ6OBw4Q0IWYN_HU0Us7otg&amp;oe=626ACE05&amp;_nc_sid=86f79a 480w,https://scontent-ham3-1.cdninstagram.com/v/t51.2885-15/278949775_406609484246574_8156469717410803772_n.jpg?stp=c0.280.720.720a_dst-jpg_e15_s640x640&amp;_nc_ht=scontent-ham3-1.cdninstagram.com&amp;_nc_cat=106&amp;_nc_ohc=EmZWpVgEnXcAX9Kv-nC&amp;tn=QAjGcsPYrcll-VfW&amp;edm=APU89FABAAAA&amp;ccb=7-4&amp;oh=00_AT_cqRgI_UHK118Ecm9fXPPBXEg6Upn-o3psMrKzmhQxfg&amp;oe=626ACE05&amp;_nc_sid=86f79a 640w\" style=\"object-fit: cover;\"/>\n",
      "8\n",
      "https://www.instagram.com/p/CcGuYXuPFrO/\n",
      "<img class=\"FFVAD\" crossorigin=\"anonymous\" src=\"https://scontent-ham3-1.cdninstagram.com/v/t51.2885-15/277964733_312384714351719_1990138672684353515_n.jpg?stp=dst-jpg_e35&amp;_nc_ht=scontent-ham3-1.cdninstagram.com&amp;_nc_cat=111&amp;_nc_ohc=JThbiWQykYAAX-nio34&amp;edm=AABBvjUBAAAA&amp;ccb=7-4&amp;ig_cache_key=MjgxMjEzODk5NTM2NDkxNTEyMw%3D%3D.2-ccb7-4&amp;oh=00_AT-gItnVgCXoWQ-s3iv3Jf4x57EM_VliUepwCmXcd0cQQA&amp;oe=626A8D00&amp;_nc_sid=83d603\" style=\"object-fit: cover;\"/>\n",
      "9\n",
      "https://www.instagram.com/p/CcDa4t8rz19/\n",
      "<img class=\"FFVAD\" crossorigin=\"anonymous\" src=\"https://scontent-ham3-1.cdninstagram.com/v/t51.2885-15/278050498_368053188536346_656181334806842854_n.jpg?stp=dst-jpg_e35&amp;_nc_ht=scontent-ham3-1.cdninstagram.com&amp;_nc_cat=106&amp;_nc_ohc=O4eDZC2myCUAX-CI8Qa&amp;tn=QAjGcsPYrcll-VfW&amp;edm=AABBvjUBAAAA&amp;ccb=7-4&amp;ig_cache_key=MjgxMTIwODgzNDQ3MjUzMTMzMA%3D%3D.2-ccb7-4&amp;oh=00_AT8yz57iY1H2C2fpH2YlpteiygE5yB3Q9SyzZyS6fZri3g&amp;oe=626ABA34&amp;_nc_sid=83d603\" style=\"object-fit: cover;\"/>\n",
      "10\n",
      "https://www.instagram.com/p/Cb-rrbfAf5u/\n",
      "<img class=\"FFVAD\" crossorigin=\"anonymous\" decoding=\"auto\" sizes=\"283px\" src=\"https://scontent-ham3-1.cdninstagram.com/v/t51.2885-15/278949775_406609484246574_8156469717410803772_n.jpg?stp=c0.280.720.720a_dst-jpg_e15_s640x640&amp;_nc_ht=scontent-ham3-1.cdninstagram.com&amp;_nc_cat=106&amp;_nc_ohc=EmZWpVgEnXcAX9Kv-nC&amp;tn=QAjGcsPYrcll-VfW&amp;edm=APU89FABAAAA&amp;ccb=7-4&amp;oh=00_AT8ntNIu9d7t5RoZeSc-xYGmUdZbPwFTihzgv_ktz4x9dg&amp;oe=626630C5&amp;_nc_sid=86f79a\" srcset=\"https://scontent-ham3-1.cdninstagram.com/v/t51.2885-15/278949775_406609484246574_8156469717410803772_n.jpg?stp=c0.280.720.720a_dst-jpg_e15_s150x150&amp;_nc_ht=scontent-ham3-1.cdninstagram.com&amp;_nc_cat=106&amp;_nc_ohc=EmZWpVgEnXcAX9Kv-nC&amp;tn=QAjGcsPYrcll-VfW&amp;edm=APU89FABAAAA&amp;ccb=7-4&amp;oh=00_AT8cumzQP6opWHi5rARom-vF4zJEU_N92_XMenU4TItZBQ&amp;oe=626ACE05&amp;_nc_sid=86f79a 150w,https://scontent-ham3-1.cdninstagram.com/v/t51.2885-15/278949775_406609484246574_8156469717410803772_n.jpg?stp=c0.280.720.720a_dst-jpg_e15_s240x240&amp;_nc_ht=scontent-ham3-1.cdninstagram.com&amp;_nc_cat=106&amp;_nc_ohc=EmZWpVgEnXcAX9Kv-nC&amp;tn=QAjGcsPYrcll-VfW&amp;edm=APU89FABAAAA&amp;ccb=7-4&amp;oh=00_AT_dSweZie5nnEJ_ajbhR6u74jqwxc42MDzeDTCE9Fnc8g&amp;oe=626ACE05&amp;_nc_sid=86f79a 240w,https://scontent-ham3-1.cdninstagram.com/v/t51.2885-15/278949775_406609484246574_8156469717410803772_n.jpg?stp=c0.280.720.720a_dst-jpg_e15_s320x320&amp;_nc_ht=scontent-ham3-1.cdninstagram.com&amp;_nc_cat=106&amp;_nc_ohc=EmZWpVgEnXcAX9Kv-nC&amp;tn=QAjGcsPYrcll-VfW&amp;edm=APU89FABAAAA&amp;ccb=7-4&amp;oh=00_AT97WGp9KtXo36xK6WJwzctDrnZr63vMxPn9ipk-vNa3Qg&amp;oe=626ACE05&amp;_nc_sid=86f79a 320w,https://scontent-ham3-1.cdninstagram.com/v/t51.2885-15/278949775_406609484246574_8156469717410803772_n.jpg?stp=c0.280.720.720a_dst-jpg_e15_s480x480&amp;_nc_ht=scontent-ham3-1.cdninstagram.com&amp;_nc_cat=106&amp;_nc_ohc=EmZWpVgEnXcAX9Kv-nC&amp;tn=QAjGcsPYrcll-VfW&amp;edm=APU89FABAAAA&amp;ccb=7-4&amp;oh=00_AT9Q2AXByqE7xr8lasMIomiWZ6OBw4Q0IWYN_HU0Us7otg&amp;oe=626ACE05&amp;_nc_sid=86f79a 480w,https://scontent-ham3-1.cdninstagram.com/v/t51.2885-15/278949775_406609484246574_8156469717410803772_n.jpg?stp=c0.280.720.720a_dst-jpg_e15_s640x640&amp;_nc_ht=scontent-ham3-1.cdninstagram.com&amp;_nc_cat=106&amp;_nc_ohc=EmZWpVgEnXcAX9Kv-nC&amp;tn=QAjGcsPYrcll-VfW&amp;edm=APU89FABAAAA&amp;ccb=7-4&amp;oh=00_AT_cqRgI_UHK118Ecm9fXPPBXEg6Upn-o3psMrKzmhQxfg&amp;oe=626ACE05&amp;_nc_sid=86f79a 640w\" style=\"object-fit: cover;\"/>\n",
      "11\n",
      "https://www.instagram.com/p/Cb7rJrbg09-/\n",
      "<img class=\"FFVAD\" crossorigin=\"anonymous\" decoding=\"auto\" sizes=\"283px\" src=\"https://scontent-ham3-1.cdninstagram.com/v/t51.2885-15/278949775_406609484246574_8156469717410803772_n.jpg?stp=c0.280.720.720a_dst-jpg_e15_s640x640&amp;_nc_ht=scontent-ham3-1.cdninstagram.com&amp;_nc_cat=106&amp;_nc_ohc=EmZWpVgEnXcAX9Kv-nC&amp;tn=QAjGcsPYrcll-VfW&amp;edm=APU89FABAAAA&amp;ccb=7-4&amp;oh=00_AT8ntNIu9d7t5RoZeSc-xYGmUdZbPwFTihzgv_ktz4x9dg&amp;oe=626630C5&amp;_nc_sid=86f79a\" srcset=\"https://scontent-ham3-1.cdninstagram.com/v/t51.2885-15/278949775_406609484246574_8156469717410803772_n.jpg?stp=c0.280.720.720a_dst-jpg_e15_s150x150&amp;_nc_ht=scontent-ham3-1.cdninstagram.com&amp;_nc_cat=106&amp;_nc_ohc=EmZWpVgEnXcAX9Kv-nC&amp;tn=QAjGcsPYrcll-VfW&amp;edm=APU89FABAAAA&amp;ccb=7-4&amp;oh=00_AT8cumzQP6opWHi5rARom-vF4zJEU_N92_XMenU4TItZBQ&amp;oe=626ACE05&amp;_nc_sid=86f79a 150w,https://scontent-ham3-1.cdninstagram.com/v/t51.2885-15/278949775_406609484246574_8156469717410803772_n.jpg?stp=c0.280.720.720a_dst-jpg_e15_s240x240&amp;_nc_ht=scontent-ham3-1.cdninstagram.com&amp;_nc_cat=106&amp;_nc_ohc=EmZWpVgEnXcAX9Kv-nC&amp;tn=QAjGcsPYrcll-VfW&amp;edm=APU89FABAAAA&amp;ccb=7-4&amp;oh=00_AT_dSweZie5nnEJ_ajbhR6u74jqwxc42MDzeDTCE9Fnc8g&amp;oe=626ACE05&amp;_nc_sid=86f79a 240w,https://scontent-ham3-1.cdninstagram.com/v/t51.2885-15/278949775_406609484246574_8156469717410803772_n.jpg?stp=c0.280.720.720a_dst-jpg_e15_s320x320&amp;_nc_ht=scontent-ham3-1.cdninstagram.com&amp;_nc_cat=106&amp;_nc_ohc=EmZWpVgEnXcAX9Kv-nC&amp;tn=QAjGcsPYrcll-VfW&amp;edm=APU89FABAAAA&amp;ccb=7-4&amp;oh=00_AT97WGp9KtXo36xK6WJwzctDrnZr63vMxPn9ipk-vNa3Qg&amp;oe=626ACE05&amp;_nc_sid=86f79a 320w,https://scontent-ham3-1.cdninstagram.com/v/t51.2885-15/278949775_406609484246574_8156469717410803772_n.jpg?stp=c0.280.720.720a_dst-jpg_e15_s480x480&amp;_nc_ht=scontent-ham3-1.cdninstagram.com&amp;_nc_cat=106&amp;_nc_ohc=EmZWpVgEnXcAX9Kv-nC&amp;tn=QAjGcsPYrcll-VfW&amp;edm=APU89FABAAAA&amp;ccb=7-4&amp;oh=00_AT9Q2AXByqE7xr8lasMIomiWZ6OBw4Q0IWYN_HU0Us7otg&amp;oe=626ACE05&amp;_nc_sid=86f79a 480w,https://scontent-ham3-1.cdninstagram.com/v/t51.2885-15/278949775_406609484246574_8156469717410803772_n.jpg?stp=c0.280.720.720a_dst-jpg_e15_s640x640&amp;_nc_ht=scontent-ham3-1.cdninstagram.com&amp;_nc_cat=106&amp;_nc_ohc=EmZWpVgEnXcAX9Kv-nC&amp;tn=QAjGcsPYrcll-VfW&amp;edm=APU89FABAAAA&amp;ccb=7-4&amp;oh=00_AT_cqRgI_UHK118Ecm9fXPPBXEg6Upn-o3psMrKzmhQxfg&amp;oe=626ACE05&amp;_nc_sid=86f79a 640w\" style=\"object-fit: cover;\"/>\n",
      "12\n"
     ]
    },
    {
     "name": "stdout",
     "output_type": "stream",
     "text": [
      "https://www.instagram.com/p/Cb5rHJzPBh4/\n",
      "<img class=\"FFVAD\" crossorigin=\"anonymous\" src=\"https://scontent-ham3-1.cdninstagram.com/v/t51.2885-15/277761152_716748936020410_9091212076806561159_n.jpg?stp=dst-jpg_e35&amp;_nc_ht=scontent-ham3-1.cdninstagram.com&amp;_nc_cat=110&amp;_nc_ohc=t0l_fZdqwgMAX_Bhh53&amp;edm=AABBvjUBAAAA&amp;ccb=7-4&amp;ig_cache_key=MjgwODQ2NTQ1MDIwMTc4MjM5Mg%3D%3D.2-ccb7-4&amp;oh=00_AT8Ztue12X9H7AWvaOWjNj7tEAnWLV94p3KGLwQlbp5pUw&amp;oe=626AD940&amp;_nc_sid=83d603\" style=\"object-fit: cover;\"/>\n",
      "13\n",
      "https://www.instagram.com/p/CbxoxS7rTT0/\n",
      "<img class=\"FFVAD\" crossorigin=\"anonymous\" decoding=\"auto\" sizes=\"479px\" src=\"https://scontent-ham3-1.cdninstagram.com/v/t51.2885-15/277657136_272492248419107_5503467175392175929_n.jpg?stp=dst-jpg_e35&amp;_nc_ht=scontent-ham3-1.cdninstagram.com&amp;_nc_cat=111&amp;_nc_ohc=YWUfgTa1TKIAX_-Rptp&amp;tn=QAjGcsPYrcll-VfW&amp;edm=AABBvjUBAAAA&amp;ccb=7-4&amp;ig_cache_key=MjgwNjIwMzM1MjI3MTg5Mzc0OA%3D%3D.2-ccb7-4&amp;oh=00_AT_6rnRGRzWgqZJn6ibFYAVrVH2aCTw5daPubrDilO4fYg&amp;oe=626BEA2E&amp;_nc_sid=83d603\" srcset=\"https://scontent-ham3-1.cdninstagram.com/v/t51.2885-15/277657136_272492248419107_5503467175392175929_n.jpg?stp=dst-jpg_e35_p1080x1080&amp;_nc_ht=scontent-ham3-1.cdninstagram.com&amp;_nc_cat=111&amp;_nc_ohc=YWUfgTa1TKIAX_-Rptp&amp;tn=QAjGcsPYrcll-VfW&amp;edm=AABBvjUBAAAA&amp;ccb=7-4&amp;ig_cache_key=MjgwNjIwMzM1MjI3MTg5Mzc0OA%3D%3D.2-ccb7-4&amp;oh=00_AT878UriDaXVahw8qmWlh5LMIIbF-pwuiP-LpqB0cBpBEw&amp;oe=626BEA2E&amp;_nc_sid=83d603 1080w,https://scontent-ham3-1.cdninstagram.com/v/t51.2885-15/277657136_272492248419107_5503467175392175929_n.jpg?stp=dst-jpg_e35_p750x750_sh0.08&amp;_nc_ht=scontent-ham3-1.cdninstagram.com&amp;_nc_cat=111&amp;_nc_ohc=YWUfgTa1TKIAX_-Rptp&amp;tn=QAjGcsPYrcll-VfW&amp;edm=AABBvjUBAAAA&amp;ccb=7-4&amp;ig_cache_key=MjgwNjIwMzM1MjI3MTg5Mzc0OA%3D%3D.2-ccb7-4&amp;oh=00_AT9c6W2k4YuVMp_LCBHFp2W0nXdS_7k7urmVw7ltddLWjA&amp;oe=626BEA2E&amp;_nc_sid=83d603 750w,https://scontent-ham3-1.cdninstagram.com/v/t51.2885-15/277657136_272492248419107_5503467175392175929_n.jpg?stp=dst-jpg_e35_p640x640_sh0.08&amp;_nc_ht=scontent-ham3-1.cdninstagram.com&amp;_nc_cat=111&amp;_nc_ohc=YWUfgTa1TKIAX_-Rptp&amp;tn=QAjGcsPYrcll-VfW&amp;edm=AABBvjUBAAAA&amp;ccb=7-4&amp;ig_cache_key=MjgwNjIwMzM1MjI3MTg5Mzc0OA%3D%3D.2-ccb7-4&amp;oh=00_AT9oqbB8v6s_45Dv6tWADgDBLhJPM-GjVJvOtlsmKT8CZA&amp;oe=626BEA2E&amp;_nc_sid=83d603 640w,https://scontent-ham3-1.cdninstagram.com/v/t51.2885-15/277657136_272492248419107_5503467175392175929_n.jpg?stp=dst-jpg_e35_p480x480&amp;_nc_ht=scontent-ham3-1.cdninstagram.com&amp;_nc_cat=111&amp;_nc_ohc=YWUfgTa1TKIAX_-Rptp&amp;tn=QAjGcsPYrcll-VfW&amp;edm=AABBvjUBAAAA&amp;ccb=7-4&amp;ig_cache_key=MjgwNjIwMzM1MjI3MTg5Mzc0OA%3D%3D.2-ccb7-4&amp;oh=00_AT-zSngB0D6ZtLdQ35hfN2Zt9MSpQatkImgUW4omX98xBA&amp;oe=626BEA2E&amp;_nc_sid=83d603 480w,https://scontent-ham3-1.cdninstagram.com/v/t51.2885-15/277657136_272492248419107_5503467175392175929_n.jpg?stp=dst-jpg_e35_p320x320&amp;_nc_ht=scontent-ham3-1.cdninstagram.com&amp;_nc_cat=111&amp;_nc_ohc=YWUfgTa1TKIAX_-Rptp&amp;tn=QAjGcsPYrcll-VfW&amp;edm=AABBvjUBAAAA&amp;ccb=7-4&amp;ig_cache_key=MjgwNjIwMzM1MjI3MTg5Mzc0OA%3D%3D.2-ccb7-4&amp;oh=00_AT8e7_4rQDccoi4uAJyxtM56EEHyE3OKsHsDQtO6ZsdBdw&amp;oe=626BEA2E&amp;_nc_sid=83d603 320w,https://scontent-ham3-1.cdninstagram.com/v/t51.2885-15/277657136_272492248419107_5503467175392175929_n.jpg?stp=dst-jpg_e35_p240x240&amp;_nc_ht=scontent-ham3-1.cdninstagram.com&amp;_nc_cat=111&amp;_nc_ohc=YWUfgTa1TKIAX_-Rptp&amp;tn=QAjGcsPYrcll-VfW&amp;edm=AABBvjUBAAAA&amp;ccb=7-4&amp;ig_cache_key=MjgwNjIwMzM1MjI3MTg5Mzc0OA%3D%3D.2-ccb7-4&amp;oh=00_AT9cbpeMnp1-uYm5nJAS6Az0KAt_kue_zFdW3IhYaYBE_w&amp;oe=626BEA2E&amp;_nc_sid=83d603 240w\" style=\"object-fit: cover;\"/>\n",
      "14\n",
      "https://www.instagram.com/p/CbvjHOPgvZC/\n",
      "<img class=\"FFVAD\" crossorigin=\"anonymous\" decoding=\"auto\" sizes=\"283px\" src=\"https://scontent-ham3-1.cdninstagram.com/v/t51.2885-15/278949775_406609484246574_8156469717410803772_n.jpg?stp=c0.280.720.720a_dst-jpg_e15_s640x640&amp;_nc_ht=scontent-ham3-1.cdninstagram.com&amp;_nc_cat=106&amp;_nc_ohc=EmZWpVgEnXcAX9Kv-nC&amp;tn=QAjGcsPYrcll-VfW&amp;edm=APU89FABAAAA&amp;ccb=7-4&amp;oh=00_AT8ntNIu9d7t5RoZeSc-xYGmUdZbPwFTihzgv_ktz4x9dg&amp;oe=626630C5&amp;_nc_sid=86f79a\" srcset=\"https://scontent-ham3-1.cdninstagram.com/v/t51.2885-15/278949775_406609484246574_8156469717410803772_n.jpg?stp=c0.280.720.720a_dst-jpg_e15_s150x150&amp;_nc_ht=scontent-ham3-1.cdninstagram.com&amp;_nc_cat=106&amp;_nc_ohc=EmZWpVgEnXcAX9Kv-nC&amp;tn=QAjGcsPYrcll-VfW&amp;edm=APU89FABAAAA&amp;ccb=7-4&amp;oh=00_AT8cumzQP6opWHi5rARom-vF4zJEU_N92_XMenU4TItZBQ&amp;oe=626ACE05&amp;_nc_sid=86f79a 150w,https://scontent-ham3-1.cdninstagram.com/v/t51.2885-15/278949775_406609484246574_8156469717410803772_n.jpg?stp=c0.280.720.720a_dst-jpg_e15_s240x240&amp;_nc_ht=scontent-ham3-1.cdninstagram.com&amp;_nc_cat=106&amp;_nc_ohc=EmZWpVgEnXcAX9Kv-nC&amp;tn=QAjGcsPYrcll-VfW&amp;edm=APU89FABAAAA&amp;ccb=7-4&amp;oh=00_AT_dSweZie5nnEJ_ajbhR6u74jqwxc42MDzeDTCE9Fnc8g&amp;oe=626ACE05&amp;_nc_sid=86f79a 240w,https://scontent-ham3-1.cdninstagram.com/v/t51.2885-15/278949775_406609484246574_8156469717410803772_n.jpg?stp=c0.280.720.720a_dst-jpg_e15_s320x320&amp;_nc_ht=scontent-ham3-1.cdninstagram.com&amp;_nc_cat=106&amp;_nc_ohc=EmZWpVgEnXcAX9Kv-nC&amp;tn=QAjGcsPYrcll-VfW&amp;edm=APU89FABAAAA&amp;ccb=7-4&amp;oh=00_AT97WGp9KtXo36xK6WJwzctDrnZr63vMxPn9ipk-vNa3Qg&amp;oe=626ACE05&amp;_nc_sid=86f79a 320w,https://scontent-ham3-1.cdninstagram.com/v/t51.2885-15/278949775_406609484246574_8156469717410803772_n.jpg?stp=c0.280.720.720a_dst-jpg_e15_s480x480&amp;_nc_ht=scontent-ham3-1.cdninstagram.com&amp;_nc_cat=106&amp;_nc_ohc=EmZWpVgEnXcAX9Kv-nC&amp;tn=QAjGcsPYrcll-VfW&amp;edm=APU89FABAAAA&amp;ccb=7-4&amp;oh=00_AT9Q2AXByqE7xr8lasMIomiWZ6OBw4Q0IWYN_HU0Us7otg&amp;oe=626ACE05&amp;_nc_sid=86f79a 480w,https://scontent-ham3-1.cdninstagram.com/v/t51.2885-15/278949775_406609484246574_8156469717410803772_n.jpg?stp=c0.280.720.720a_dst-jpg_e15_s640x640&amp;_nc_ht=scontent-ham3-1.cdninstagram.com&amp;_nc_cat=106&amp;_nc_ohc=EmZWpVgEnXcAX9Kv-nC&amp;tn=QAjGcsPYrcll-VfW&amp;edm=APU89FABAAAA&amp;ccb=7-4&amp;oh=00_AT_cqRgI_UHK118Ecm9fXPPBXEg6Upn-o3psMrKzmhQxfg&amp;oe=626ACE05&amp;_nc_sid=86f79a 640w\" style=\"object-fit: cover;\"/>\n",
      "15\n",
      "https://www.instagram.com/p/CbqsOjCpp6V/\n",
      "<img class=\"FFVAD\" crossorigin=\"anonymous\" decoding=\"auto\" sizes=\"283px\" src=\"https://scontent-ham3-1.cdninstagram.com/v/t51.2885-15/278949775_406609484246574_8156469717410803772_n.jpg?stp=c0.280.720.720a_dst-jpg_e15_s640x640&amp;_nc_ht=scontent-ham3-1.cdninstagram.com&amp;_nc_cat=106&amp;_nc_ohc=EmZWpVgEnXcAX9Kv-nC&amp;tn=QAjGcsPYrcll-VfW&amp;edm=APU89FABAAAA&amp;ccb=7-4&amp;oh=00_AT8ntNIu9d7t5RoZeSc-xYGmUdZbPwFTihzgv_ktz4x9dg&amp;oe=626630C5&amp;_nc_sid=86f79a\" srcset=\"https://scontent-ham3-1.cdninstagram.com/v/t51.2885-15/278949775_406609484246574_8156469717410803772_n.jpg?stp=c0.280.720.720a_dst-jpg_e15_s150x150&amp;_nc_ht=scontent-ham3-1.cdninstagram.com&amp;_nc_cat=106&amp;_nc_ohc=EmZWpVgEnXcAX9Kv-nC&amp;tn=QAjGcsPYrcll-VfW&amp;edm=APU89FABAAAA&amp;ccb=7-4&amp;oh=00_AT8cumzQP6opWHi5rARom-vF4zJEU_N92_XMenU4TItZBQ&amp;oe=626ACE05&amp;_nc_sid=86f79a 150w,https://scontent-ham3-1.cdninstagram.com/v/t51.2885-15/278949775_406609484246574_8156469717410803772_n.jpg?stp=c0.280.720.720a_dst-jpg_e15_s240x240&amp;_nc_ht=scontent-ham3-1.cdninstagram.com&amp;_nc_cat=106&amp;_nc_ohc=EmZWpVgEnXcAX9Kv-nC&amp;tn=QAjGcsPYrcll-VfW&amp;edm=APU89FABAAAA&amp;ccb=7-4&amp;oh=00_AT_dSweZie5nnEJ_ajbhR6u74jqwxc42MDzeDTCE9Fnc8g&amp;oe=626ACE05&amp;_nc_sid=86f79a 240w,https://scontent-ham3-1.cdninstagram.com/v/t51.2885-15/278949775_406609484246574_8156469717410803772_n.jpg?stp=c0.280.720.720a_dst-jpg_e15_s320x320&amp;_nc_ht=scontent-ham3-1.cdninstagram.com&amp;_nc_cat=106&amp;_nc_ohc=EmZWpVgEnXcAX9Kv-nC&amp;tn=QAjGcsPYrcll-VfW&amp;edm=APU89FABAAAA&amp;ccb=7-4&amp;oh=00_AT97WGp9KtXo36xK6WJwzctDrnZr63vMxPn9ipk-vNa3Qg&amp;oe=626ACE05&amp;_nc_sid=86f79a 320w,https://scontent-ham3-1.cdninstagram.com/v/t51.2885-15/278949775_406609484246574_8156469717410803772_n.jpg?stp=c0.280.720.720a_dst-jpg_e15_s480x480&amp;_nc_ht=scontent-ham3-1.cdninstagram.com&amp;_nc_cat=106&amp;_nc_ohc=EmZWpVgEnXcAX9Kv-nC&amp;tn=QAjGcsPYrcll-VfW&amp;edm=APU89FABAAAA&amp;ccb=7-4&amp;oh=00_AT9Q2AXByqE7xr8lasMIomiWZ6OBw4Q0IWYN_HU0Us7otg&amp;oe=626ACE05&amp;_nc_sid=86f79a 480w,https://scontent-ham3-1.cdninstagram.com/v/t51.2885-15/278949775_406609484246574_8156469717410803772_n.jpg?stp=c0.280.720.720a_dst-jpg_e15_s640x640&amp;_nc_ht=scontent-ham3-1.cdninstagram.com&amp;_nc_cat=106&amp;_nc_ohc=EmZWpVgEnXcAX9Kv-nC&amp;tn=QAjGcsPYrcll-VfW&amp;edm=APU89FABAAAA&amp;ccb=7-4&amp;oh=00_AT_cqRgI_UHK118Ecm9fXPPBXEg6Upn-o3psMrKzmhQxfg&amp;oe=626ACE05&amp;_nc_sid=86f79a 640w\" style=\"object-fit: cover;\"/>\n",
      "16\n"
     ]
    },
    {
     "name": "stdout",
     "output_type": "stream",
     "text": [
      "https://www.instagram.com/p/CbiG9dfL9-U/\n",
      "<img class=\"FFVAD\" crossorigin=\"anonymous\" src=\"https://scontent-ham3-1.cdninstagram.com/v/t51.2885-15/277233871_375220934277836_1995417135255603826_n.jpg?stp=dst-jpg_e35&amp;_nc_ht=scontent-ham3-1.cdninstagram.com&amp;_nc_cat=108&amp;_nc_ohc=nw4KvIoQ9AoAX9QgkUa&amp;tn=QAjGcsPYrcll-VfW&amp;edm=AABBvjUBAAAA&amp;ccb=7-4&amp;ig_cache_key=MjgwMTgzMjUzMDAwNjc2MTM2NA%3D%3D.2-ccb7-4&amp;oh=00_AT8sEx75dLSV8wrRecX1zr30HDhWn-P1waA5vCmrNP3Csw&amp;oe=626B2244&amp;_nc_sid=83d603\" style=\"object-fit: cover;\"/>\n",
      "17\n",
      "https://www.instagram.com/p/CbdoAv5vsRc/\n",
      "<img class=\"FFVAD\" crossorigin=\"anonymous\" decoding=\"auto\" sizes=\"479px\" src=\"https://scontent-ham3-1.cdninstagram.com/v/t51.2885-15/277133743_1071029026794959_7162464874815980280_n.jpg?stp=dst-jpg_e35&amp;_nc_ht=scontent-ham3-1.cdninstagram.com&amp;_nc_cat=111&amp;_nc_ohc=PnkZONG0JzcAX8jsjY9&amp;tn=QAjGcsPYrcll-VfW&amp;edm=AABBvjUBAAAA&amp;ccb=7-4&amp;ig_cache_key=MjgwMDU3MDUxNjU4OTQyOTg1Mg%3D%3D.2-ccb7-4&amp;oh=00_AT9LwvMERAOY6s9AFL_RXaHmTgI2KA7dfQm0BrHTIJ7zPg&amp;oe=626B3E9A&amp;_nc_sid=83d603\" srcset=\"https://scontent-ham3-1.cdninstagram.com/v/t51.2885-15/277133743_1071029026794959_7162464874815980280_n.jpg?stp=dst-jpg_e35_p1080x1080&amp;_nc_ht=scontent-ham3-1.cdninstagram.com&amp;_nc_cat=111&amp;_nc_ohc=PnkZONG0JzcAX8jsjY9&amp;tn=QAjGcsPYrcll-VfW&amp;edm=AABBvjUBAAAA&amp;ccb=7-4&amp;ig_cache_key=MjgwMDU3MDUxNjU4OTQyOTg1Mg%3D%3D.2-ccb7-4&amp;oh=00_AT_9omyXQ9a-t1PbqbjzRy7S_ReSWNJZmkoKJvPe8b2Fkw&amp;oe=626B3E9A&amp;_nc_sid=83d603 1080w,https://scontent-ham3-1.cdninstagram.com/v/t51.2885-15/277133743_1071029026794959_7162464874815980280_n.jpg?stp=dst-jpg_e35_p750x750_sh0.08&amp;_nc_ht=scontent-ham3-1.cdninstagram.com&amp;_nc_cat=111&amp;_nc_ohc=PnkZONG0JzcAX8jsjY9&amp;tn=QAjGcsPYrcll-VfW&amp;edm=AABBvjUBAAAA&amp;ccb=7-4&amp;ig_cache_key=MjgwMDU3MDUxNjU4OTQyOTg1Mg%3D%3D.2-ccb7-4&amp;oh=00_AT9oWRjrEfGmaVHwz87h8gT4wOXSGAKCrQqgerUAtTa9BQ&amp;oe=626B3E9A&amp;_nc_sid=83d603 750w,https://scontent-ham3-1.cdninstagram.com/v/t51.2885-15/277133743_1071029026794959_7162464874815980280_n.jpg?stp=dst-jpg_e35_p640x640_sh0.08&amp;_nc_ht=scontent-ham3-1.cdninstagram.com&amp;_nc_cat=111&amp;_nc_ohc=PnkZONG0JzcAX8jsjY9&amp;tn=QAjGcsPYrcll-VfW&amp;edm=AABBvjUBAAAA&amp;ccb=7-4&amp;ig_cache_key=MjgwMDU3MDUxNjU4OTQyOTg1Mg%3D%3D.2-ccb7-4&amp;oh=00_AT-jEKpu1yU74ghqWBgv7XHKDE5_f4MGEl30n5VQLzxogA&amp;oe=626B3E9A&amp;_nc_sid=83d603 640w,https://scontent-ham3-1.cdninstagram.com/v/t51.2885-15/277133743_1071029026794959_7162464874815980280_n.jpg?stp=dst-jpg_e35_p480x480&amp;_nc_ht=scontent-ham3-1.cdninstagram.com&amp;_nc_cat=111&amp;_nc_ohc=PnkZONG0JzcAX8jsjY9&amp;tn=QAjGcsPYrcll-VfW&amp;edm=AABBvjUBAAAA&amp;ccb=7-4&amp;ig_cache_key=MjgwMDU3MDUxNjU4OTQyOTg1Mg%3D%3D.2-ccb7-4&amp;oh=00_AT_uj9z6HWsal-Vwf-b2_UnLHvCVZ0mlKf-whwdbtIVjUw&amp;oe=626B3E9A&amp;_nc_sid=83d603 480w,https://scontent-ham3-1.cdninstagram.com/v/t51.2885-15/277133743_1071029026794959_7162464874815980280_n.jpg?stp=dst-jpg_e35_p320x320&amp;_nc_ht=scontent-ham3-1.cdninstagram.com&amp;_nc_cat=111&amp;_nc_ohc=PnkZONG0JzcAX8jsjY9&amp;tn=QAjGcsPYrcll-VfW&amp;edm=AABBvjUBAAAA&amp;ccb=7-4&amp;ig_cache_key=MjgwMDU3MDUxNjU4OTQyOTg1Mg%3D%3D.2-ccb7-4&amp;oh=00_AT-nx5wU1U1mPJIu5aFlSnj4a1h6L-eQcYJ5Zm-HOOwZ6A&amp;oe=626B3E9A&amp;_nc_sid=83d603 320w,https://scontent-ham3-1.cdninstagram.com/v/t51.2885-15/277133743_1071029026794959_7162464874815980280_n.jpg?stp=dst-jpg_e35_p240x240&amp;_nc_ht=scontent-ham3-1.cdninstagram.com&amp;_nc_cat=111&amp;_nc_ohc=PnkZONG0JzcAX8jsjY9&amp;tn=QAjGcsPYrcll-VfW&amp;edm=AABBvjUBAAAA&amp;ccb=7-4&amp;ig_cache_key=MjgwMDU3MDUxNjU4OTQyOTg1Mg%3D%3D.2-ccb7-4&amp;oh=00_AT8hKprpJFAZnEXx9zk0vVqls6Q8c1dt2wqypQf6bY8IQA&amp;oe=626B3E9A&amp;_nc_sid=83d603 240w\" style=\"object-fit: cover;\"/>\n",
      "18\n",
      "https://www.instagram.com/p/CbctERULiBA/\n",
      "<img class=\"FFVAD\" crossorigin=\"anonymous\" decoding=\"auto\" sizes=\"479px\" src=\"https://scontent-ham3-1.cdninstagram.com/v/t51.2885-15/277030252_519038196277304_4784031530539043621_n.jpg?stp=dst-jpg_e35&amp;_nc_ht=scontent-ham3-1.cdninstagram.com&amp;_nc_cat=108&amp;_nc_ohc=GcKUdPeS69sAX9UwOLB&amp;edm=AABBvjUBAAAA&amp;ccb=7-4&amp;ig_cache_key=MjgwMDMxMTI3Mzg4MDY5MDc1Mg%3D%3D.2-ccb7-4&amp;oh=00_AT-eIGj1C95nQ_QwdyKZaZ0zc8MGaxSB3bcUzW7F1airjQ&amp;oe=626B0372&amp;_nc_sid=83d603\" srcset=\"https://scontent-ham3-1.cdninstagram.com/v/t51.2885-15/277030252_519038196277304_4784031530539043621_n.jpg?stp=dst-jpg_e35_p1080x1080&amp;_nc_ht=scontent-ham3-1.cdninstagram.com&amp;_nc_cat=108&amp;_nc_ohc=GcKUdPeS69sAX9UwOLB&amp;edm=AABBvjUBAAAA&amp;ccb=7-4&amp;ig_cache_key=MjgwMDMxMTI3Mzg4MDY5MDc1Mg%3D%3D.2-ccb7-4&amp;oh=00_AT-aeKvbatpS9zXCuRKpaaRgzeN8IFeRxmfZfkZLiMRcrA&amp;oe=626B0372&amp;_nc_sid=83d603 1080w,https://scontent-ham3-1.cdninstagram.com/v/t51.2885-15/277030252_519038196277304_4784031530539043621_n.jpg?stp=dst-jpg_e35_p750x750_sh0.08&amp;_nc_ht=scontent-ham3-1.cdninstagram.com&amp;_nc_cat=108&amp;_nc_ohc=GcKUdPeS69sAX9UwOLB&amp;edm=AABBvjUBAAAA&amp;ccb=7-4&amp;ig_cache_key=MjgwMDMxMTI3Mzg4MDY5MDc1Mg%3D%3D.2-ccb7-4&amp;oh=00_AT-VTU0hZ6AfN77Vxls_5HpRLbLfQIzbo_3HLDAsIvEqgw&amp;oe=626B0372&amp;_nc_sid=83d603 750w,https://scontent-ham3-1.cdninstagram.com/v/t51.2885-15/277030252_519038196277304_4784031530539043621_n.jpg?stp=dst-jpg_e35_p640x640_sh0.08&amp;_nc_ht=scontent-ham3-1.cdninstagram.com&amp;_nc_cat=108&amp;_nc_ohc=GcKUdPeS69sAX9UwOLB&amp;edm=AABBvjUBAAAA&amp;ccb=7-4&amp;ig_cache_key=MjgwMDMxMTI3Mzg4MDY5MDc1Mg%3D%3D.2-ccb7-4&amp;oh=00_AT8y_5RA6g1JC8WOHRR5URJ6GCRHmpErOLTIb7MGdcIDng&amp;oe=626B0372&amp;_nc_sid=83d603 640w,https://scontent-ham3-1.cdninstagram.com/v/t51.2885-15/277030252_519038196277304_4784031530539043621_n.jpg?stp=dst-jpg_e35_p480x480&amp;_nc_ht=scontent-ham3-1.cdninstagram.com&amp;_nc_cat=108&amp;_nc_ohc=GcKUdPeS69sAX9UwOLB&amp;edm=AABBvjUBAAAA&amp;ccb=7-4&amp;ig_cache_key=MjgwMDMxMTI3Mzg4MDY5MDc1Mg%3D%3D.2-ccb7-4&amp;oh=00_AT_RBGP5KYO6Kqz06pa9bPL0FfLRaxy5YOy4O59xxo0DCw&amp;oe=626B0372&amp;_nc_sid=83d603 480w,https://scontent-ham3-1.cdninstagram.com/v/t51.2885-15/277030252_519038196277304_4784031530539043621_n.jpg?stp=dst-jpg_e35_p320x320&amp;_nc_ht=scontent-ham3-1.cdninstagram.com&amp;_nc_cat=108&amp;_nc_ohc=GcKUdPeS69sAX9UwOLB&amp;edm=AABBvjUBAAAA&amp;ccb=7-4&amp;ig_cache_key=MjgwMDMxMTI3Mzg4MDY5MDc1Mg%3D%3D.2-ccb7-4&amp;oh=00_AT_RxvsiPj6pNbOGgIY8aRfIiarNlVzFjr6rHItAFDWT_Q&amp;oe=626B0372&amp;_nc_sid=83d603 320w,https://scontent-ham3-1.cdninstagram.com/v/t51.2885-15/277030252_519038196277304_4784031530539043621_n.jpg?stp=dst-jpg_e35_p240x240&amp;_nc_ht=scontent-ham3-1.cdninstagram.com&amp;_nc_cat=108&amp;_nc_ohc=GcKUdPeS69sAX9UwOLB&amp;edm=AABBvjUBAAAA&amp;ccb=7-4&amp;ig_cache_key=MjgwMDMxMTI3Mzg4MDY5MDc1Mg%3D%3D.2-ccb7-4&amp;oh=00_AT_9tTBJy8hDu9R5RirT2Gq7G2I22yvvkn-PDXc53jY_gA&amp;oe=626B0372&amp;_nc_sid=83d603 240w\" style=\"object-fit: cover;\"/>\n",
      "19\n",
      "https://www.instagram.com/p/CbYp9Cag0ii/\n",
      "<img class=\"FFVAD\" crossorigin=\"anonymous\" decoding=\"auto\" sizes=\"283px\" src=\"https://scontent-ham3-1.cdninstagram.com/v/t51.2885-15/278949775_406609484246574_8156469717410803772_n.jpg?stp=c0.280.720.720a_dst-jpg_e15_s640x640&amp;_nc_ht=scontent-ham3-1.cdninstagram.com&amp;_nc_cat=106&amp;_nc_ohc=EmZWpVgEnXcAX9Kv-nC&amp;tn=QAjGcsPYrcll-VfW&amp;edm=APU89FABAAAA&amp;ccb=7-4&amp;oh=00_AT8ntNIu9d7t5RoZeSc-xYGmUdZbPwFTihzgv_ktz4x9dg&amp;oe=626630C5&amp;_nc_sid=86f79a\" srcset=\"https://scontent-ham3-1.cdninstagram.com/v/t51.2885-15/278949775_406609484246574_8156469717410803772_n.jpg?stp=c0.280.720.720a_dst-jpg_e15_s150x150&amp;_nc_ht=scontent-ham3-1.cdninstagram.com&amp;_nc_cat=106&amp;_nc_ohc=EmZWpVgEnXcAX9Kv-nC&amp;tn=QAjGcsPYrcll-VfW&amp;edm=APU89FABAAAA&amp;ccb=7-4&amp;oh=00_AT8cumzQP6opWHi5rARom-vF4zJEU_N92_XMenU4TItZBQ&amp;oe=626ACE05&amp;_nc_sid=86f79a 150w,https://scontent-ham3-1.cdninstagram.com/v/t51.2885-15/278949775_406609484246574_8156469717410803772_n.jpg?stp=c0.280.720.720a_dst-jpg_e15_s240x240&amp;_nc_ht=scontent-ham3-1.cdninstagram.com&amp;_nc_cat=106&amp;_nc_ohc=EmZWpVgEnXcAX9Kv-nC&amp;tn=QAjGcsPYrcll-VfW&amp;edm=APU89FABAAAA&amp;ccb=7-4&amp;oh=00_AT_dSweZie5nnEJ_ajbhR6u74jqwxc42MDzeDTCE9Fnc8g&amp;oe=626ACE05&amp;_nc_sid=86f79a 240w,https://scontent-ham3-1.cdninstagram.com/v/t51.2885-15/278949775_406609484246574_8156469717410803772_n.jpg?stp=c0.280.720.720a_dst-jpg_e15_s320x320&amp;_nc_ht=scontent-ham3-1.cdninstagram.com&amp;_nc_cat=106&amp;_nc_ohc=EmZWpVgEnXcAX9Kv-nC&amp;tn=QAjGcsPYrcll-VfW&amp;edm=APU89FABAAAA&amp;ccb=7-4&amp;oh=00_AT97WGp9KtXo36xK6WJwzctDrnZr63vMxPn9ipk-vNa3Qg&amp;oe=626ACE05&amp;_nc_sid=86f79a 320w,https://scontent-ham3-1.cdninstagram.com/v/t51.2885-15/278949775_406609484246574_8156469717410803772_n.jpg?stp=c0.280.720.720a_dst-jpg_e15_s480x480&amp;_nc_ht=scontent-ham3-1.cdninstagram.com&amp;_nc_cat=106&amp;_nc_ohc=EmZWpVgEnXcAX9Kv-nC&amp;tn=QAjGcsPYrcll-VfW&amp;edm=APU89FABAAAA&amp;ccb=7-4&amp;oh=00_AT9Q2AXByqE7xr8lasMIomiWZ6OBw4Q0IWYN_HU0Us7otg&amp;oe=626ACE05&amp;_nc_sid=86f79a 480w,https://scontent-ham3-1.cdninstagram.com/v/t51.2885-15/278949775_406609484246574_8156469717410803772_n.jpg?stp=c0.280.720.720a_dst-jpg_e15_s640x640&amp;_nc_ht=scontent-ham3-1.cdninstagram.com&amp;_nc_cat=106&amp;_nc_ohc=EmZWpVgEnXcAX9Kv-nC&amp;tn=QAjGcsPYrcll-VfW&amp;edm=APU89FABAAAA&amp;ccb=7-4&amp;oh=00_AT_cqRgI_UHK118Ecm9fXPPBXEg6Upn-o3psMrKzmhQxfg&amp;oe=626ACE05&amp;_nc_sid=86f79a 640w\" style=\"object-fit: cover;\"/>\n",
      "20\n"
     ]
    },
    {
     "name": "stdout",
     "output_type": "stream",
     "text": [
      "https://www.instagram.com/p/CbQ7t1Bv3KI/\n",
      "<img class=\"FFVAD\" crossorigin=\"anonymous\" src=\"https://scontent-ham3-1.cdninstagram.com/v/t51.2885-15/275715283_516754240053341_5430515724162466536_n.jpg?stp=dst-jpg_e35&amp;_nc_ht=scontent-ham3-1.cdninstagram.com&amp;_nc_cat=105&amp;_nc_ohc=QpeAt_G25HkAX-PVEC7&amp;edm=AABBvjUBAAAA&amp;ccb=7-4&amp;ig_cache_key=Mjc5Njk5ODAwMjY1NTMyNjg1Ng%3D%3D.2-ccb7-4&amp;oh=00_AT8VRZ3tqPYMsAt3Lx4dVE0jaqEyL_-1TgB2qyNy3QTnbg&amp;oe=626BF02F&amp;_nc_sid=83d603\" style=\"object-fit: cover;\"/>\n",
      "21\n",
      "https://www.instagram.com/p/CbNhpYNgrLV/\n",
      "<img class=\"FFVAD\" crossorigin=\"anonymous\" decoding=\"auto\" sizes=\"283px\" src=\"https://scontent-ham3-1.cdninstagram.com/v/t51.2885-15/278949775_406609484246574_8156469717410803772_n.jpg?stp=c0.280.720.720a_dst-jpg_e15_s640x640&amp;_nc_ht=scontent-ham3-1.cdninstagram.com&amp;_nc_cat=106&amp;_nc_ohc=EmZWpVgEnXcAX9Kv-nC&amp;tn=QAjGcsPYrcll-VfW&amp;edm=APU89FABAAAA&amp;ccb=7-4&amp;oh=00_AT8ntNIu9d7t5RoZeSc-xYGmUdZbPwFTihzgv_ktz4x9dg&amp;oe=626630C5&amp;_nc_sid=86f79a\" srcset=\"https://scontent-ham3-1.cdninstagram.com/v/t51.2885-15/278949775_406609484246574_8156469717410803772_n.jpg?stp=c0.280.720.720a_dst-jpg_e15_s150x150&amp;_nc_ht=scontent-ham3-1.cdninstagram.com&amp;_nc_cat=106&amp;_nc_ohc=EmZWpVgEnXcAX9Kv-nC&amp;tn=QAjGcsPYrcll-VfW&amp;edm=APU89FABAAAA&amp;ccb=7-4&amp;oh=00_AT8cumzQP6opWHi5rARom-vF4zJEU_N92_XMenU4TItZBQ&amp;oe=626ACE05&amp;_nc_sid=86f79a 150w,https://scontent-ham3-1.cdninstagram.com/v/t51.2885-15/278949775_406609484246574_8156469717410803772_n.jpg?stp=c0.280.720.720a_dst-jpg_e15_s240x240&amp;_nc_ht=scontent-ham3-1.cdninstagram.com&amp;_nc_cat=106&amp;_nc_ohc=EmZWpVgEnXcAX9Kv-nC&amp;tn=QAjGcsPYrcll-VfW&amp;edm=APU89FABAAAA&amp;ccb=7-4&amp;oh=00_AT_dSweZie5nnEJ_ajbhR6u74jqwxc42MDzeDTCE9Fnc8g&amp;oe=626ACE05&amp;_nc_sid=86f79a 240w,https://scontent-ham3-1.cdninstagram.com/v/t51.2885-15/278949775_406609484246574_8156469717410803772_n.jpg?stp=c0.280.720.720a_dst-jpg_e15_s320x320&amp;_nc_ht=scontent-ham3-1.cdninstagram.com&amp;_nc_cat=106&amp;_nc_ohc=EmZWpVgEnXcAX9Kv-nC&amp;tn=QAjGcsPYrcll-VfW&amp;edm=APU89FABAAAA&amp;ccb=7-4&amp;oh=00_AT97WGp9KtXo36xK6WJwzctDrnZr63vMxPn9ipk-vNa3Qg&amp;oe=626ACE05&amp;_nc_sid=86f79a 320w,https://scontent-ham3-1.cdninstagram.com/v/t51.2885-15/278949775_406609484246574_8156469717410803772_n.jpg?stp=c0.280.720.720a_dst-jpg_e15_s480x480&amp;_nc_ht=scontent-ham3-1.cdninstagram.com&amp;_nc_cat=106&amp;_nc_ohc=EmZWpVgEnXcAX9Kv-nC&amp;tn=QAjGcsPYrcll-VfW&amp;edm=APU89FABAAAA&amp;ccb=7-4&amp;oh=00_AT9Q2AXByqE7xr8lasMIomiWZ6OBw4Q0IWYN_HU0Us7otg&amp;oe=626ACE05&amp;_nc_sid=86f79a 480w,https://scontent-ham3-1.cdninstagram.com/v/t51.2885-15/278949775_406609484246574_8156469717410803772_n.jpg?stp=c0.280.720.720a_dst-jpg_e15_s640x640&amp;_nc_ht=scontent-ham3-1.cdninstagram.com&amp;_nc_cat=106&amp;_nc_ohc=EmZWpVgEnXcAX9Kv-nC&amp;tn=QAjGcsPYrcll-VfW&amp;edm=APU89FABAAAA&amp;ccb=7-4&amp;oh=00_AT_cqRgI_UHK118Ecm9fXPPBXEg6Upn-o3psMrKzmhQxfg&amp;oe=626ACE05&amp;_nc_sid=86f79a 640w\" style=\"object-fit: cover;\"/>\n",
      "22\n",
      "https://www.instagram.com/p/CbIIXYAgW97/\n",
      "<img class=\"FFVAD\" crossorigin=\"anonymous\" decoding=\"auto\" sizes=\"478px\" src=\"https://scontent-ham3-1.cdninstagram.com/v/t51.2885-15/275822201_4637013506408689_432402542718493919_n.jpg?stp=dst-jpg_e35&amp;_nc_ht=scontent-ham3-1.cdninstagram.com&amp;_nc_cat=101&amp;_nc_ohc=OSKPUz7JY3YAX8vlFnk&amp;edm=AABBvjUBAAAA&amp;ccb=7-4&amp;ig_cache_key=Mjc5NDUyMDM1OTQ4MTczMjk4Nw%3D%3D.2-ccb7-4&amp;oh=00_AT_sHTMVJV_JAVKZj8g1aAqpYoLUoef6VIVyUqqU3pA3rA&amp;oe=626BA983&amp;_nc_sid=83d603\" srcset=\"https://scontent-ham3-1.cdninstagram.com/v/t51.2885-15/275822201_4637013506408689_432402542718493919_n.jpg?stp=dst-jpg_e35&amp;_nc_ht=scontent-ham3-1.cdninstagram.com&amp;_nc_cat=101&amp;_nc_ohc=OSKPUz7JY3YAX8vlFnk&amp;edm=AABBvjUBAAAA&amp;ccb=7-4&amp;ig_cache_key=Mjc5NDUyMDM1OTQ4MTczMjk4Nw%3D%3D.2-ccb7-4&amp;oh=00_AT_sHTMVJV_JAVKZj8g1aAqpYoLUoef6VIVyUqqU3pA3rA&amp;oe=626BA983&amp;_nc_sid=83d603 1080w,https://scontent-ham3-1.cdninstagram.com/v/t51.2885-15/275822201_4637013506408689_432402542718493919_n.jpg?stp=dst-jpg_e35_p750x750_sh0.08&amp;_nc_ht=scontent-ham3-1.cdninstagram.com&amp;_nc_cat=101&amp;_nc_ohc=OSKPUz7JY3YAX8vlFnk&amp;edm=AABBvjUBAAAA&amp;ccb=7-4&amp;ig_cache_key=Mjc5NDUyMDM1OTQ4MTczMjk4Nw%3D%3D.2-ccb7-4&amp;oh=00_AT8nFlL9IFOY3TTUijXLDiak679LZJC9qU_9lNCZR6jM7g&amp;oe=626BA983&amp;_nc_sid=83d603 750w,https://scontent-ham3-1.cdninstagram.com/v/t51.2885-15/275822201_4637013506408689_432402542718493919_n.jpg?stp=dst-jpg_e35_p640x640_sh0.08&amp;_nc_ht=scontent-ham3-1.cdninstagram.com&amp;_nc_cat=101&amp;_nc_ohc=OSKPUz7JY3YAX8vlFnk&amp;edm=AABBvjUBAAAA&amp;ccb=7-4&amp;ig_cache_key=Mjc5NDUyMDM1OTQ4MTczMjk4Nw%3D%3D.2-ccb7-4&amp;oh=00_AT9xa7E7TbI_pHBEjtBm1CyBbe8Mm_ReKKqSN8mDTqNsog&amp;oe=626BA983&amp;_nc_sid=83d603 640w,https://scontent-ham3-1.cdninstagram.com/v/t51.2885-15/275822201_4637013506408689_432402542718493919_n.jpg?stp=dst-jpg_e35_p480x480&amp;_nc_ht=scontent-ham3-1.cdninstagram.com&amp;_nc_cat=101&amp;_nc_ohc=OSKPUz7JY3YAX8vlFnk&amp;edm=AABBvjUBAAAA&amp;ccb=7-4&amp;ig_cache_key=Mjc5NDUyMDM1OTQ4MTczMjk4Nw%3D%3D.2-ccb7-4&amp;oh=00_AT9Pd7jZo5n-qjylCEVQg3eUdZa2R8Onn__3JsPJ6GYCAw&amp;oe=626BA983&amp;_nc_sid=83d603 480w,https://scontent-ham3-1.cdninstagram.com/v/t51.2885-15/275822201_4637013506408689_432402542718493919_n.jpg?stp=dst-jpg_e35_p320x320&amp;_nc_ht=scontent-ham3-1.cdninstagram.com&amp;_nc_cat=101&amp;_nc_ohc=OSKPUz7JY3YAX8vlFnk&amp;edm=AABBvjUBAAAA&amp;ccb=7-4&amp;ig_cache_key=Mjc5NDUyMDM1OTQ4MTczMjk4Nw%3D%3D.2-ccb7-4&amp;oh=00_AT-qBiMm3VJndd9P82GtwBbf8OyF1zDZ_VAZBFJEqCvJoA&amp;oe=626BA983&amp;_nc_sid=83d603 320w,https://scontent-ham3-1.cdninstagram.com/v/t51.2885-15/275822201_4637013506408689_432402542718493919_n.jpg?stp=dst-jpg_e35_p240x240&amp;_nc_ht=scontent-ham3-1.cdninstagram.com&amp;_nc_cat=101&amp;_nc_ohc=OSKPUz7JY3YAX8vlFnk&amp;edm=AABBvjUBAAAA&amp;ccb=7-4&amp;ig_cache_key=Mjc5NDUyMDM1OTQ4MTczMjk4Nw%3D%3D.2-ccb7-4&amp;oh=00_AT-RIcsUDFKpQcLJrvvZwLtZPA-19VI4zDNtQjr4GBJvMA&amp;oe=626BA983&amp;_nc_sid=83d603 240w\" style=\"object-fit: cover;\"/>\n",
      "23\n",
      "https://www.instagram.com/p/CbGc16ePEnE/\n",
      "<img class=\"FFVAD\" crossorigin=\"anonymous\" src=\"https://scontent-ham3-1.cdninstagram.com/v/t51.2885-15/275732173_668721320992090_9209271696270747183_n.jpg?stp=dst-jpg_e15_fr_s1080x1080&amp;_nc_ht=scontent-ham3-1.cdninstagram.com&amp;_nc_cat=110&amp;_nc_ohc=thBhRy3krFEAX-HEn_y&amp;edm=AABBvjUBAAAA&amp;ccb=7-4&amp;ig_cache_key=Mjc5NDA0NzQ2OTA0ODg0MjY5Mg%3D%3D.2-ccb7-4&amp;oh=00_AT8aWRaC38u1EksSwuA4bOmNbtfAQ6odpKwVmpBkGguAdQ&amp;oe=626B90E9&amp;_nc_sid=83d603\" style=\"object-fit: cover;\"/>\n",
      "24\n"
     ]
    }
   ],
   "source": [
    "#open each link in new tab to get html\n",
    "i=0\n",
    "comment_master=[]\n",
    "caption_master=[]\n",
    "image_master=[]\n",
    "for link in links:\n",
    "    #driver.switch_to_window([win for win in driver.window_handles if win !=cur_win][0]) # switch to new window\n",
    "    driver.get(link)\n",
    "    time.sleep(2)\n",
    "    #scrollin for i in range(4):\n",
    "        #driver.execute_script(\"window.scrollTo(0,document.body.scrollHeight);\")\n",
    "        #time.sleep(2)\n",
    "    #driver.switch_to.window\n",
    "    html = driver.page_source\n",
    "    data = html.encode('utf-8')\n",
    "    #print('Number of scraped html: ', len(soup))\n",
    "    print(link)\n",
    "#get captions from each html\n",
    "    soup = BeautifulSoup(data, 'html')\n",
    "    captions = fetch_captions()\n",
    "    caption_master.append(captions)\n",
    "    #print(soup)\n",
    "#get comments of each html\n",
    "    comments = fetch_comments()\n",
    "    comment_master.append(comments)\n",
    "    #print(comments)\n",
    "#get images from each post\n",
    "    images = get_images()\n",
    "    image_master.append(images)\n",
    "    i+=1\n",
    "    print(i)\n"
   ]
  },
  {
   "cell_type": "markdown",
   "id": "f29f4304",
   "metadata": {},
   "source": [
    "# Pandas Dataframe"
   ]
  },
  {
   "cell_type": "code",
   "execution_count": 58,
   "id": "8ffe4edc",
   "metadata": {},
   "outputs": [],
   "source": [
    "#Import pandas\n",
    "import pandas as pd"
   ]
  },
  {
   "cell_type": "code",
   "execution_count": 64,
   "id": "62d778e9",
   "metadata": {},
   "outputs": [],
   "source": [
    "#Create a dataframe with the correct column titles\n",
    "exp = pd.DataFrame(columns = ['Post Link', 'Image', 'Caption','Comments'])"
   ]
  },
  {
   "cell_type": "code",
   "execution_count": 72,
   "id": "d1d92af4",
   "metadata": {},
   "outputs": [
    {
     "name": "stdout",
     "output_type": "stream",
     "text": [
      "24\n",
      "24\n",
      "24\n"
     ]
    }
   ],
   "source": [
    "print(len(image_master))\n",
    "print(len(links))\n",
    "print(len(comment_master))\n"
   ]
  },
  {
   "cell_type": "code",
   "execution_count": 74,
   "id": "a7153e25",
   "metadata": {},
   "outputs": [],
   "source": [
    "#Define the panda objects from our scraped data outputs\n",
    "#pddate = pd.DataFrame(data_date)\n",
    "pdlink = pd.DataFrame(links)\n",
    "pdcaption = pd.DataFrame(caption_master)\n",
    "pdimage = pd.DataFrame(image_master)\n",
    "#pdcomment = pd.DataFrame(comment_master)\n",
    "\n",
    "i=0;\n",
    "comment_dict = {}\n",
    "for link in links:\n",
    "    comment_dict[link] = comment_master[i]\n",
    "    i=i+1;\n"
   ]
  },
  {
   "cell_type": "code",
   "execution_count": 71,
   "id": "43a517d7",
   "metadata": {
    "scrolled": true
   },
   "outputs": [
    {
     "data": {
      "text/plain": [
       "'https://scontent-ham3-1.cdninstagram.com/v/t51.2885-15/278894167_408414647370855_7680173240456342713_n.jpg?stp=dst-jpg_e35&_nc_ht=scontent-ham3-1.cdninstagram.com&_nc_cat=103&_nc_ohc=pjdXfTntr3oAX__YyDa&edm=APU89FABAAAA&ccb=7-4&oh=00_AT-n7lx0CcEHddCj1uuv6-ZIVe7BNgMCDp26QkVYqVJu0w&oe=626B195E&_nc_sid=86f79a'"
      ]
     },
     "execution_count": 71,
     "metadata": {},
     "output_type": "execute_result"
    }
   ],
   "source": [
    "#Import our defined panda objects into the correct columns and preview\n",
    "\n",
    "exp['Post Link'] = pdlink\n",
    "exp['Caption'] = pdcaption\n",
    "exp['Image'] = pdimage\n",
    "#exp['Comments'] = pdcomment\n",
    "\n"
   ]
  },
  {
   "cell_type": "code",
   "execution_count": 76,
   "id": "50d68e9b",
   "metadata": {},
   "outputs": [
    {
     "data": {
      "text/plain": [
       "'https://scontent-ham3-1.cdninstagram.com/v/t51.2885-15/278894167_408414647370855_7680173240456342713_n.jpg?stp=dst-jpg_e35&_nc_ht=scontent-ham3-1.cdninstagram.com&_nc_cat=103&_nc_ohc=pjdXfTntr3oAX__YyDa&edm=APU89FABAAAA&ccb=7-4&oh=00_AT-n7lx0CcEHddCj1uuv6-ZIVe7BNgMCDp26QkVYqVJu0w&oe=626B195E&_nc_sid=86f79a'"
      ]
     },
     "execution_count": 76,
     "metadata": {},
     "output_type": "execute_result"
    }
   ],
   "source": [
    "exp[\"Image\"].iloc[0]"
   ]
  },
  {
   "cell_type": "code",
   "execution_count": 77,
   "id": "8b5a016c",
   "metadata": {},
   "outputs": [
    {
     "data": {
      "text/plain": [
       "['For years you’ve been asking us where you can buy our gear. Today, we’re excited to launch the Beyond Merch shop with all profits going to organizations dedicated to making a positive impact for people and planet. We’re kicking things off with the @socialchangefnd, a non-profit co-founded by one of our ambassadors @cp3.Click the link in bio to shop and support causes, US only. #GoBeyondbeyond.gifts',\n",
       " '💚🙏🏾',\n",
       " '💚💚💚💚',\n",
       " 'Let’s gooooo🔥🔥',\n",
       " '🙌🙌🙌',\n",
       " 'Omg 💚💚💚 brb getting a shirt',\n",
       " '😍👏',\n",
       " '🔥🔥🔥🔥🔥',\n",
       " 'Let’s goooooo 🔥🔥🔥',\n",
       " 'Make the stock great again \\U0001faf5',\n",
       " 'Brilliant to be backed by so many BIG names - like Lukaku and Kyrgios 👏👏',\n",
       " 'Love this well done 👏🙌',\n",
       " 'bring to Canada soon pls 😍',\n",
       " 'Yay!',\n",
       " 'Well Lukaku lives in London,if u can send it to him u can send it to me as well !!? 😂😂🔥',\n",
       " 'Pls make a beyond chicken shirt 😍',\n",
       " 'Funny😂',\n",
       " '🙌🙌🙌 bucket hats thats green 💚🙏🏻',\n",
       " 'Who’s the executive?! 🔥',\n",
       " 'Real question: should I get some merch?',\n",
       " 'Their sausages Italian Are amazing. 👏']"
      ]
     },
     "execution_count": 77,
     "metadata": {},
     "output_type": "execute_result"
    }
   ],
   "source": [
    "comment_dict[exp['Post Link'].iloc[0]]"
   ]
  },
  {
   "cell_type": "code",
   "execution_count": null,
   "id": "a301bbe0",
   "metadata": {},
   "outputs": [],
   "source": [
    "#Export the data as .csv to the local drive\n",
    "#exp.to_csv(path_or_buf=\"C:\\Users\\colle\\OneDrive\\Documents\\Web Mining\", sep=',', na_rep='', float_format=None, columns=None, header=True, index=True, index_label=None, mode='w', encoding=None, compression='infer', quoting=None, quotechar='\"', line_terminator=None, chunksize=None, date_format=None, doublequote=True, escapechar=None, decimal='.', errors='strict', storage_options=None)"
   ]
  },
  {
   "cell_type": "code",
   "execution_count": null,
   "id": "e5b2b74f",
   "metadata": {},
   "outputs": [],
   "source": [
    "exp.to_csv(\"individ_web.2.22.4.csv\", encoding='utf-8',index=True)\n"
   ]
  },
  {
   "cell_type": "markdown",
   "id": "37549bd9",
   "metadata": {},
   "source": [
    "# Word Cloud"
   ]
  },
  {
   "cell_type": "code",
   "execution_count": 55,
   "id": "07a94a32",
   "metadata": {},
   "outputs": [
    {
     "ename": "ModuleNotFoundError",
     "evalue": "No module named 'wordcloud'",
     "output_type": "error",
     "traceback": [
      "\u001b[1;31m---------------------------------------------------------------------------\u001b[0m",
      "\u001b[1;31mModuleNotFoundError\u001b[0m                       Traceback (most recent call last)",
      "\u001b[1;32m~\\AppData\\Local\\Temp/ipykernel_7200/492858602.py\u001b[0m in \u001b[0;36m<module>\u001b[1;34m\u001b[0m\n\u001b[1;32m----> 1\u001b[1;33m \u001b[1;32mimport\u001b[0m \u001b[0mwordcloud\u001b[0m\u001b[1;33m\u001b[0m\u001b[1;33m\u001b[0m\u001b[0m\n\u001b[0m",
      "\u001b[1;31mModuleNotFoundError\u001b[0m: No module named 'wordcloud'"
     ]
    }
   ],
   "source": [
    "import wordcloud"
   ]
  },
  {
   "cell_type": "code",
   "execution_count": 56,
   "id": "195131b2",
   "metadata": {},
   "outputs": [
    {
     "ename": "ModuleNotFoundError",
     "evalue": "No module named 'wordcloud'",
     "output_type": "error",
     "traceback": [
      "\u001b[1;31m---------------------------------------------------------------------------\u001b[0m",
      "\u001b[1;31mModuleNotFoundError\u001b[0m                       Traceback (most recent call last)",
      "\u001b[1;32m~\\AppData\\Local\\Temp/ipykernel_7200/1585480018.py\u001b[0m in \u001b[0;36m<module>\u001b[1;34m\u001b[0m\n\u001b[0;32m      3\u001b[0m \u001b[1;32mimport\u001b[0m \u001b[0mmatplotlib\u001b[0m\u001b[1;33m.\u001b[0m\u001b[0mpyplot\u001b[0m \u001b[1;32mas\u001b[0m \u001b[0mplt\u001b[0m\u001b[1;33m\u001b[0m\u001b[1;33m\u001b[0m\u001b[0m\n\u001b[0;32m      4\u001b[0m \u001b[1;32mimport\u001b[0m \u001b[0mre\u001b[0m\u001b[1;33m\u001b[0m\u001b[1;33m\u001b[0m\u001b[0m\n\u001b[1;32m----> 5\u001b[1;33m \u001b[1;32mfrom\u001b[0m \u001b[0mwordcloud\u001b[0m \u001b[1;32mimport\u001b[0m \u001b[0mWordCloud\u001b[0m\u001b[1;33m,\u001b[0m \u001b[0mSTOPWORDS\u001b[0m\u001b[1;33m\u001b[0m\u001b[1;33m\u001b[0m\u001b[0m\n\u001b[0m\u001b[0;32m      6\u001b[0m \u001b[0mget_ipython\u001b[0m\u001b[1;33m(\u001b[0m\u001b[1;33m)\u001b[0m\u001b[1;33m.\u001b[0m\u001b[0mrun_line_magic\u001b[0m\u001b[1;33m(\u001b[0m\u001b[1;34m'matplotlib'\u001b[0m\u001b[1;33m,\u001b[0m \u001b[1;34m'inline'\u001b[0m\u001b[1;33m)\u001b[0m\u001b[1;33m\u001b[0m\u001b[1;33m\u001b[0m\u001b[0m\n",
      "\u001b[1;31mModuleNotFoundError\u001b[0m: No module named 'wordcloud'"
     ]
    }
   ],
   "source": [
    "import requests\n",
    "from bs4 import BeautifulSoup\n",
    "import matplotlib.pyplot as plt\n",
    "import re\n",
    "from wordcloud import WordCloud, STOPWORDS\n",
    "%matplotlib inline"
   ]
  },
  {
   "cell_type": "code",
   "execution_count": 57,
   "id": "ee9f1c4e",
   "metadata": {},
   "outputs": [],
   "source": [
    "regex = re.compile('(?=.*RichText.*)(?=.*word-wrap.*)')\n",
    "textelements = soup.findAll('div',{'class':regex})\n",
    "wordstring=\"\"\n",
    "for text in textelements:\n",
    "    x=text.findAll(\"p\")\n",
    "    for p in x:\n",
    "        wordstring=wordstring+p.text"
   ]
  },
  {
   "cell_type": "code",
   "execution_count": 58,
   "id": "374c0a36",
   "metadata": {},
   "outputs": [
    {
     "data": {
      "text/plain": [
       "''"
      ]
     },
     "execution_count": 58,
     "metadata": {},
     "output_type": "execute_result"
    }
   ],
   "source": [
    "wordstring"
   ]
  },
  {
   "cell_type": "code",
   "execution_count": 44,
   "id": "815a368b",
   "metadata": {},
   "outputs": [
    {
     "ename": "NameError",
     "evalue": "name 'WordCloud' is not defined",
     "output_type": "error",
     "traceback": [
      "\u001b[1;31m---------------------------------------------------------------------------\u001b[0m",
      "\u001b[1;31mNameError\u001b[0m                                 Traceback (most recent call last)",
      "\u001b[1;32m~\\AppData\\Local\\Temp/ipykernel_7200/3460754004.py\u001b[0m in \u001b[0;36m<module>\u001b[1;34m\u001b[0m\n\u001b[1;32m----> 1\u001b[1;33m \u001b[0mwordcloud\u001b[0m \u001b[1;33m=\u001b[0m \u001b[0mWordCloud\u001b[0m\u001b[1;33m(\u001b[0m\u001b[0mstopwords\u001b[0m\u001b[1;33m=\u001b[0m\u001b[0mSTOPWORDS\u001b[0m\u001b[1;33m,\u001b[0m\u001b[0mbackground_color\u001b[0m\u001b[1;33m=\u001b[0m\u001b[1;34m'white'\u001b[0m\u001b[1;33m,\u001b[0m \u001b[0mmax_words\u001b[0m\u001b[1;33m=\u001b[0m\u001b[1;36m30\u001b[0m\u001b[1;33m)\u001b[0m\u001b[1;33m.\u001b[0m\u001b[0mgenerate\u001b[0m\u001b[1;33m(\u001b[0m\u001b[0mwordstring\u001b[0m\u001b[1;33m)\u001b[0m\u001b[1;33m\u001b[0m\u001b[1;33m\u001b[0m\u001b[0m\n\u001b[0m",
      "\u001b[1;31mNameError\u001b[0m: name 'WordCloud' is not defined"
     ]
    }
   ],
   "source": [
    "wordcloud = WordCloud(stopwords=STOPWORDS,background_color='white', max_words=30).generate(wordstring)"
   ]
  },
  {
   "cell_type": "code",
   "execution_count": 45,
   "id": "886f6ffb",
   "metadata": {},
   "outputs": [
    {
     "ename": "NameError",
     "evalue": "name 'wordcloud' is not defined",
     "output_type": "error",
     "traceback": [
      "\u001b[1;31m---------------------------------------------------------------------------\u001b[0m",
      "\u001b[1;31mNameError\u001b[0m                                 Traceback (most recent call last)",
      "\u001b[1;32m~\\AppData\\Local\\Temp/ipykernel_7200/2581983710.py\u001b[0m in \u001b[0;36m<module>\u001b[1;34m\u001b[0m\n\u001b[0;32m      1\u001b[0m \u001b[0mplt\u001b[0m\u001b[1;33m.\u001b[0m\u001b[0mclf\u001b[0m\u001b[1;33m(\u001b[0m\u001b[1;33m)\u001b[0m\u001b[1;33m\u001b[0m\u001b[1;33m\u001b[0m\u001b[0m\n\u001b[0;32m      2\u001b[0m \u001b[0mf\u001b[0m \u001b[1;33m=\u001b[0m \u001b[0mplt\u001b[0m\u001b[1;33m.\u001b[0m\u001b[0msubplots\u001b[0m\u001b[1;33m(\u001b[0m\u001b[0mfigsize\u001b[0m\u001b[1;33m=\u001b[0m\u001b[1;33m(\u001b[0m\u001b[1;36m10\u001b[0m\u001b[1;33m,\u001b[0m\u001b[1;36m10\u001b[0m\u001b[1;33m)\u001b[0m\u001b[1;33m)\u001b[0m\u001b[1;33m\u001b[0m\u001b[1;33m\u001b[0m\u001b[0m\n\u001b[1;32m----> 3\u001b[1;33m \u001b[0mplt\u001b[0m\u001b[1;33m.\u001b[0m\u001b[0mimshow\u001b[0m\u001b[1;33m(\u001b[0m\u001b[0mwordcloud\u001b[0m\u001b[1;33m)\u001b[0m\u001b[1;33m\u001b[0m\u001b[1;33m\u001b[0m\u001b[0m\n\u001b[0m\u001b[0;32m      4\u001b[0m \u001b[0mplt\u001b[0m\u001b[1;33m.\u001b[0m\u001b[0maxis\u001b[0m\u001b[1;33m(\u001b[0m\u001b[1;34m'off'\u001b[0m\u001b[1;33m)\u001b[0m\u001b[1;33m\u001b[0m\u001b[1;33m\u001b[0m\u001b[0m\n\u001b[0;32m      5\u001b[0m \u001b[0mplt\u001b[0m\u001b[1;33m.\u001b[0m\u001b[0mshow\u001b[0m\u001b[1;33m(\u001b[0m\u001b[1;33m)\u001b[0m\u001b[1;33m\u001b[0m\u001b[1;33m\u001b[0m\u001b[0m\n",
      "\u001b[1;31mNameError\u001b[0m: name 'wordcloud' is not defined"
     ]
    },
    {
     "data": {
      "text/plain": [
       "<Figure size 432x288 with 0 Axes>"
      ]
     },
     "metadata": {},
     "output_type": "display_data"
    },
    {
     "data": {
      "image/png": "[encoded data removed]",
      "text/plain": [
       "<Figure size 720x720 with 1 Axes>"
      ]
     },
     "metadata": {
      "needs_background": "light"
     },
     "output_type": "display_data"
    }
   ],
   "source": [
    "plt.clf()\n",
    "f = plt.subplots(figsize=(10,10))\n",
    "plt.imshow(wordcloud)\n",
    "plt.axis('off')\n",
    "plt.show()"
   ]
  },
  {
   "cell_type": "code",
   "execution_count": 46,
   "id": "23a26bb5",
   "metadata": {},
   "outputs": [
    {
     "ename": "NameError",
     "evalue": "name 'WordCloud' is not defined",
     "output_type": "error",
     "traceback": [
      "\u001b[1;31m---------------------------------------------------------------------------\u001b[0m",
      "\u001b[1;31mNameError\u001b[0m                                 Traceback (most recent call last)",
      "\u001b[1;32m~\\AppData\\Local\\Temp/ipykernel_7200/3460754004.py\u001b[0m in \u001b[0;36m<module>\u001b[1;34m\u001b[0m\n\u001b[1;32m----> 1\u001b[1;33m \u001b[0mwordcloud\u001b[0m \u001b[1;33m=\u001b[0m \u001b[0mWordCloud\u001b[0m\u001b[1;33m(\u001b[0m\u001b[0mstopwords\u001b[0m\u001b[1;33m=\u001b[0m\u001b[0mSTOPWORDS\u001b[0m\u001b[1;33m,\u001b[0m\u001b[0mbackground_color\u001b[0m\u001b[1;33m=\u001b[0m\u001b[1;34m'white'\u001b[0m\u001b[1;33m,\u001b[0m \u001b[0mmax_words\u001b[0m\u001b[1;33m=\u001b[0m\u001b[1;36m30\u001b[0m\u001b[1;33m)\u001b[0m\u001b[1;33m.\u001b[0m\u001b[0mgenerate\u001b[0m\u001b[1;33m(\u001b[0m\u001b[0mwordstring\u001b[0m\u001b[1;33m)\u001b[0m\u001b[1;33m\u001b[0m\u001b[1;33m\u001b[0m\u001b[0m\n\u001b[0m",
      "\u001b[1;31mNameError\u001b[0m: name 'WordCloud' is not defined"
     ]
    }
   ],
   "source": [
    "wordcloud = WordCloud(stopwords=STOPWORDS,background_color='white', max_words=30).generate(wordstring)"
   ]
  },
  {
   "cell_type": "code",
   "execution_count": 47,
   "id": "8146024a",
   "metadata": {},
   "outputs": [
    {
     "ename": "NameError",
     "evalue": "name 'wordcloud' is not defined",
     "output_type": "error",
     "traceback": [
      "\u001b[1;31m---------------------------------------------------------------------------\u001b[0m",
      "\u001b[1;31mNameError\u001b[0m                                 Traceback (most recent call last)",
      "\u001b[1;32m~\\AppData\\Local\\Temp/ipykernel_7200/2581983710.py\u001b[0m in \u001b[0;36m<module>\u001b[1;34m\u001b[0m\n\u001b[0;32m      1\u001b[0m \u001b[0mplt\u001b[0m\u001b[1;33m.\u001b[0m\u001b[0mclf\u001b[0m\u001b[1;33m(\u001b[0m\u001b[1;33m)\u001b[0m\u001b[1;33m\u001b[0m\u001b[1;33m\u001b[0m\u001b[0m\n\u001b[0;32m      2\u001b[0m \u001b[0mf\u001b[0m \u001b[1;33m=\u001b[0m \u001b[0mplt\u001b[0m\u001b[1;33m.\u001b[0m\u001b[0msubplots\u001b[0m\u001b[1;33m(\u001b[0m\u001b[0mfigsize\u001b[0m\u001b[1;33m=\u001b[0m\u001b[1;33m(\u001b[0m\u001b[1;36m10\u001b[0m\u001b[1;33m,\u001b[0m\u001b[1;36m10\u001b[0m\u001b[1;33m)\u001b[0m\u001b[1;33m)\u001b[0m\u001b[1;33m\u001b[0m\u001b[1;33m\u001b[0m\u001b[0m\n\u001b[1;32m----> 3\u001b[1;33m \u001b[0mplt\u001b[0m\u001b[1;33m.\u001b[0m\u001b[0mimshow\u001b[0m\u001b[1;33m(\u001b[0m\u001b[0mwordcloud\u001b[0m\u001b[1;33m)\u001b[0m\u001b[1;33m\u001b[0m\u001b[1;33m\u001b[0m\u001b[0m\n\u001b[0m\u001b[0;32m      4\u001b[0m \u001b[0mplt\u001b[0m\u001b[1;33m.\u001b[0m\u001b[0maxis\u001b[0m\u001b[1;33m(\u001b[0m\u001b[1;34m'off'\u001b[0m\u001b[1;33m)\u001b[0m\u001b[1;33m\u001b[0m\u001b[1;33m\u001b[0m\u001b[0m\n\u001b[0;32m      5\u001b[0m \u001b[0mplt\u001b[0m\u001b[1;33m.\u001b[0m\u001b[0mshow\u001b[0m\u001b[1;33m(\u001b[0m\u001b[1;33m)\u001b[0m\u001b[1;33m\u001b[0m\u001b[1;33m\u001b[0m\u001b[0m\n",
      "\u001b[1;31mNameError\u001b[0m: name 'wordcloud' is not defined"
     ]
    },
    {
     "data": {
      "text/plain": [
       "<Figure size 432x288 with 0 Axes>"
      ]
     },
     "metadata": {},
     "output_type": "display_data"
    },
    {
     "data": {
      "image/png": "[encoded data removed]",
      "text/plain": [
       "<Figure size 720x720 with 1 Axes>"
      ]
     },
     "metadata": {
      "needs_background": "light"
     },
     "output_type": "display_data"
    }
   ],
   "source": [
    "plt.clf()\n",
    "f = plt.subplots(figsize=(10,10))\n",
    "plt.imshow(wordcloud)\n",
    "plt.axis('off')\n",
    "plt.show()"
   ]
  }
 ],
 "metadata": {
  "kernelspec": {
   "display_name": "Python 3 (ipykernel)",
   "language": "python",
   "name": "python3"
  },
  "language_info": {
   "codemirror_mode": {
    "name": "ipython",
    "version": 3
   },
   "file_extension": ".py",
   "mimetype": "text/x-python",
   "name": "python",
   "nbconvert_exporter": "python",
   "pygments_lexer": "ipython3",
   "version": "3.8.12"
  }
 },
 "nbformat": 4,
 "nbformat_minor": 5
}
