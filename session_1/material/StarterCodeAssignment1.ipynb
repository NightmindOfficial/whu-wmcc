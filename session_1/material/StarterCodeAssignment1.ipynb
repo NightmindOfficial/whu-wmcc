{
 "cells": [
  {
   "cell_type": "markdown",
   "id": "97efddfd",
   "metadata": {},
   "source": [
    "# Starter Code Assignment 1"
   ]
  },
  {
   "cell_type": "code",
   "execution_count": null,
   "id": "d5e7b04e",
   "metadata": {},
   "outputs": [],
   "source": [
    "link=\"https://www.notebooksbilliger.de/notebooks/acer+notebooks/page/1?perPage=50&sort=popularity&order=desc&availability=alle\""
   ]
  },
  {
   "cell_type": "code",
   "execution_count": null,
   "id": "6edf580a",
   "metadata": {},
   "outputs": [],
   "source": [
    "import requests\n",
    "from bs4 import BeautifulSoup"
   ]
  },
  {
   "cell_type": "code",
   "execution_count": null,
   "id": "564bdca1",
   "metadata": {},
   "outputs": [],
   "source": [
    "#Not working due to user-agent\n",
    "req = requests.get(link)\n",
    "req.text"
   ]
  },
  {
   "cell_type": "markdown",
   "id": "b9e0318e",
   "metadata": {},
   "source": [
    "Navigate to\n",
    "https://www.whatsmyua.info/"
   ]
  },
  {
   "cell_type": "code",
   "execution_count": null,
   "id": "097bc920",
   "metadata": {
    "scrolled": true
   },
   "outputs": [],
   "source": [
    "test_link=\"https://www.whatsmyua.info/\"\n",
    "#Not working due to user-agent\n",
    "req = requests.get(test_link)\n",
    "req.text"
   ]
  },
  {
   "cell_type": "code",
   "execution_count": null,
   "id": "83aa35ea",
   "metadata": {},
   "outputs": [],
   "source": [
    "#Working due to changed user-agent\n",
    "headers = {\"User-Agent\":\"Mozilla/5.0 (Windows NT 10.0; Win64; x64) AppleWebKit/537.36 (KHTML, like Gecko) Chrome/122.0.0.0 Safari/537.36\"}\n",
    "req = requests.get(link, headers=headers)\n",
    "req.text"
   ]
  },
  {
   "cell_type": "code",
   "execution_count": null,
   "id": "374b79a4",
   "metadata": {},
   "outputs": [],
   "source": [
    "soup = BeautifulSoup(req.text, 'html')"
   ]
  },
  {
   "cell_type": "code",
   "execution_count": null,
   "id": "b2a2b76b",
   "metadata": {},
   "outputs": [],
   "source": [
    "events = soup.findAll('div', {'class':'product-card__product-heading-title'})\n",
    "for event in events:\n",
    "    print(event.text.strip())"
   ]
  },
  {
   "cell_type": "code",
   "execution_count": null,
   "id": "1ec151e8",
   "metadata": {},
   "outputs": [],
   "source": []
  }
 ],
 "metadata": {
  "kernelspec": {
   "display_name": "Python 3 (ipykernel)",
   "language": "python",
   "name": "python3"
  },
  "language_info": {
   "codemirror_mode": {
    "name": "ipython",
    "version": 3
   },
   "file_extension": ".py",
   "mimetype": "text/x-python",
   "name": "python",
   "nbconvert_exporter": "python",
   "pygments_lexer": "ipython3",
   "version": "3.8.18"
  }
 },
 "nbformat": 4,
 "nbformat_minor": 5
}
