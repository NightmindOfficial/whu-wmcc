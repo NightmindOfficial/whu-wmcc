{
 "cells": [
  {
   "cell_type": "markdown",
   "id": "8ddd362e-23f5-49e5-a2d8-6f0dd48f9e05",
   "metadata": {},
   "source": [
    "# Init File\n",
    "\n",
    "This file is used to confirm the correct installation of Anaconda on ZENBOOK-OM and to test out a few things before the course starts.\n",
    "We will also confirm the configuration of the [Git repository](https://github.com/NightmindOfficial/whu-wmcc).\n"
   ]
  },
  {
   "cell_type": "code",
   "execution_count": 1,
   "id": "6a6ceebd-4f09-4fb6-b463-0a4b8b38a36f",
   "metadata": {},
   "outputs": [],
   "source": [
    "var = 20.0"
   ]
  },
  {
   "cell_type": "code",
   "execution_count": 2,
   "id": "a8bb2ce0-70ce-4a51-8df6-e9d56ec07435",
   "metadata": {},
   "outputs": [
    {
     "data": {
      "text/plain": [
       "35.0"
      ]
     },
     "execution_count": 2,
     "metadata": {},
     "output_type": "execute_result"
    }
   ],
   "source": [
    "var += 15\n",
    "var"
   ]
  },
  {
   "cell_type": "code",
   "execution_count": 3,
   "id": "06aac1f6-947a-4436-a614-93ca7ab1a9ea",
   "metadata": {},
   "outputs": [
    {
     "data": {
      "text/plain": [
       "float"
      ]
     },
     "execution_count": 3,
     "metadata": {},
     "output_type": "execute_result"
    }
   ],
   "source": [
    "type(var)"
   ]
  },
  {
   "cell_type": "code",
   "execution_count": 4,
   "id": "9c42f823-d6b4-49c8-a161-c192cf0a97e5",
   "metadata": {},
   "outputs": [
    {
     "data": {
      "text/plain": [
       "1505105394960"
      ]
     },
     "execution_count": 4,
     "metadata": {},
     "output_type": "execute_result"
    }
   ],
   "source": [
    "id(var)"
   ]
  },
  {
   "cell_type": "code",
   "execution_count": 5,
   "id": "9573e492-3d85-456a-827b-0d15324cb192",
   "metadata": {},
   "outputs": [
    {
     "data": {
      "text/plain": [
       "True"
      ]
     },
     "execution_count": 5,
     "metadata": {},
     "output_type": "execute_result"
    }
   ],
   "source": [
    "var.is_integer()"
   ]
  },
  {
   "cell_type": "code",
   "execution_count": 6,
   "id": "809f6a98-3ba9-41ec-ad8e-ae7345417a46",
   "metadata": {},
   "outputs": [
    {
     "name": "stdout",
     "output_type": "stream",
     "text": [
      "Hello, world!\n"
     ]
    }
   ],
   "source": [
    "print(\"Hello, world!\")"
   ]
  }
 ],
 "metadata": {
  "kernelspec": {
   "display_name": "Python 3 (ipykernel)",
   "language": "python",
   "name": "python3"
  },
  "language_info": {
   "codemirror_mode": {
    "name": "ipython",
    "version": 3
   },
   "file_extension": ".py",
   "mimetype": "text/x-python",
   "name": "python",
   "nbconvert_exporter": "python",
   "pygments_lexer": "ipython3",
   "version": "3.11.7"
  }
 },
 "nbformat": 4,
 "nbformat_minor": 5
}
