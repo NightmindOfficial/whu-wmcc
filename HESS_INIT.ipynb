{
 "cells": [
  {
   "cell_type": "markdown",
   "id": "8ddd362e-23f5-49e5-a2d8-6f0dd48f9e05",
   "metadata": {},
   "source": [
    "# Init File\n",
    "\n",
    "This file is used to confirm the correct installation of Anaconda on ZENBOOK-OM and to test out a few things before the course starts.\n",
    "We will also confirm the configuration of the [Git repository](https://github.com/NightmindOfficial/whu-wmcc).\n"
   ]
  },
  {
   "cell_type": "code",
   "execution_count": 1,
   "id": "6a6ceebd-4f09-4fb6-b463-0a4b8b38a36f",
   "metadata": {},
   "outputs": [],
   "source": [
    "var = 20.0"
   ]
  },
  {
   "cell_type": "code",
   "execution_count": 2,
   "id": "a8bb2ce0-70ce-4a51-8df6-e9d56ec07435",
   "metadata": {},
   "outputs": [
    {
     "data": {
      "text/plain": [
       "35.0"
      ]
     },
     "execution_count": 2,
     "metadata": {},
     "output_type": "execute_result"
    }
   ],
   "source": [
    "var += 15\n",
    "var"
   ]
  },
  {
   "cell_type": "code",
   "execution_count": 3,
   "id": "06aac1f6-947a-4436-a614-93ca7ab1a9ea",
   "metadata": {},
   "outputs": [
    {
     "data": {
      "text/plain": [
       "float"
      ]
     },
     "execution_count": 3,
     "metadata": {},
     "output_type": "execute_result"
    }
   ],
   "source": [
    "type(var)"
   ]
  },
  {
   "cell_type": "code",
   "execution_count": 4,
   "id": "9c42f823-d6b4-49c8-a161-c192cf0a97e5",
   "metadata": {},
   "outputs": [
    {
     "data": {
      "text/plain": [
       "1694958133328"
      ]
     },
     "execution_count": 4,
     "metadata": {},
     "output_type": "execute_result"
    }
   ],
   "source": [
    "id(var)"
   ]
  },
  {
   "cell_type": "code",
   "execution_count": 5,
   "id": "9573e492-3d85-456a-827b-0d15324cb192",
   "metadata": {},
   "outputs": [
    {
     "data": {
      "text/plain": [
       "True"
      ]
     },
     "execution_count": 5,
     "metadata": {},
     "output_type": "execute_result"
    }
   ],
   "source": [
    "var.is_integer()"
   ]
  },
  {
   "cell_type": "code",
   "execution_count": 6,
   "id": "809f6a98-3ba9-41ec-ad8e-ae7345417a46",
   "metadata": {},
   "outputs": [
    {
     "name": "stdout",
     "output_type": "stream",
     "text": [
      "Hello, world!\n"
     ]
    }
   ],
   "source": [
    "print(\"Hello, world!\")"
   ]
  },
  {
   "cell_type": "code",
   "execution_count": 7,
   "id": "6291d83b-fdb6-4cb0-84fe-5eec0184a06e",
   "metadata": {},
   "outputs": [],
   "source": [
    "a = 42"
   ]
  },
  {
   "cell_type": "code",
   "execution_count": 8,
   "id": "e9c344eb-c30c-4214-a3be-5fd6e8066ff6",
   "metadata": {},
   "outputs": [],
   "source": [
    "b = a"
   ]
  },
  {
   "cell_type": "code",
   "execution_count": 9,
   "id": "489b0c32-f97f-4982-8843-c4553bf25bad",
   "metadata": {},
   "outputs": [
    {
     "data": {
      "text/plain": [
       "42"
      ]
     },
     "execution_count": 9,
     "metadata": {},
     "output_type": "execute_result"
    }
   ],
   "source": [
    "a"
   ]
  },
  {
   "cell_type": "code",
   "execution_count": 10,
   "id": "6d4c498a-19b7-448e-9c64-d46bfc7df169",
   "metadata": {},
   "outputs": [
    {
     "data": {
      "text/plain": [
       "42"
      ]
     },
     "execution_count": 10,
     "metadata": {},
     "output_type": "execute_result"
    }
   ],
   "source": [
    "b"
   ]
  },
  {
   "cell_type": "code",
   "execution_count": 11,
   "id": "9f2e0379-d288-42dc-a9be-2b10fe2e7bc9",
   "metadata": {},
   "outputs": [
    {
     "data": {
      "text/plain": [
       "True"
      ]
     },
     "execution_count": 11,
     "metadata": {},
     "output_type": "execute_result"
    }
   ],
   "source": [
    "a is b"
   ]
  },
  {
   "cell_type": "code",
   "execution_count": 12,
   "id": "9f4cff6d-b68b-4ba8-8365-73bb6ae90215",
   "metadata": {},
   "outputs": [
    {
     "data": {
      "text/plain": [
       "140703633033288"
      ]
     },
     "execution_count": 12,
     "metadata": {},
     "output_type": "execute_result"
    }
   ],
   "source": [
    "id(a)"
   ]
  },
  {
   "cell_type": "code",
   "execution_count": 13,
   "id": "e92f6d78-ec52-448d-a44c-c1e1ec7aa3b2",
   "metadata": {},
   "outputs": [
    {
     "data": {
      "text/plain": [
       "140703633033288"
      ]
     },
     "execution_count": 13,
     "metadata": {},
     "output_type": "execute_result"
    }
   ],
   "source": [
    "id(b)"
   ]
  }
 ],
 "metadata": {
  "kernelspec": {
   "display_name": "Python 3 (ipykernel)",
   "language": "python",
   "name": "python3"
  },
  "language_info": {
   "codemirror_mode": {
    "name": "ipython",
    "version": 3
   },
   "file_extension": ".py",
   "mimetype": "text/x-python",
   "name": "python",
   "nbconvert_exporter": "python",
   "pygments_lexer": "ipython3",
   "version": "3.11.7"
  }
 },
 "nbformat": 4,
 "nbformat_minor": 5
}
