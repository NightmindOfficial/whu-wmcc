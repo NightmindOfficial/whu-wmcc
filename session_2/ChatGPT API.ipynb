{
 "cells": [
  {
   "cell_type": "markdown",
   "id": "c6e4c759-f7db-445d-a847-6d911d781493",
   "metadata": {},
   "source": [
    "# ChatGPT API Call Exercise"
   ]
  },
  {
   "cell_type": "code",
   "execution_count": 2,
   "id": "4f2dd939-64b8-41a2-a73d-63523758e1d9",
   "metadata": {},
   "outputs": [],
   "source": [
    "import json\n",
    "import requests"
   ]
  },
  {
   "cell_type": "code",
   "execution_count": 7,
   "id": "e77a66c0-3668-4158-9483-eed933749a60",
   "metadata": {},
   "outputs": [
    {
     "name": "stdin",
     "output_type": "stream",
     "text": [
      "You:  Please provide python code for retrieving data about the first 10 results for Acer Notebooks on the website notebooksbilliger.de\n"
     ]
    },
    {
     "name": "stdout",
     "output_type": "stream",
     "text": [
      "ChatGPT: To perform web scraping, we usually use the BeautifulSoup and requests libraries. However, this website requires the agreement to cookies and data security policies, which can't be bypassed by BeautifulSoup or requests. \n",
      "\n",
      "Alternatively, Selenium could be used to handle the browser interactions but web scraping using Selenium isn't encouraged due to its weight and slower performance than BeautifulSoup. \n",
      "\n",
      "Moreover, it's important to note that web scraping should comply with the website's Robots.txt file and data privacy laws in your region. \n",
      "\n",
      "Here is an example of how you might gather the information you described using BeautifulSoup and requests, if such bypassing wasn't required:\n",
      "```python\n",
      "import requests\n",
      "from bs4 import BeautifulSoup\n",
      "\n",
      "def scrape_data():\n",
      "    URL = 'https://www.notebooksbill\n"
     ]
    },
    {
     "name": "stdin",
     "output_type": "stream",
     "text": [
      "You:  Thanks!\n"
     ]
    },
    {
     "name": "stdout",
     "output_type": "stream",
     "text": [
      "ChatGPT: You're welcome! If you have any other questions, feel free to ask.\n"
     ]
    },
    {
     "name": "stdin",
     "output_type": "stream",
     "text": [
      "You:  exit\n"
     ]
    },
    {
     "name": "stdout",
     "output_type": "stream",
     "text": [
      "Goodbye!\n"
     ]
    }
   ],
   "source": [
    "def get_chat_response(prompt):\n",
    "    endpoint = \"https://api.openai.com/v1/chat/completions\"\n",
    "    api_key = \"DEMO_KEY\" #insert key here\n",
    "\n",
    "    headers = {\n",
    "        \"Content-Type\": \"application/json\",\n",
    "        \"Authorization\": f\"Bearer {api_key}\"\n",
    "    }\n",
    "\n",
    "    data = {\n",
    "        \"model\": \"gpt-4\",  # Adjust model as needed\n",
    "        \"messages\": [{\"role\": \"system\", \"content\": \"Prompt:\"}, {\"role\": \"user\", \"content\": prompt}],\n",
    "        \"max_tokens\": 200  # Adjust as needed\n",
    "    }\n",
    "\n",
    "    response = requests.post(endpoint, json=data, headers=headers)\n",
    "    \n",
    "    if response.status_code == 200:\n",
    "        return response.json()[\"choices\"][0][\"message\"][\"content\"]\n",
    "    else:\n",
    "        print(\"Error:\", response.text)\n",
    "        return None\n",
    "\n",
    "def main():\n",
    "    while True:\n",
    "        prompt = input(\"You: \")\n",
    "        if prompt.lower() == 'exit':\n",
    "            print(\"Goodbye!\")\n",
    "            break\n",
    "        response = get_chat_response(prompt)\n",
    "        if response:\n",
    "            print(\"ChatGPT:\", response)\n",
    "\n",
    "if __name__ == \"__main__\":\n",
    "    main()\n"
   ]
  }
 ],
 "metadata": {
  "kernelspec": {
   "display_name": "Python 3 (ipykernel)",
   "language": "python",
   "name": "python3"
  },
  "language_info": {
   "codemirror_mode": {
    "name": "ipython",
    "version": 3
   },
   "file_extension": ".py",
   "mimetype": "text/x-python",
   "name": "python",
   "nbconvert_exporter": "python",
   "pygments_lexer": "ipython3",
   "version": "3.10.13"
  }
 },
 "nbformat": 4,
 "nbformat_minor": 5
}
