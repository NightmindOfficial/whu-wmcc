{
 "cells": [
  {
   "cell_type": "markdown",
   "metadata": {},
   "source": [
    "# REST API and JSON\n",
    "\n",
    "API Reference: https://api.nasa.gov/index.html"
   ]
  },
  {
   "cell_type": "code",
   "execution_count": 2,
   "metadata": {},
   "outputs": [
    {
     "name": "stdout",
     "output_type": "stream",
     "text": [
      "Collecting pandas\n",
      "  Downloading pandas-2.2.1-cp310-cp310-win_amd64.whl.metadata (19 kB)\n",
      "Requirement already satisfied: numpy<2,>=1.22.4 in c:\\users\\mail\\anaconda3\\envs\\webmining2024\\lib\\site-packages (from pandas) (1.26.4)\n",
      "Requirement already satisfied: python-dateutil>=2.8.2 in c:\\users\\mail\\anaconda3\\envs\\webmining2024\\lib\\site-packages (from pandas) (2.8.2)\n",
      "Requirement already satisfied: pytz>=2020.1 in c:\\users\\mail\\anaconda3\\envs\\webmining2024\\lib\\site-packages (from pandas) (2023.3.post1)\n",
      "Collecting tzdata>=2022.7 (from pandas)\n",
      "  Downloading tzdata-2024.1-py2.py3-none-any.whl.metadata (1.4 kB)\n",
      "Requirement already satisfied: six>=1.5 in c:\\users\\mail\\anaconda3\\envs\\webmining2024\\lib\\site-packages (from python-dateutil>=2.8.2->pandas) (1.16.0)\n",
      "Downloading pandas-2.2.1-cp310-cp310-win_amd64.whl (11.6 MB)\n",
      "   ---------------------------------------- 0.0/11.6 MB ? eta -:--:--\n",
      "   ---------------------------------------- 0.1/11.6 MB 1.1 MB/s eta 0:00:11\n",
      "   -- ------------------------------------- 0.7/11.6 MB 7.7 MB/s eta 0:00:02\n",
      "   ---- ----------------------------------- 1.4/11.6 MB 8.8 MB/s eta 0:00:02\n",
      "   --------- ------------------------------ 2.8/11.6 MB 13.9 MB/s eta 0:00:01\n",
      "   ------------ --------------------------- 3.7/11.6 MB 15.6 MB/s eta 0:00:01\n",
      "   -------------- ------------------------- 4.1/11.6 MB 13.9 MB/s eta 0:00:01\n",
      "   ----------------- ---------------------- 5.1/11.6 MB 14.8 MB/s eta 0:00:01\n",
      "   -------------------- ------------------- 6.0/11.6 MB 15.4 MB/s eta 0:00:01\n",
      "   ----------------------- ---------------- 6.9/11.6 MB 15.8 MB/s eta 0:00:01\n",
      "   --------------------------- ------------ 7.9/11.6 MB 16.8 MB/s eta 0:00:01\n",
      "   ------------------------------ --------- 8.9/11.6 MB 16.7 MB/s eta 0:00:01\n",
      "   --------------------------------- ------ 9.6/11.6 MB 16.6 MB/s eta 0:00:01\n",
      "   ------------------------------------ --- 10.7/11.6 MB 18.7 MB/s eta 0:00:01\n",
      "   ---------------------------------------  11.6/11.6 MB 19.9 MB/s eta 0:00:01\n",
      "   ---------------------------------------- 11.6/11.6 MB 18.2 MB/s eta 0:00:00\n",
      "Downloading tzdata-2024.1-py2.py3-none-any.whl (345 kB)\n",
      "   ---------------------------------------- 0.0/345.4 kB ? eta -:--:--\n",
      "   --------------------------------------- 345.4/345.4 kB 20.9 MB/s eta 0:00:00\n",
      "Installing collected packages: tzdata, pandas\n",
      "Successfully installed pandas-2.2.1 tzdata-2024.1\n"
     ]
    }
   ],
   "source": [
    "!pip install pandas"
   ]
  },
  {
   "cell_type": "code",
   "execution_count": 1,
   "metadata": {},
   "outputs": [],
   "source": [
    "# Import libraries\n",
    "import json\n",
    "import requests\n",
    "import pandas as pd"
   ]
  },
  {
   "cell_type": "code",
   "execution_count": 2,
   "metadata": {},
   "outputs": [],
   "source": [
    "# Request the API\n",
    "data_nasa1 = requests.get(\"https://api.nasa.gov/planetary/apod?api_key=pzpch5neUnjQfRZ6FNjgnhJZiade80dx8FQXgt8Q\")"
   ]
  },
  {
   "cell_type": "code",
   "execution_count": 3,
   "metadata": {},
   "outputs": [
    {
     "data": {
      "text/plain": [
       "<Response [200]>"
      ]
     },
     "execution_count": 3,
     "metadata": {},
     "output_type": "execute_result"
    }
   ],
   "source": [
    "data_nasa1"
   ]
  },
  {
   "cell_type": "code",
   "execution_count": 4,
   "metadata": {},
   "outputs": [
    {
     "data": {
      "text/plain": [
       "200"
      ]
     },
     "execution_count": 4,
     "metadata": {},
     "output_type": "execute_result"
    }
   ],
   "source": [
    "data_nasa1.status_code"
   ]
  },
  {
   "cell_type": "code",
   "execution_count": 5,
   "metadata": {
    "scrolled": true
   },
   "outputs": [
    {
     "data": {
      "text/plain": [
       "['__attrs__',\n",
       " '__bool__',\n",
       " '__class__',\n",
       " '__delattr__',\n",
       " '__dict__',\n",
       " '__dir__',\n",
       " '__doc__',\n",
       " '__enter__',\n",
       " '__eq__',\n",
       " '__exit__',\n",
       " '__format__',\n",
       " '__ge__',\n",
       " '__getattribute__',\n",
       " '__getstate__',\n",
       " '__gt__',\n",
       " '__hash__',\n",
       " '__init__',\n",
       " '__init_subclass__',\n",
       " '__iter__',\n",
       " '__le__',\n",
       " '__lt__',\n",
       " '__module__',\n",
       " '__ne__',\n",
       " '__new__',\n",
       " '__nonzero__',\n",
       " '__reduce__',\n",
       " '__reduce_ex__',\n",
       " '__repr__',\n",
       " '__setattr__',\n",
       " '__setstate__',\n",
       " '__sizeof__',\n",
       " '__str__',\n",
       " '__subclasshook__',\n",
       " '__weakref__',\n",
       " '_content',\n",
       " '_content_consumed',\n",
       " '_next',\n",
       " 'apparent_encoding',\n",
       " 'close',\n",
       " 'connection',\n",
       " 'content',\n",
       " 'cookies',\n",
       " 'elapsed',\n",
       " 'encoding',\n",
       " 'headers',\n",
       " 'history',\n",
       " 'is_permanent_redirect',\n",
       " 'is_redirect',\n",
       " 'iter_content',\n",
       " 'iter_lines',\n",
       " 'json',\n",
       " 'links',\n",
       " 'next',\n",
       " 'ok',\n",
       " 'raise_for_status',\n",
       " 'raw',\n",
       " 'reason',\n",
       " 'request',\n",
       " 'status_code',\n",
       " 'text',\n",
       " 'url']"
      ]
     },
     "execution_count": 5,
     "metadata": {},
     "output_type": "execute_result"
    }
   ],
   "source": [
    "# Analyse the Python object\n",
    "dir(data_nasa1)"
   ]
  },
  {
   "cell_type": "code",
   "execution_count": 6,
   "metadata": {},
   "outputs": [
    {
     "data": {
      "text/plain": [
       "'{\"date\":\"2024-03-29\",\"explanation\":\"Looping through the Jovian system in the late 1990s, the Galileo spacecraft recorded stunning views of Europa and uncovered evidence that the moon\\'s icy surface likely hides a deep, global ocean. Galileo\\'s Europa image data has been remastered here, with improved calibrations to produce a color image approximating what the human eye might see. Europa\\'s long curving fractures hint at the subsurface liquid water.  The tidal flexing the large moon experiences in its elliptical orbit around Jupiter supplies the energy to keep the ocean liquid. But more tantalizing is the possibility that even in the absence of sunlight that process could also supply the energy to support life, making Europa one of the best places to look for life beyond Earth. The Juno spacecraft currently in Jovian orbit has also made repeated flybys of the water world, returning images along with data exploring Europa\\'s habitability. This October will see the launch of the NASA\\'s Europa Clipper on a voyage of exploration. The spacecraft will make nearly 50 flybys, approaching to within 25 kilometers of Europa\\'s icy surface.\",\"hdurl\":\"https://apod.nasa.gov/apod/image/2403/PIA19048europa.jpg\",\"media_type\":\"image\",\"service_version\":\"v1\",\"title\":\"Galileo\\'s Europa\",\"url\":\"https://apod.nasa.gov/apod/image/2403/PIA19048europa1024.jpg\"}\\n'"
      ]
     },
     "execution_count": 6,
     "metadata": {},
     "output_type": "execute_result"
    }
   ],
   "source": [
    "data_nasa1.text"
   ]
  },
  {
   "cell_type": "code",
   "execution_count": 7,
   "metadata": {},
   "outputs": [],
   "source": [
    "# Request the API\n",
    "payload ={\"api_key\":\"pzpch5neUnjQfRZ6FNjgnhJZiade80dx8FQXgt8Q\"}\n",
    "data_nasa1 = requests.get(\"https://api.nasa.gov/planetary/apod\",payload)"
   ]
  },
  {
   "cell_type": "code",
   "execution_count": 8,
   "metadata": {},
   "outputs": [
    {
     "data": {
      "text/plain": [
       "'https://api.nasa.gov/planetary/apod?api_key=pzpch5neUnjQfRZ6FNjgnhJZiade80dx8FQXgt8Q'"
      ]
     },
     "execution_count": 8,
     "metadata": {},
     "output_type": "execute_result"
    }
   ],
   "source": [
    "data_nasa1.url"
   ]
  },
  {
   "cell_type": "code",
   "execution_count": 9,
   "metadata": {},
   "outputs": [
    {
     "data": {
      "text/plain": [
       "200"
      ]
     },
     "execution_count": 9,
     "metadata": {},
     "output_type": "execute_result"
    }
   ],
   "source": [
    "# What is the return code\n",
    "data_nasa1.status_code"
   ]
  },
  {
   "cell_type": "code",
   "execution_count": 10,
   "metadata": {},
   "outputs": [
    {
     "data": {
      "text/plain": [
       "{'User-Agent': 'python-requests/2.31.0', 'Accept-Encoding': 'gzip, deflate, br', 'Accept': '*/*', 'Connection': 'keep-alive'}"
      ]
     },
     "execution_count": 10,
     "metadata": {},
     "output_type": "execute_result"
    }
   ],
   "source": [
    "# What is the User-Agent\n",
    "data_nasa1.request.headers"
   ]
  },
  {
   "cell_type": "code",
   "execution_count": 11,
   "metadata": {},
   "outputs": [
    {
     "data": {
      "text/plain": [
       "'{\"date\":\"2024-03-29\",\"explanation\":\"Looping through the Jovian system in the late 1990s, the Galileo spacecraft recorded stunning views of Europa and uncovered evidence that the moon\\'s icy surface likely hides a deep, global ocean. Galileo\\'s Europa image data has been remastered here, with improved calibrations to produce a color image approximating what the human eye might see. Europa\\'s long curving fractures hint at the subsurface liquid water.  The tidal flexing the large moon experiences in its elliptical orbit around Jupiter supplies the energy to keep the ocean liquid. But more tantalizing is the possibility that even in the absence of sunlight that process could also supply the energy to support life, making Europa one of the best places to look for life beyond Earth. The Juno spacecraft currently in Jovian orbit has also made repeated flybys of the water world, returning images along with data exploring Europa\\'s habitability. This October will see the launch of the NASA\\'s Europa Clipper on a voyage of exploration. The spacecraft will make nearly 50 flybys, approaching to within 25 kilometers of Europa\\'s icy surface.\",\"hdurl\":\"https://apod.nasa.gov/apod/image/2403/PIA19048europa.jpg\",\"media_type\":\"image\",\"service_version\":\"v1\",\"title\":\"Galileo\\'s Europa\",\"url\":\"https://apod.nasa.gov/apod/image/2403/PIA19048europa1024.jpg\"}\\n'"
      ]
     },
     "execution_count": 11,
     "metadata": {},
     "output_type": "execute_result"
    }
   ],
   "source": [
    "# and here comes the data\n",
    "data_nasa1.text"
   ]
  },
  {
   "cell_type": "code",
   "execution_count": 12,
   "metadata": {},
   "outputs": [
    {
     "name": "stdout",
     "output_type": "stream",
     "text": [
      "{\n",
      "    \"date\": \"2024-03-29\",\n",
      "    \"explanation\": \"Looping through the Jovian system in the late 1990s, the Galileo spacecraft recorded stunning views of Europa and uncovered evidence that the moon's icy surface likely hides a deep, global ocean. Galileo's Europa image data has been remastered here, with improved calibrations to produce a color image approximating what the human eye might see. Europa's long curving fractures hint at the subsurface liquid water.  The tidal flexing the large moon experiences in its elliptical orbit around Jupiter supplies the energy to keep the ocean liquid. But more tantalizing is the possibility that even in the absence of sunlight that process could also supply the energy to support life, making Europa one of the best places to look for life beyond Earth. The Juno spacecraft currently in Jovian orbit has also made repeated flybys of the water world, returning images along with data exploring Europa's habitability. This October will see the launch of the NASA's Europa Clipper on a voyage of exploration. The spacecraft will make nearly 50 flybys, approaching to within 25 kilometers of Europa's icy surface.\",\n",
      "    \"hdurl\": \"https://apod.nasa.gov/apod/image/2403/PIA19048europa.jpg\",\n",
      "    \"media_type\": \"image\",\n",
      "    \"service_version\": \"v1\",\n",
      "    \"title\": \"Galileo's Europa\",\n",
      "    \"url\": \"https://apod.nasa.gov/apod/image/2403/PIA19048europa1024.jpg\"\n",
      "}\n"
     ]
    }
   ],
   "source": [
    "j = json.loads(data_nasa1.text)\n",
    "print(json.dumps(j, indent=4))"
   ]
  },
  {
   "cell_type": "code",
   "execution_count": 13,
   "metadata": {},
   "outputs": [
    {
     "data": {
      "text/plain": [
       "'https://apod.nasa.gov/apod/image/2403/PIA19048europa1024.jpg'"
      ]
     },
     "execution_count": 13,
     "metadata": {},
     "output_type": "execute_result"
    }
   ],
   "source": [
    "j[\"url\"]"
   ]
  },
  {
   "cell_type": "code",
   "execution_count": 14,
   "metadata": {},
   "outputs": [
    {
     "data": {
      "text/plain": [
       "{'test': 'hello word'}"
      ]
     },
     "execution_count": 14,
     "metadata": {},
     "output_type": "execute_result"
    }
   ],
   "source": [
    "eval('{\"test\":\"hello word\"}')"
   ]
  },
  {
   "cell_type": "code",
   "execution_count": 15,
   "metadata": {},
   "outputs": [
    {
     "name": "stdout",
     "output_type": "stream",
     "text": [
      "{\n",
      "    \"date\": \"2024-03-29\",\n",
      "    \"explanation\": \"Looping through the Jovian system in the late 1990s, the Galileo spacecraft recorded stunning views of Europa and uncovered evidence that the moon's icy surface likely hides a deep, global ocean. Galileo's Europa image data has been remastered here, with improved calibrations to produce a color image approximating what the human eye might see. Europa's long curving fractures hint at the subsurface liquid water.  The tidal flexing the large moon experiences in its elliptical orbit around Jupiter supplies the energy to keep the ocean liquid. But more tantalizing is the possibility that even in the absence of sunlight that process could also supply the energy to support life, making Europa one of the best places to look for life beyond Earth. The Juno spacecraft currently in Jovian orbit has also made repeated flybys of the water world, returning images along with data exploring Europa's habitability. This October will see the launch of the NASA's Europa Clipper on a voyage of exploration. The spacecraft will make nearly 50 flybys, approaching to within 25 kilometers of Europa's icy surface.\",\n",
      "    \"hdurl\": \"https://apod.nasa.gov/apod/image/2403/PIA19048europa.jpg\",\n",
      "    \"media_type\": \"image\",\n",
      "    \"service_version\": \"v1\",\n",
      "    \"title\": \"Galileo's Europa\",\n",
      "    \"url\": \"https://apod.nasa.gov/apod/image/2403/PIA19048europa1024.jpg\"\n",
      "}\n"
     ]
    }
   ],
   "source": [
    "# or create just a plain JSON Object\n",
    "# or create just a plain Json object\n",
    "j = json.loads(data_nasa1.text)\n",
    "print(json.dumps(j, indent=4))"
   ]
  },
  {
   "cell_type": "code",
   "execution_count": 16,
   "metadata": {},
   "outputs": [
    {
     "data": {
      "text/plain": [
       "'image'"
      ]
     },
     "execution_count": 16,
     "metadata": {},
     "output_type": "execute_result"
    }
   ],
   "source": [
    "j[\"media_type\"]"
   ]
  },
  {
   "cell_type": "code",
   "execution_count": 17,
   "metadata": {},
   "outputs": [],
   "source": [
    "# Let's do it again, but now we'll expect an array as a response"
   ]
  },
  {
   "cell_type": "code",
   "execution_count": 18,
   "metadata": {},
   "outputs": [],
   "source": [
    "data_nasa2 = requests.get(\"https://api.nasa.gov/DONKI/IPS?startDate=2016-01-01&endDate=2016-01-30&api_key=DEMO_KEY\")"
   ]
  },
  {
   "cell_type": "code",
   "execution_count": 19,
   "metadata": {},
   "outputs": [
    {
     "data": {
      "text/plain": [
       "'[{\"catalog\":\"M2M_CATALOG\",\"activityID\":\"2016-01-09T18:00:00-IPS-001\",\"location\":\"STEREO A\",\"eventTime\":\"2016-01-09T18:00Z\",\"link\":\"https://webtools.ccmc.gsfc.nasa.gov/DONKI/view/IPS/10028/-1\",\"instruments\":[{\"displayName\":\"STEREO A: IMPACT\"},{\"displayName\":\"STEREO A: PLASTIC\"}]},{\"catalog\":\"M2M_CATALOG\",\"activityID\":\"2016-01-18T21:00:00-IPS-001\",\"location\":\"Earth\",\"eventTime\":\"2016-01-18T21:00Z\",\"link\":\"https://webtools.ccmc.gsfc.nasa.gov/DONKI/view/IPS/10067/-1\",\"instruments\":[{\"displayName\":\"ACE: MAG\"},{\"displayName\":\"ACE: SWEPAM\"}]},{\"catalog\":\"M2M_CATALOG\",\"activityID\":\"2016-01-21T00:48:00-IPS-001\",\"location\":\"Earth\",\"eventTime\":\"2016-01-21T00:48Z\",\"link\":\"https://webtools.ccmc.gsfc.nasa.gov/DONKI/view/IPS/10072/-1\",\"instruments\":[{\"displayName\":\"ACE: MAG\"},{\"displayName\":\"ACE: SWEPAM\"}]}]'"
      ]
     },
     "execution_count": 19,
     "metadata": {},
     "output_type": "execute_result"
    }
   ],
   "source": [
    "data_nasa2.text"
   ]
  },
  {
   "cell_type": "code",
   "execution_count": 20,
   "metadata": {},
   "outputs": [
    {
     "name": "stdout",
     "output_type": "stream",
     "text": [
      "[\n",
      "    {\n",
      "        \"catalog\": \"M2M_CATALOG\",\n",
      "        \"activityID\": \"2016-01-09T18:00:00-IPS-001\",\n",
      "        \"location\": \"STEREO A\",\n",
      "        \"eventTime\": \"2016-01-09T18:00Z\",\n",
      "        \"link\": \"https://webtools.ccmc.gsfc.nasa.gov/DONKI/view/IPS/10028/-1\",\n",
      "        \"instruments\": [\n",
      "            {\n",
      "                \"displayName\": \"STEREO A: IMPACT\"\n",
      "            },\n",
      "            {\n",
      "                \"displayName\": \"STEREO A: PLASTIC\"\n",
      "            }\n",
      "        ]\n",
      "    },\n",
      "    {\n",
      "        \"catalog\": \"M2M_CATALOG\",\n",
      "        \"activityID\": \"2016-01-18T21:00:00-IPS-001\",\n",
      "        \"location\": \"Earth\",\n",
      "        \"eventTime\": \"2016-01-18T21:00Z\",\n",
      "        \"link\": \"https://webtools.ccmc.gsfc.nasa.gov/DONKI/view/IPS/10067/-1\",\n",
      "        \"instruments\": [\n",
      "            {\n",
      "                \"displayName\": \"ACE: MAG\"\n",
      "            },\n",
      "            {\n",
      "                \"displayName\": \"ACE: SWEPAM\"\n",
      "            }\n",
      "        ]\n",
      "    },\n",
      "    {\n",
      "        \"catalog\": \"M2M_CATALOG\",\n",
      "        \"activityID\": \"2016-01-21T00:48:00-IPS-001\",\n",
      "        \"location\": \"Earth\",\n",
      "        \"eventTime\": \"2016-01-21T00:48Z\",\n",
      "        \"link\": \"https://webtools.ccmc.gsfc.nasa.gov/DONKI/view/IPS/10072/-1\",\n",
      "        \"instruments\": [\n",
      "            {\n",
      "                \"displayName\": \"ACE: MAG\"\n",
      "            },\n",
      "            {\n",
      "                \"displayName\": \"ACE: SWEPAM\"\n",
      "            }\n",
      "        ]\n",
      "    }\n",
      "]\n"
     ]
    },
    {
     "data": {
      "text/plain": [
       "'https://webtools.ccmc.gsfc.nasa.gov/DONKI/view/IPS/10072/-1'"
      ]
     },
     "execution_count": 20,
     "metadata": {},
     "output_type": "execute_result"
    }
   ],
   "source": [
    "# or create just a plain Json object\n",
    "j = json.loads(data_nasa2.text)\n",
    "print(json.dumps(j, indent=4))\n",
    "j[2][\"link\"]"
   ]
  },
  {
   "cell_type": "markdown",
   "metadata": {},
   "source": [
    "# Rest API and XML\n",
    "\n",
    "API Reference: https://arxiv.org/help/api\n",
    "\n",
    "* pip install beautifulsoup4\n",
    "* pip install lxml\n",
    "* pip install pandas"
   ]
  },
  {
   "cell_type": "code",
   "execution_count": 21,
   "metadata": {},
   "outputs": [
    {
     "name": "stdout",
     "output_type": "stream",
     "text": [
      "Requirement already satisfied: pandas in c:\\users\\mail\\anaconda3\\envs\\webmining2024\\lib\\site-packages (2.2.1)\n",
      "Requirement already satisfied: numpy<2,>=1.22.4 in c:\\users\\mail\\anaconda3\\envs\\webmining2024\\lib\\site-packages (from pandas) (1.26.4)\n",
      "Requirement already satisfied: python-dateutil>=2.8.2 in c:\\users\\mail\\anaconda3\\envs\\webmining2024\\lib\\site-packages (from pandas) (2.8.2)\n",
      "Requirement already satisfied: pytz>=2020.1 in c:\\users\\mail\\anaconda3\\envs\\webmining2024\\lib\\site-packages (from pandas) (2023.3.post1)\n",
      "Requirement already satisfied: tzdata>=2022.7 in c:\\users\\mail\\anaconda3\\envs\\webmining2024\\lib\\site-packages (from pandas) (2024.1)\n",
      "Requirement already satisfied: six>=1.5 in c:\\users\\mail\\anaconda3\\envs\\webmining2024\\lib\\site-packages (from python-dateutil>=2.8.2->pandas) (1.16.0)\n"
     ]
    }
   ],
   "source": [
    "!pip install pandas"
   ]
  },
  {
   "cell_type": "code",
   "execution_count": 21,
   "metadata": {},
   "outputs": [],
   "source": [
    "import requests\n",
    "import pandas as pd\n",
    "from bs4 import BeautifulSoup"
   ]
  },
  {
   "cell_type": "code",
   "execution_count": 22,
   "metadata": {},
   "outputs": [],
   "source": [
    "data_arxiv = requests.get(\"http://export.arxiv.org/api/query?search_query=machine%20learning:electron&start=0&max_results=5\")"
   ]
  },
  {
   "cell_type": "code",
   "execution_count": 23,
   "metadata": {},
   "outputs": [
    {
     "data": {
      "text/plain": [
       "'<?xml version=\"1.0\" encoding=\"UTF-8\"?>\\n<feed xmlns=\"http://www.w3.org/2005/Atom\">\\n  <link href=\"http://arxiv.org/api/query?search_query%3Dmachine%20learning%3Aelectron%26id_list%3D%26start%3D0%26max_results%3D5\" rel=\"self\" type=\"application/atom+xml\"/>\\n  <title type=\"html\">ArXiv Query: search_query=machine learning:electron&amp;id_list=&amp;start=0&amp;max_results=5</title>\\n  <id>http://arxiv.org/api/iZxfjLz6CtFQ8NmnYZYDAnkRbGM</id>\\n  <updated>2024-03-29T00:00:00-04:00</updated>\\n  <opensearch:totalResults xmlns:opensearch=\"http://a9.com/-/spec/opensearch/1.1/\">229106</opensearch:totalResults>\\n  <opensearch:startIndex xmlns:opensearch=\"http://a9.com/-/spec/opensearch/1.1/\">0</opensearch:startIndex>\\n  <opensearch:itemsPerPage xmlns:opensearch=\"http://a9.com/-/spec/opensearch/1.1/\">5</opensearch:itemsPerPage>\\n  <entry>\\n    <id>http://arxiv.org/abs/1611.00467v1</id>\\n    <updated>2016-11-02T04:37:13Z</updated>\\n    <published>2016-11-02T04:37:13Z</published>\\n    <title>A Performance Survey on Stack-based and Register-based Virtual Machines</title>\\n    <summary>  Virtual machines have been widely adapted for high-level programming language\\nimplementations and for providing a degree of platform neutrality. As the\\noverall use and adaptation of virtual machines grow, the overall performance of\\nvirtual machines has become a widely-discussed topic. In this paper, we present\\na survey on the performance differences of the two most widely adapted types of\\nvirtual machines - the stack-based virtual machine and the register-based\\nvirtual machine - using various benchmark programs. Additionally, we adopted a\\nnew approach of measuring performance by measuring the overall dispatch time,\\namount of dispatches, fetch time, and execution time while running benchmarks\\non custom-implemented, lightweight virtual machines. Finally, we present two\\nlightweight, custom-designed, Turing-equivalent virtual machines that are\\nspecifically designed in benchmarking virtual machine performance - the\\n\"Conceptum\" stack-based virtual machine, and the \"Inertia\" register-based\\nvirtual machine. Our result showed that while on average the register machine\\nspends 20.39% less time in executing benchmarks than the stack machine, the\\nstack-based virtual machine is still faster than the virtual machine regarding\\nthe instruction fetch time.\\n</summary>\\n    <author>\\n      <name>Ruijie Fang</name>\\n    </author>\\n    <author>\\n      <name>Siqi Liu</name>\\n    </author>\\n    <arxiv:comment xmlns:arxiv=\"http://arxiv.org/schemas/atom\">Short paper for evaluating performance differences between a\\n  stack-based and a register-based virtual machine</arxiv:comment>\\n    <link href=\"http://arxiv.org/abs/1611.00467v1\" rel=\"alternate\" type=\"text/html\"/>\\n    <link title=\"pdf\" href=\"http://arxiv.org/pdf/1611.00467v1\" rel=\"related\" type=\"application/pdf\"/>\\n    <arxiv:primary_category xmlns:arxiv=\"http://arxiv.org/schemas/atom\" term=\"cs.PL\" scheme=\"http://arxiv.org/schemas/atom\"/>\\n    <category term=\"cs.PL\" scheme=\"http://arxiv.org/schemas/atom\"/>\\n  </entry>\\n  <entry>\\n    <id>http://arxiv.org/abs/2110.15491v1</id>\\n    <updated>2021-10-29T02:03:19Z</updated>\\n    <published>2021-10-29T02:03:19Z</published>\\n    <title>Newtonian Mechanics Based Transient Stability PART VI: Machine\\n  Transformation</title>\\n    <summary>  This paper focuses on the transformations from the individual machine to the\\nequivalent machine through the \"correction\" perspective of the inner-group\\nmachine. The machines are first classified as the real machine with equation of\\nmotion and the pseudo machine without equation of motion. Then, it is clarified\\nthat both individual machine and equivalent machine are real machines, while\\nthe superimposed machine is a pseudo machine. Based on the classifications of\\nthe machines, two types of machine transformations are provided. The two types\\nof machine transformations are based on the \"energy correction\" and \"trajectory\\ncorrection\" of the inner-group machine, respectively. For the energy correction\\ncase, it is clarified that the trajectory transformation completely fails,\\nwhile the energy transformation mathematically holds yet it is physically\\nmeaningless. For the trajectory correction case, it is clarified that both\\nenergy transformation and trajectory transformation are established. The reason\\nis that each trajectory-correction based individual machine has the same\\nequation of motion, i.e., the motion of the equivalent Machine-CR. Simulation\\nresults show that the machine transformation from the individual machine to the\\nequivalent machine can be realized only through trajectory correction.\\n</summary>\\n    <author>\\n      <name>Songyan Wang</name>\\n    </author>\\n    <author>\\n      <name>Jilai Yu</name>\\n    </author>\\n    <author>\\n      <name>Aoife Foley</name>\\n    </author>\\n    <author>\\n      <name>Jingrui Zhang</name>\\n    </author>\\n    <arxiv:comment xmlns:arxiv=\"http://arxiv.org/schemas/atom\">Index Terms-- Transient stability, transient energy, equal area\\n  criterion, transient energy corrections, trajectory corrections. This paper\\n  contains 16 pages and 38 figures</arxiv:comment>\\n    <link href=\"http://arxiv.org/abs/2110.15491v1\" rel=\"alternate\" type=\"text/html\"/>\\n    <link title=\"pdf\" href=\"http://arxiv.org/pdf/2110.15491v1\" rel=\"related\" type=\"application/pdf\"/>\\n    <arxiv:primary_category xmlns:arxiv=\"http://arxiv.org/schemas/atom\" term=\"eess.SY\" scheme=\"http://arxiv.org/schemas/atom\"/>\\n    <category term=\"eess.SY\" scheme=\"http://arxiv.org/schemas/atom\"/>\\n    <category term=\"cs.SY\" scheme=\"http://arxiv.org/schemas/atom\"/>\\n  </entry>\\n  <entry>\\n    <id>http://arxiv.org/abs/1909.03550v1</id>\\n    <updated>2019-09-08T21:49:42Z</updated>\\n    <published>2019-09-08T21:49:42Z</published>\\n    <title>Lecture Notes: Optimization for Machine Learning</title>\\n    <summary>  Lecture notes on optimization for machine learning, derived from a course at\\nPrinceton University and tutorials given in MLSS, Buenos Aires, as well as\\nSimons Foundation, Berkeley.\\n</summary>\\n    <author>\\n      <name>Elad Hazan</name>\\n    </author>\\n    <link href=\"http://arxiv.org/abs/1909.03550v1\" rel=\"alternate\" type=\"text/html\"/>\\n    <link title=\"pdf\" href=\"http://arxiv.org/pdf/1909.03550v1\" rel=\"related\" type=\"application/pdf\"/>\\n    <arxiv:primary_category xmlns:arxiv=\"http://arxiv.org/schemas/atom\" term=\"cs.LG\" scheme=\"http://arxiv.org/schemas/atom\"/>\\n    <category term=\"cs.LG\" scheme=\"http://arxiv.org/schemas/atom\"/>\\n    <category term=\"stat.ML\" scheme=\"http://arxiv.org/schemas/atom\"/>\\n  </entry>\\n  <entry>\\n    <id>http://arxiv.org/abs/2110.10413v1</id>\\n    <updated>2021-10-20T07:17:17Z</updated>\\n    <published>2021-10-20T07:17:17Z</published>\\n    <title>Newtonian Mechanics Based Transient Stability PART I: Machine Paradigms</title>\\n    <summary>  Individual-machine, superimposed-machine and equivalent-machine can be seen\\nas the three major perspectives of the power system transient stability. In\\nthis paper, the machine paradigms are established according to the common\\nthinking among the three different machines. The machine paradigms comprise of\\nthe three components, i.e., trajectory paradigm, modeling paradigm and energy\\nparadigm. The trajectory paradigm is the reflection of the trajectory\\nstability; the modeling paradigm is the two-machine-system modeling of the\\ntrajectory stability; and the energy paradigm is the stability evaluation of\\nthe two-machine system. Based on this, it is clarified that the machine\\nparadigms can be expressed into the individual machine form or the equivalent\\nmachine form. Then, the relationship between the machine stability and the\\nsystem stability are analyzed. Simulation results show that the effectiveness\\nof both the individual-machine and the equivalent machine is fully based on the\\nstrict followings of the machine paradigms.\\n</summary>\\n    <author>\\n      <name>Songyan Wang</name>\\n    </author>\\n    <author>\\n      <name>Jilai Yu</name>\\n    </author>\\n    <author>\\n      <name>Aoife Foley</name>\\n    </author>\\n    <author>\\n      <name>Jingrui Zhang</name>\\n    </author>\\n    <arxiv:comment xmlns:arxiv=\"http://arxiv.org/schemas/atom\">This paper contains 15 pages and 25 figures</arxiv:comment>\\n    <link href=\"http://arxiv.org/abs/2110.10413v1\" rel=\"alternate\" type=\"text/html\"/>\\n    <link title=\"pdf\" href=\"http://arxiv.org/pdf/2110.10413v1\" rel=\"related\" type=\"application/pdf\"/>\\n    <arxiv:primary_category xmlns:arxiv=\"http://arxiv.org/schemas/atom\" term=\"eess.SY\" scheme=\"http://arxiv.org/schemas/atom\"/>\\n    <category term=\"eess.SY\" scheme=\"http://arxiv.org/schemas/atom\"/>\\n    <category term=\"cs.SY\" scheme=\"http://arxiv.org/schemas/atom\"/>\\n  </entry>\\n  <entry>\\n    <id>http://arxiv.org/abs/0910.1761v1</id>\\n    <updated>2009-10-09T14:37:04Z</updated>\\n    <published>2009-10-09T14:37:04Z</published>\\n    <title>Decomposition of forging dies for machining planning</title>\\n    <summary>  This paper will provide a method to decompose forging dies for machining\\nplanning in the case of high speed machining finishing operations. This method\\nlies on a machining feature approach model presented in the following paper.\\nThe two main decomposition phases, called Basic Machining Features Extraction\\nand Process Planning Generation, are presented. These two decomposition phases\\nintegrates machining resources models and expert machining knowledge to provide\\nan outstanding process planning.\\n</summary>\\n    <author>\\n      <name>Laurent Tapie</name>\\n      <arxiv:affiliation xmlns:arxiv=\"http://arxiv.org/schemas/atom\">LURPA</arxiv:affiliation>\\n    </author>\\n    <author>\\n      <name>Kwamiwi Mawussi</name>\\n      <arxiv:affiliation xmlns:arxiv=\"http://arxiv.org/schemas/atom\">LURPA</arxiv:affiliation>\\n    </author>\\n    <author>\\n      <name>Bernard Anselmetti</name>\\n      <arxiv:affiliation xmlns:arxiv=\"http://arxiv.org/schemas/atom\">LURPA</arxiv:affiliation>\\n    </author>\\n    <link href=\"http://arxiv.org/abs/0910.1761v1\" rel=\"alternate\" type=\"text/html\"/>\\n    <link title=\"pdf\" href=\"http://arxiv.org/pdf/0910.1761v1\" rel=\"related\" type=\"application/pdf\"/>\\n    <arxiv:primary_category xmlns:arxiv=\"http://arxiv.org/schemas/atom\" term=\"cs.RO\" scheme=\"http://arxiv.org/schemas/atom\"/>\\n    <category term=\"cs.RO\" scheme=\"http://arxiv.org/schemas/atom\"/>\\n  </entry>\\n</feed>\\n'"
      ]
     },
     "execution_count": 23,
     "metadata": {},
     "output_type": "execute_result"
    }
   ],
   "source": [
    "data_arxiv.text"
   ]
  },
  {
   "cell_type": "code",
   "execution_count": 24,
   "metadata": {},
   "outputs": [
    {
     "name": "stdout",
     "output_type": "stream",
     "text": [
      "<?xml version=\"1.0\" encoding=\"UTF-8\"?>\n",
      "<html>\n",
      " <body>\n",
      "  <feed xmlns=\"http://www.w3.org/2005/Atom\">\n",
      "   <link href=\"http://arxiv.org/api/query?search_query%3Dmachine%20learning%3Aelectron%26id_list%3D%26start%3D0%26max_results%3D5\" rel=\"self\" type=\"application/atom+xml\"/>\n",
      "   <title type=\"html\">\n",
      "    ArXiv Query: search_query=machine learning:electron&amp;id_list=&amp;start=0&amp;max_results=5\n",
      "   </title>\n",
      "   <id>\n",
      "    http://arxiv.org/api/iZxfjLz6CtFQ8NmnYZYDAnkRbGM\n",
      "   </id>\n",
      "   <updated>\n",
      "    2024-03-29T00:00:00-04:00\n",
      "   </updated>\n",
      "   <opensearch:totalresults xmlns:opensearch=\"http://a9.com/-/spec/opensearch/1.1/\">\n",
      "    229106\n",
      "   </opensearch:totalresults>\n",
      "   <opensearch:startindex xmlns:opensearch=\"http://a9.com/-/spec/opensearch/1.1/\">\n",
      "    0\n",
      "   </opensearch:startindex>\n",
      "   <opensearch:itemsperpage xmlns:opensearch=\"http://a9.com/-/spec/opensearch/1.1/\">\n",
      "    5\n",
      "   </opensearch:itemsperpage>\n",
      "   <entry>\n",
      "    <id>\n",
      "     http://arxiv.org/abs/1611.00467v1\n",
      "    </id>\n",
      "    <updated>\n",
      "     2016-11-02T04:37:13Z\n",
      "    </updated>\n",
      "    <published>\n",
      "     2016-11-02T04:37:13Z\n",
      "    </published>\n",
      "    <title>\n",
      "     A Performance Survey on Stack-based and Register-based Virtual Machines\n",
      "    </title>\n",
      "    <summary>\n",
      "     Virtual machines have been widely adapted for high-level programming language\n",
      "implementations and for providing a degree of platform neutrality. As the\n",
      "overall use and adaptation of virtual machines grow, the overall performance of\n",
      "virtual machines has become a widely-discussed topic. In this paper, we present\n",
      "a survey on the performance differences of the two most widely adapted types of\n",
      "virtual machines - the stack-based virtual machine and the register-based\n",
      "virtual machine - using various benchmark programs. Additionally, we adopted a\n",
      "new approach of measuring performance by measuring the overall dispatch time,\n",
      "amount of dispatches, fetch time, and execution time while running benchmarks\n",
      "on custom-implemented, lightweight virtual machines. Finally, we present two\n",
      "lightweight, custom-designed, Turing-equivalent virtual machines that are\n",
      "specifically designed in benchmarking virtual machine performance - the\n",
      "\"Conceptum\" stack-based virtual machine, and the \"Inertia\" register-based\n",
      "virtual machine. Our result showed that while on average the register machine\n",
      "spends 20.39% less time in executing benchmarks than the stack machine, the\n",
      "stack-based virtual machine is still faster than the virtual machine regarding\n",
      "the instruction fetch time.\n",
      "    </summary>\n",
      "    <author>\n",
      "     <name>\n",
      "      Ruijie Fang\n",
      "     </name>\n",
      "    </author>\n",
      "    <author>\n",
      "     <name>\n",
      "      Siqi Liu\n",
      "     </name>\n",
      "    </author>\n",
      "    <arxiv:comment xmlns:arxiv=\"http://arxiv.org/schemas/atom\">\n",
      "     Short paper for evaluating performance differences between a\n",
      "  stack-based and a register-based virtual machine\n",
      "    </arxiv:comment>\n",
      "    <link href=\"http://arxiv.org/abs/1611.00467v1\" rel=\"alternate\" type=\"text/html\"/>\n",
      "    <link href=\"http://arxiv.org/pdf/1611.00467v1\" rel=\"related\" title=\"pdf\" type=\"application/pdf\"/>\n",
      "    <arxiv:primary_category scheme=\"http://arxiv.org/schemas/atom\" term=\"cs.PL\" xmlns:arxiv=\"http://arxiv.org/schemas/atom\">\n",
      "    </arxiv:primary_category>\n",
      "    <category scheme=\"http://arxiv.org/schemas/atom\" term=\"cs.PL\">\n",
      "    </category>\n",
      "   </entry>\n",
      "   <entry>\n",
      "    <id>\n",
      "     http://arxiv.org/abs/2110.15491v1\n",
      "    </id>\n",
      "    <updated>\n",
      "     2021-10-29T02:03:19Z\n",
      "    </updated>\n",
      "    <published>\n",
      "     2021-10-29T02:03:19Z\n",
      "    </published>\n",
      "    <title>\n",
      "     Newtonian Mechanics Based Transient Stability PART VI: Machine\n",
      "  Transformation\n",
      "    </title>\n",
      "    <summary>\n",
      "     This paper focuses on the transformations from the individual machine to the\n",
      "equivalent machine through the \"correction\" perspective of the inner-group\n",
      "machine. The machines are first classified as the real machine with equation of\n",
      "motion and the pseudo machine without equation of motion. Then, it is clarified\n",
      "that both individual machine and equivalent machine are real machines, while\n",
      "the superimposed machine is a pseudo machine. Based on the classifications of\n",
      "the machines, two types of machine transformations are provided. The two types\n",
      "of machine transformations are based on the \"energy correction\" and \"trajectory\n",
      "correction\" of the inner-group machine, respectively. For the energy correction\n",
      "case, it is clarified that the trajectory transformation completely fails,\n",
      "while the energy transformation mathematically holds yet it is physically\n",
      "meaningless. For the trajectory correction case, it is clarified that both\n",
      "energy transformation and trajectory transformation are established. The reason\n",
      "is that each trajectory-correction based individual machine has the same\n",
      "equation of motion, i.e., the motion of the equivalent Machine-CR. Simulation\n",
      "results show that the machine transformation from the individual machine to the\n",
      "equivalent machine can be realized only through trajectory correction.\n",
      "    </summary>\n",
      "    <author>\n",
      "     <name>\n",
      "      Songyan Wang\n",
      "     </name>\n",
      "    </author>\n",
      "    <author>\n",
      "     <name>\n",
      "      Jilai Yu\n",
      "     </name>\n",
      "    </author>\n",
      "    <author>\n",
      "     <name>\n",
      "      Aoife Foley\n",
      "     </name>\n",
      "    </author>\n",
      "    <author>\n",
      "     <name>\n",
      "      Jingrui Zhang\n",
      "     </name>\n",
      "    </author>\n",
      "    <arxiv:comment xmlns:arxiv=\"http://arxiv.org/schemas/atom\">\n",
      "     Index Terms-- Transient stability, transient energy, equal area\n",
      "  criterion, transient energy corrections, trajectory corrections. This paper\n",
      "  contains 16 pages and 38 figures\n",
      "    </arxiv:comment>\n",
      "    <link href=\"http://arxiv.org/abs/2110.15491v1\" rel=\"alternate\" type=\"text/html\"/>\n",
      "    <link href=\"http://arxiv.org/pdf/2110.15491v1\" rel=\"related\" title=\"pdf\" type=\"application/pdf\"/>\n",
      "    <arxiv:primary_category scheme=\"http://arxiv.org/schemas/atom\" term=\"eess.SY\" xmlns:arxiv=\"http://arxiv.org/schemas/atom\">\n",
      "    </arxiv:primary_category>\n",
      "    <category scheme=\"http://arxiv.org/schemas/atom\" term=\"eess.SY\">\n",
      "    </category>\n",
      "    <category scheme=\"http://arxiv.org/schemas/atom\" term=\"cs.SY\">\n",
      "    </category>\n",
      "   </entry>\n",
      "   <entry>\n",
      "    <id>\n",
      "     http://arxiv.org/abs/1909.03550v1\n",
      "    </id>\n",
      "    <updated>\n",
      "     2019-09-08T21:49:42Z\n",
      "    </updated>\n",
      "    <published>\n",
      "     2019-09-08T21:49:42Z\n",
      "    </published>\n",
      "    <title>\n",
      "     Lecture Notes: Optimization for Machine Learning\n",
      "    </title>\n",
      "    <summary>\n",
      "     Lecture notes on optimization for machine learning, derived from a course at\n",
      "Princeton University and tutorials given in MLSS, Buenos Aires, as well as\n",
      "Simons Foundation, Berkeley.\n",
      "    </summary>\n",
      "    <author>\n",
      "     <name>\n",
      "      Elad Hazan\n",
      "     </name>\n",
      "    </author>\n",
      "    <link href=\"http://arxiv.org/abs/1909.03550v1\" rel=\"alternate\" type=\"text/html\"/>\n",
      "    <link href=\"http://arxiv.org/pdf/1909.03550v1\" rel=\"related\" title=\"pdf\" type=\"application/pdf\"/>\n",
      "    <arxiv:primary_category scheme=\"http://arxiv.org/schemas/atom\" term=\"cs.LG\" xmlns:arxiv=\"http://arxiv.org/schemas/atom\">\n",
      "    </arxiv:primary_category>\n",
      "    <category scheme=\"http://arxiv.org/schemas/atom\" term=\"cs.LG\">\n",
      "    </category>\n",
      "    <category scheme=\"http://arxiv.org/schemas/atom\" term=\"stat.ML\">\n",
      "    </category>\n",
      "   </entry>\n",
      "   <entry>\n",
      "    <id>\n",
      "     http://arxiv.org/abs/2110.10413v1\n",
      "    </id>\n",
      "    <updated>\n",
      "     2021-10-20T07:17:17Z\n",
      "    </updated>\n",
      "    <published>\n",
      "     2021-10-20T07:17:17Z\n",
      "    </published>\n",
      "    <title>\n",
      "     Newtonian Mechanics Based Transient Stability PART I: Machine Paradigms\n",
      "    </title>\n",
      "    <summary>\n",
      "     Individual-machine, superimposed-machine and equivalent-machine can be seen\n",
      "as the three major perspectives of the power system transient stability. In\n",
      "this paper, the machine paradigms are established according to the common\n",
      "thinking among the three different machines. The machine paradigms comprise of\n",
      "the three components, i.e., trajectory paradigm, modeling paradigm and energy\n",
      "paradigm. The trajectory paradigm is the reflection of the trajectory\n",
      "stability; the modeling paradigm is the two-machine-system modeling of the\n",
      "trajectory stability; and the energy paradigm is the stability evaluation of\n",
      "the two-machine system. Based on this, it is clarified that the machine\n",
      "paradigms can be expressed into the individual machine form or the equivalent\n",
      "machine form. Then, the relationship between the machine stability and the\n",
      "system stability are analyzed. Simulation results show that the effectiveness\n",
      "of both the individual-machine and the equivalent machine is fully based on the\n",
      "strict followings of the machine paradigms.\n",
      "    </summary>\n",
      "    <author>\n",
      "     <name>\n",
      "      Songyan Wang\n",
      "     </name>\n",
      "    </author>\n",
      "    <author>\n",
      "     <name>\n",
      "      Jilai Yu\n",
      "     </name>\n",
      "    </author>\n",
      "    <author>\n",
      "     <name>\n",
      "      Aoife Foley\n",
      "     </name>\n",
      "    </author>\n",
      "    <author>\n",
      "     <name>\n",
      "      Jingrui Zhang\n",
      "     </name>\n",
      "    </author>\n",
      "    <arxiv:comment xmlns:arxiv=\"http://arxiv.org/schemas/atom\">\n",
      "     This paper contains 15 pages and 25 figures\n",
      "    </arxiv:comment>\n",
      "    <link href=\"http://arxiv.org/abs/2110.10413v1\" rel=\"alternate\" type=\"text/html\"/>\n",
      "    <link href=\"http://arxiv.org/pdf/2110.10413v1\" rel=\"related\" title=\"pdf\" type=\"application/pdf\"/>\n",
      "    <arxiv:primary_category scheme=\"http://arxiv.org/schemas/atom\" term=\"eess.SY\" xmlns:arxiv=\"http://arxiv.org/schemas/atom\">\n",
      "    </arxiv:primary_category>\n",
      "    <category scheme=\"http://arxiv.org/schemas/atom\" term=\"eess.SY\">\n",
      "    </category>\n",
      "    <category scheme=\"http://arxiv.org/schemas/atom\" term=\"cs.SY\">\n",
      "    </category>\n",
      "   </entry>\n",
      "   <entry>\n",
      "    <id>\n",
      "     http://arxiv.org/abs/0910.1761v1\n",
      "    </id>\n",
      "    <updated>\n",
      "     2009-10-09T14:37:04Z\n",
      "    </updated>\n",
      "    <published>\n",
      "     2009-10-09T14:37:04Z\n",
      "    </published>\n",
      "    <title>\n",
      "     Decomposition of forging dies for machining planning\n",
      "    </title>\n",
      "    <summary>\n",
      "     This paper will provide a method to decompose forging dies for machining\n",
      "planning in the case of high speed machining finishing operations. This method\n",
      "lies on a machining feature approach model presented in the following paper.\n",
      "The two main decomposition phases, called Basic Machining Features Extraction\n",
      "and Process Planning Generation, are presented. These two decomposition phases\n",
      "integrates machining resources models and expert machining knowledge to provide\n",
      "an outstanding process planning.\n",
      "    </summary>\n",
      "    <author>\n",
      "     <name>\n",
      "      Laurent Tapie\n",
      "     </name>\n",
      "     <arxiv:affiliation xmlns:arxiv=\"http://arxiv.org/schemas/atom\">\n",
      "      LURPA\n",
      "     </arxiv:affiliation>\n",
      "    </author>\n",
      "    <author>\n",
      "     <name>\n",
      "      Kwamiwi Mawussi\n",
      "     </name>\n",
      "     <arxiv:affiliation xmlns:arxiv=\"http://arxiv.org/schemas/atom\">\n",
      "      LURPA\n",
      "     </arxiv:affiliation>\n",
      "    </author>\n",
      "    <author>\n",
      "     <name>\n",
      "      Bernard Anselmetti\n",
      "     </name>\n",
      "     <arxiv:affiliation xmlns:arxiv=\"http://arxiv.org/schemas/atom\">\n",
      "      LURPA\n",
      "     </arxiv:affiliation>\n",
      "    </author>\n",
      "    <link href=\"http://arxiv.org/abs/0910.1761v1\" rel=\"alternate\" type=\"text/html\"/>\n",
      "    <link href=\"http://arxiv.org/pdf/0910.1761v1\" rel=\"related\" title=\"pdf\" type=\"application/pdf\"/>\n",
      "    <arxiv:primary_category scheme=\"http://arxiv.org/schemas/atom\" term=\"cs.RO\" xmlns:arxiv=\"http://arxiv.org/schemas/atom\">\n",
      "    </arxiv:primary_category>\n",
      "    <category scheme=\"http://arxiv.org/schemas/atom\" term=\"cs.RO\">\n",
      "    </category>\n",
      "   </entry>\n",
      "  </feed>\n",
      " </body>\n",
      "</html>\n",
      "\n"
     ]
    },
    {
     "name": "stderr",
     "output_type": "stream",
     "text": [
      "C:\\Users\\mail\\anaconda3\\envs\\webmining2024\\lib\\site-packages\\bs4\\builder\\__init__.py:545: XMLParsedAsHTMLWarning: It looks like you're parsing an XML document using an HTML parser. If this really is an HTML document (maybe it's XHTML?), you can ignore or filter this warning. If it's XML, you should know that using an XML parser will be more reliable. To parse this document as XML, make sure you have the lxml package installed, and pass the keyword argument `features=\"xml\"` into the BeautifulSoup constructor.\n",
      "  warnings.warn(\n"
     ]
    }
   ],
   "source": [
    "bs = BeautifulSoup(data_arxiv.text, 'lxml')\n",
    "print(bs.prettify())"
   ]
  },
  {
   "cell_type": "code",
   "execution_count": 25,
   "metadata": {},
   "outputs": [
    {
     "data": {
      "text/plain": [
       "[<entry>\n",
       " <id>http://arxiv.org/abs/1611.00467v1</id>\n",
       " <updated>2016-11-02T04:37:13Z</updated>\n",
       " <published>2016-11-02T04:37:13Z</published>\n",
       " <title>A Performance Survey on Stack-based and Register-based Virtual Machines</title>\n",
       " <summary>  Virtual machines have been widely adapted for high-level programming language\n",
       " implementations and for providing a degree of platform neutrality. As the\n",
       " overall use and adaptation of virtual machines grow, the overall performance of\n",
       " virtual machines has become a widely-discussed topic. In this paper, we present\n",
       " a survey on the performance differences of the two most widely adapted types of\n",
       " virtual machines - the stack-based virtual machine and the register-based\n",
       " virtual machine - using various benchmark programs. Additionally, we adopted a\n",
       " new approach of measuring performance by measuring the overall dispatch time,\n",
       " amount of dispatches, fetch time, and execution time while running benchmarks\n",
       " on custom-implemented, lightweight virtual machines. Finally, we present two\n",
       " lightweight, custom-designed, Turing-equivalent virtual machines that are\n",
       " specifically designed in benchmarking virtual machine performance - the\n",
       " \"Conceptum\" stack-based virtual machine, and the \"Inertia\" register-based\n",
       " virtual machine. Our result showed that while on average the register machine\n",
       " spends 20.39% less time in executing benchmarks than the stack machine, the\n",
       " stack-based virtual machine is still faster than the virtual machine regarding\n",
       " the instruction fetch time.\n",
       " </summary>\n",
       " <author>\n",
       " <name>Ruijie Fang</name>\n",
       " </author>\n",
       " <author>\n",
       " <name>Siqi Liu</name>\n",
       " </author>\n",
       " <arxiv:comment xmlns:arxiv=\"http://arxiv.org/schemas/atom\">Short paper for evaluating performance differences between a\n",
       "   stack-based and a register-based virtual machine</arxiv:comment>\n",
       " <link href=\"http://arxiv.org/abs/1611.00467v1\" rel=\"alternate\" type=\"text/html\"/>\n",
       " <link href=\"http://arxiv.org/pdf/1611.00467v1\" rel=\"related\" title=\"pdf\" type=\"application/pdf\"/>\n",
       " <arxiv:primary_category scheme=\"http://arxiv.org/schemas/atom\" term=\"cs.PL\" xmlns:arxiv=\"http://arxiv.org/schemas/atom\"></arxiv:primary_category>\n",
       " <category scheme=\"http://arxiv.org/schemas/atom\" term=\"cs.PL\"></category>\n",
       " </entry>,\n",
       " <entry>\n",
       " <id>http://arxiv.org/abs/2110.15491v1</id>\n",
       " <updated>2021-10-29T02:03:19Z</updated>\n",
       " <published>2021-10-29T02:03:19Z</published>\n",
       " <title>Newtonian Mechanics Based Transient Stability PART VI: Machine\n",
       "   Transformation</title>\n",
       " <summary>  This paper focuses on the transformations from the individual machine to the\n",
       " equivalent machine through the \"correction\" perspective of the inner-group\n",
       " machine. The machines are first classified as the real machine with equation of\n",
       " motion and the pseudo machine without equation of motion. Then, it is clarified\n",
       " that both individual machine and equivalent machine are real machines, while\n",
       " the superimposed machine is a pseudo machine. Based on the classifications of\n",
       " the machines, two types of machine transformations are provided. The two types\n",
       " of machine transformations are based on the \"energy correction\" and \"trajectory\n",
       " correction\" of the inner-group machine, respectively. For the energy correction\n",
       " case, it is clarified that the trajectory transformation completely fails,\n",
       " while the energy transformation mathematically holds yet it is physically\n",
       " meaningless. For the trajectory correction case, it is clarified that both\n",
       " energy transformation and trajectory transformation are established. The reason\n",
       " is that each trajectory-correction based individual machine has the same\n",
       " equation of motion, i.e., the motion of the equivalent Machine-CR. Simulation\n",
       " results show that the machine transformation from the individual machine to the\n",
       " equivalent machine can be realized only through trajectory correction.\n",
       " </summary>\n",
       " <author>\n",
       " <name>Songyan Wang</name>\n",
       " </author>\n",
       " <author>\n",
       " <name>Jilai Yu</name>\n",
       " </author>\n",
       " <author>\n",
       " <name>Aoife Foley</name>\n",
       " </author>\n",
       " <author>\n",
       " <name>Jingrui Zhang</name>\n",
       " </author>\n",
       " <arxiv:comment xmlns:arxiv=\"http://arxiv.org/schemas/atom\">Index Terms-- Transient stability, transient energy, equal area\n",
       "   criterion, transient energy corrections, trajectory corrections. This paper\n",
       "   contains 16 pages and 38 figures</arxiv:comment>\n",
       " <link href=\"http://arxiv.org/abs/2110.15491v1\" rel=\"alternate\" type=\"text/html\"/>\n",
       " <link href=\"http://arxiv.org/pdf/2110.15491v1\" rel=\"related\" title=\"pdf\" type=\"application/pdf\"/>\n",
       " <arxiv:primary_category scheme=\"http://arxiv.org/schemas/atom\" term=\"eess.SY\" xmlns:arxiv=\"http://arxiv.org/schemas/atom\"></arxiv:primary_category>\n",
       " <category scheme=\"http://arxiv.org/schemas/atom\" term=\"eess.SY\"></category>\n",
       " <category scheme=\"http://arxiv.org/schemas/atom\" term=\"cs.SY\"></category>\n",
       " </entry>,\n",
       " <entry>\n",
       " <id>http://arxiv.org/abs/1909.03550v1</id>\n",
       " <updated>2019-09-08T21:49:42Z</updated>\n",
       " <published>2019-09-08T21:49:42Z</published>\n",
       " <title>Lecture Notes: Optimization for Machine Learning</title>\n",
       " <summary>  Lecture notes on optimization for machine learning, derived from a course at\n",
       " Princeton University and tutorials given in MLSS, Buenos Aires, as well as\n",
       " Simons Foundation, Berkeley.\n",
       " </summary>\n",
       " <author>\n",
       " <name>Elad Hazan</name>\n",
       " </author>\n",
       " <link href=\"http://arxiv.org/abs/1909.03550v1\" rel=\"alternate\" type=\"text/html\"/>\n",
       " <link href=\"http://arxiv.org/pdf/1909.03550v1\" rel=\"related\" title=\"pdf\" type=\"application/pdf\"/>\n",
       " <arxiv:primary_category scheme=\"http://arxiv.org/schemas/atom\" term=\"cs.LG\" xmlns:arxiv=\"http://arxiv.org/schemas/atom\"></arxiv:primary_category>\n",
       " <category scheme=\"http://arxiv.org/schemas/atom\" term=\"cs.LG\"></category>\n",
       " <category scheme=\"http://arxiv.org/schemas/atom\" term=\"stat.ML\"></category>\n",
       " </entry>,\n",
       " <entry>\n",
       " <id>http://arxiv.org/abs/2110.10413v1</id>\n",
       " <updated>2021-10-20T07:17:17Z</updated>\n",
       " <published>2021-10-20T07:17:17Z</published>\n",
       " <title>Newtonian Mechanics Based Transient Stability PART I: Machine Paradigms</title>\n",
       " <summary>  Individual-machine, superimposed-machine and equivalent-machine can be seen\n",
       " as the three major perspectives of the power system transient stability. In\n",
       " this paper, the machine paradigms are established according to the common\n",
       " thinking among the three different machines. The machine paradigms comprise of\n",
       " the three components, i.e., trajectory paradigm, modeling paradigm and energy\n",
       " paradigm. The trajectory paradigm is the reflection of the trajectory\n",
       " stability; the modeling paradigm is the two-machine-system modeling of the\n",
       " trajectory stability; and the energy paradigm is the stability evaluation of\n",
       " the two-machine system. Based on this, it is clarified that the machine\n",
       " paradigms can be expressed into the individual machine form or the equivalent\n",
       " machine form. Then, the relationship between the machine stability and the\n",
       " system stability are analyzed. Simulation results show that the effectiveness\n",
       " of both the individual-machine and the equivalent machine is fully based on the\n",
       " strict followings of the machine paradigms.\n",
       " </summary>\n",
       " <author>\n",
       " <name>Songyan Wang</name>\n",
       " </author>\n",
       " <author>\n",
       " <name>Jilai Yu</name>\n",
       " </author>\n",
       " <author>\n",
       " <name>Aoife Foley</name>\n",
       " </author>\n",
       " <author>\n",
       " <name>Jingrui Zhang</name>\n",
       " </author>\n",
       " <arxiv:comment xmlns:arxiv=\"http://arxiv.org/schemas/atom\">This paper contains 15 pages and 25 figures</arxiv:comment>\n",
       " <link href=\"http://arxiv.org/abs/2110.10413v1\" rel=\"alternate\" type=\"text/html\"/>\n",
       " <link href=\"http://arxiv.org/pdf/2110.10413v1\" rel=\"related\" title=\"pdf\" type=\"application/pdf\"/>\n",
       " <arxiv:primary_category scheme=\"http://arxiv.org/schemas/atom\" term=\"eess.SY\" xmlns:arxiv=\"http://arxiv.org/schemas/atom\"></arxiv:primary_category>\n",
       " <category scheme=\"http://arxiv.org/schemas/atom\" term=\"eess.SY\"></category>\n",
       " <category scheme=\"http://arxiv.org/schemas/atom\" term=\"cs.SY\"></category>\n",
       " </entry>,\n",
       " <entry>\n",
       " <id>http://arxiv.org/abs/0910.1761v1</id>\n",
       " <updated>2009-10-09T14:37:04Z</updated>\n",
       " <published>2009-10-09T14:37:04Z</published>\n",
       " <title>Decomposition of forging dies for machining planning</title>\n",
       " <summary>  This paper will provide a method to decompose forging dies for machining\n",
       " planning in the case of high speed machining finishing operations. This method\n",
       " lies on a machining feature approach model presented in the following paper.\n",
       " The two main decomposition phases, called Basic Machining Features Extraction\n",
       " and Process Planning Generation, are presented. These two decomposition phases\n",
       " integrates machining resources models and expert machining knowledge to provide\n",
       " an outstanding process planning.\n",
       " </summary>\n",
       " <author>\n",
       " <name>Laurent Tapie</name>\n",
       " <arxiv:affiliation xmlns:arxiv=\"http://arxiv.org/schemas/atom\">LURPA</arxiv:affiliation>\n",
       " </author>\n",
       " <author>\n",
       " <name>Kwamiwi Mawussi</name>\n",
       " <arxiv:affiliation xmlns:arxiv=\"http://arxiv.org/schemas/atom\">LURPA</arxiv:affiliation>\n",
       " </author>\n",
       " <author>\n",
       " <name>Bernard Anselmetti</name>\n",
       " <arxiv:affiliation xmlns:arxiv=\"http://arxiv.org/schemas/atom\">LURPA</arxiv:affiliation>\n",
       " </author>\n",
       " <link href=\"http://arxiv.org/abs/0910.1761v1\" rel=\"alternate\" type=\"text/html\"/>\n",
       " <link href=\"http://arxiv.org/pdf/0910.1761v1\" rel=\"related\" title=\"pdf\" type=\"application/pdf\"/>\n",
       " <arxiv:primary_category scheme=\"http://arxiv.org/schemas/atom\" term=\"cs.RO\" xmlns:arxiv=\"http://arxiv.org/schemas/atom\"></arxiv:primary_category>\n",
       " <category scheme=\"http://arxiv.org/schemas/atom\" term=\"cs.RO\"></category>\n",
       " </entry>]"
      ]
     },
     "execution_count": 25,
     "metadata": {},
     "output_type": "execute_result"
    }
   ],
   "source": [
    "entries = bs.findAll(\"entry\")\n",
    "entries"
   ]
  },
  {
   "cell_type": "code",
   "execution_count": 26,
   "metadata": {},
   "outputs": [
    {
     "data": {
      "text/plain": [
       "5"
      ]
     },
     "execution_count": 26,
     "metadata": {},
     "output_type": "execute_result"
    }
   ],
   "source": [
    "len(entries)"
   ]
  },
  {
   "cell_type": "code",
   "execution_count": 27,
   "metadata": {},
   "outputs": [],
   "source": [
    "data = []\n",
    "for e in entries:\n",
    "    article_id = e.find(\"id\").text\n",
    "    article_title = e.find(\"title\").text\n",
    "    data.append({'id': article_id, 'title': article_title})\n",
    "\n",
    "df = pd.DataFrame(data)"
   ]
  },
  {
   "cell_type": "code",
   "execution_count": 28,
   "metadata": {
    "scrolled": true
   },
   "outputs": [
    {
     "data": {
      "text/html": [
       "<div>\n",
       "<style scoped>\n",
       "    .dataframe tbody tr th:only-of-type {\n",
       "        vertical-align: middle;\n",
       "    }\n",
       "\n",
       "    .dataframe tbody tr th {\n",
       "        vertical-align: top;\n",
       "    }\n",
       "\n",
       "    .dataframe thead th {\n",
       "        text-align: right;\n",
       "    }\n",
       "</style>\n",
       "<table border=\"1\" class=\"dataframe\">\n",
       "  <thead>\n",
       "    <tr style=\"text-align: right;\">\n",
       "      <th></th>\n",
       "      <th>id</th>\n",
       "      <th>title</th>\n",
       "    </tr>\n",
       "  </thead>\n",
       "  <tbody>\n",
       "    <tr>\n",
       "      <th>0</th>\n",
       "      <td>http://arxiv.org/abs/1611.00467v1</td>\n",
       "      <td>A Performance Survey on Stack-based and Regist...</td>\n",
       "    </tr>\n",
       "    <tr>\n",
       "      <th>1</th>\n",
       "      <td>http://arxiv.org/abs/2110.15491v1</td>\n",
       "      <td>Newtonian Mechanics Based Transient Stability ...</td>\n",
       "    </tr>\n",
       "    <tr>\n",
       "      <th>2</th>\n",
       "      <td>http://arxiv.org/abs/1909.03550v1</td>\n",
       "      <td>Lecture Notes: Optimization for Machine Learning</td>\n",
       "    </tr>\n",
       "    <tr>\n",
       "      <th>3</th>\n",
       "      <td>http://arxiv.org/abs/2110.10413v1</td>\n",
       "      <td>Newtonian Mechanics Based Transient Stability ...</td>\n",
       "    </tr>\n",
       "    <tr>\n",
       "      <th>4</th>\n",
       "      <td>http://arxiv.org/abs/0910.1761v1</td>\n",
       "      <td>Decomposition of forging dies for machining pl...</td>\n",
       "    </tr>\n",
       "  </tbody>\n",
       "</table>\n",
       "</div>"
      ],
      "text/plain": [
       "                                  id  \\\n",
       "0  http://arxiv.org/abs/1611.00467v1   \n",
       "1  http://arxiv.org/abs/2110.15491v1   \n",
       "2  http://arxiv.org/abs/1909.03550v1   \n",
       "3  http://arxiv.org/abs/2110.10413v1   \n",
       "4   http://arxiv.org/abs/0910.1761v1   \n",
       "\n",
       "                                               title  \n",
       "0  A Performance Survey on Stack-based and Regist...  \n",
       "1  Newtonian Mechanics Based Transient Stability ...  \n",
       "2   Lecture Notes: Optimization for Machine Learning  \n",
       "3  Newtonian Mechanics Based Transient Stability ...  \n",
       "4  Decomposition of forging dies for machining pl...  "
      ]
     },
     "execution_count": 28,
     "metadata": {},
     "output_type": "execute_result"
    }
   ],
   "source": [
    "df"
   ]
  },
  {
   "cell_type": "markdown",
   "metadata": {},
   "source": [
    "# Post Request"
   ]
  },
  {
   "cell_type": "code",
   "execution_count": 29,
   "metadata": {},
   "outputs": [
    {
     "name": "stdout",
     "output_type": "stream",
     "text": [
      "Status Code: 200\n",
      "Response Body: {\n",
      "  \"args\": {}, \n",
      "  \"data\": \"{\\\"key1\\\": \\\"value1\\\", \\\"key2\\\": \\\"value2\\\"}\", \n",
      "  \"files\": {}, \n",
      "  \"form\": {}, \n",
      "  \"headers\": {\n",
      "    \"Accept\": \"*/*\", \n",
      "    \"Accept-Encoding\": \"gzip, deflate, br\", \n",
      "    \"Content-Length\": \"36\", \n",
      "    \"Content-Type\": \"application/json\", \n",
      "    \"Host\": \"httpbin.org\", \n",
      "    \"User-Agent\": \"python-requests/2.31.0\", \n",
      "    \"X-Amzn-Trace-Id\": \"Root=1-6606cbbf-00caa54d40bbc6947bdedef9\"\n",
      "  }, \n",
      "  \"json\": {\n",
      "    \"key1\": \"value1\", \n",
      "    \"key2\": \"value2\"\n",
      "  }, \n",
      "  \"origin\": \"89.246.199.101\", \n",
      "  \"url\": \"https://httpbin.org/post\"\n",
      "}\n",
      "\n"
     ]
    }
   ],
   "source": [
    "import requests\n",
    "\n",
    "# URL of the test service\n",
    "url = 'https://httpbin.org/post'\n",
    "\n",
    "# Data to be sent in POST request\n",
    "data = {\n",
    "    'key1': 'value1',\n",
    "    'key2': 'value2'\n",
    "}\n",
    "\n",
    "# Headers (optional, modify as needed)\n",
    "headers = {\n",
    "    'Content-Type': 'application/json'\n",
    "}\n",
    "\n",
    "# Making the POST request\n",
    "response = requests.post(url, json=data, headers=headers)\n",
    "\n",
    "# Printing the response\n",
    "print(\"Status Code:\", response.status_code)\n",
    "print(\"Response Body:\", response.text)"
   ]
  },
  {
   "cell_type": "code",
   "execution_count": null,
   "metadata": {},
   "outputs": [],
   "source": []
  }
 ],
 "metadata": {
  "kernelspec": {
   "display_name": "Python 3 (ipykernel)",
   "language": "python",
   "name": "python3"
  },
  "language_info": {
   "codemirror_mode": {
    "name": "ipython",
    "version": 3
   },
   "file_extension": ".py",
   "mimetype": "text/x-python",
   "name": "python",
   "nbconvert_exporter": "python",
   "pygments_lexer": "ipython3",
   "version": "3.10.13"
  }
 },
 "nbformat": 4,
 "nbformat_minor": 4
}
