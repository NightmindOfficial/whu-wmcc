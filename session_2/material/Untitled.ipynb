{
 "cells": [
  {
   "cell_type": "code",
   "execution_count": 1,
   "id": "263b7d59-1782-4f15-a959-7a6f8b237f24",
   "metadata": {},
   "outputs": [],
   "source": [
    "import streamlit as st\n",
    "import spotipy\n",
    "from spotipy.oauth2 import SpotifyClientCredentials\n",
    "import pandas as pd\n",
    "import numpy as np\n",
    "\n",
    "# Initialize the Spotipy client with your Spotify API credentials\n",
    "client_id = 'b7e3715f645d480b93687e744c4287ab'\n",
    "client_secret = '0bb4c5c2bfef4248933cbf03478756ae'\n",
    "client_credentials_manager = SpotifyClientCredentials(client_id=client_id, client_secret=client_secret)\n",
    "sp = spotipy.Spotify(client_credentials_manager=client_credentials_manager)\n",
    "\n",
    "def get_playlist_info(playlist_url, playlist_no):\n",
    "    \"\"\"Fetch general information and audio features for a Spotify playlist.\"\"\"\n",
    "    print(\"Executing.\")\n",
    "\n",
    "    playlist_id = playlist_url.split(\"/\")[-1].split(\"?\")[0] # Extract only the ID from the URL provided\n",
    "    playlist = sp.playlist(playlist_id) # Fetch the entire playlist from spotify by its ID. If this fails, the Exception will be caught during the Streamlit runtime.\n",
    "\n",
    "    tracks = playlist[\"tracks\"]\n",
    "    songs = tracks['items']\n",
    "\n",
    "    while tracks['next']:\n",
    "        tracks = sp.next(tracks)\n",
    "        print(\"Tracks Next.\")\n",
    "        [songs.append(item) for item in tracks['items']]\n",
    "\n",
    "\n",
    "    song_ids = [songs[i]['track']['id'] for i in range(0, len(songs))]\n",
    "    print(\"Got IDs.\")\n",
    "\n",
    "    audio_features = []\n",
    "    for i in range(0, len(song_ids), 50):\n",
    "        print(\"Getting Audio Features\")\n",
    "        audio_features = sp.audio_features(song_ids[i:i + 50])\n",
    "        for track in audio_features:\n",
    "            if track is not None:\n",
    "                audio_features.append(track)\n",
    "                audio_features[len(audio_features) - 1]['playlist-no'] = playlist_no\n",
    "\n",
    "    song_details = []\n",
    "\n",
    "\n",
    "    # Loop through each song to fetch its details and audio features\n",
    "    for song in songs:\n",
    "        print(\"Looping!\")\n",
    "        track = song['track']\n",
    "        track_id = track['id']\n",
    "        title = track['name']\n",
    "        artist = track['artists'][0]['name']  # Assuming the first artist is the primary\n",
    "        album = track['album']['name']\n",
    "        duration = track['duration_ms']\n",
    "        created_date = track['album']['release_date']  # Release date of the album\n",
    "\n",
    "        # Fetch the audio features for the track\n",
    "        audio_feature = sp.audio_features(track_id)[0]  # Fetch the audio features\n",
    "        \n",
    "        # Combine the track details with its audio features (excluding redundant 'id')\n",
    "        song_info = {\n",
    "            'Track ID': track_id,\n",
    "            'Title': title,\n",
    "            'Artist': artist,\n",
    "            'Album': album,\n",
    "            'Duration': duration,\n",
    "            'Created Date': created_date,\n",
    "        }\n",
    "        \n",
    "        # Add the audio features to the song info, if available\n",
    "        for key, value in audio_features.items():\n",
    "            if key != 'id':  # Avoid duplicating the track ID\n",
    "                    song_info[key] = value\n",
    "        \n",
    "        song_details.append(song_info)\n",
    "\n",
    "        df = pd.DataFrame(song_details)\n",
    "\n",
    "        return df\n",
    "\n",
    "\n",
    "    \n",
    "    info = {\n",
    "        'Title': playlist['name'],\n",
    "        'Created By': playlist['owner']['display_name'],\n",
    "        'Number of Songs': len(songs),\n",
    "    }\n",
    "    \n",
    "    \n",
    "    return df, info\n"
   ]
  },
  {
   "cell_type": "code",
   "execution_count": 2,
   "id": "5071789a-4059-4566-8e5e-4d28d1b0a237",
   "metadata": {},
   "outputs": [
    {
     "name": "stdout",
     "output_type": "stream",
     "text": [
      "Executing.\n",
      "Got IDs.\n",
      "Getting Audio Features\n"
     ]
    },
    {
     "ename": "MemoryError",
     "evalue": "",
     "output_type": "error",
     "traceback": [
      "\u001b[1;31m---------------------------------------------------------------------------\u001b[0m",
      "\u001b[1;31mMemoryError\u001b[0m                               Traceback (most recent call last)",
      "Cell \u001b[1;32mIn[2], line 1\u001b[0m\n\u001b[1;32m----> 1\u001b[0m \u001b[43mget_playlist_info\u001b[49m\u001b[43m(\u001b[49m\u001b[38;5;124;43m'\u001b[39;49m\u001b[38;5;124;43mhttps://open.spotify.com/playlist/4RofcSdvlSn8IuNdzXXWOf?si=14cf348d7105417d\u001b[39;49m\u001b[38;5;124;43m'\u001b[39;49m\u001b[43m,\u001b[49m\u001b[38;5;241;43m1\u001b[39;49m\u001b[43m)\u001b[49m\n",
      "Cell \u001b[1;32mIn[1], line 38\u001b[0m, in \u001b[0;36mget_playlist_info\u001b[1;34m(playlist_url, playlist_no)\u001b[0m\n\u001b[0;32m     36\u001b[0m     \u001b[38;5;28;01mfor\u001b[39;00m track \u001b[38;5;129;01min\u001b[39;00m audio_features:\n\u001b[0;32m     37\u001b[0m         \u001b[38;5;28;01mif\u001b[39;00m track \u001b[38;5;129;01mis\u001b[39;00m \u001b[38;5;129;01mnot\u001b[39;00m \u001b[38;5;28;01mNone\u001b[39;00m:\n\u001b[1;32m---> 38\u001b[0m             \u001b[43maudio_features\u001b[49m\u001b[38;5;241;43m.\u001b[39;49m\u001b[43mappend\u001b[49m\u001b[43m(\u001b[49m\u001b[43mtrack\u001b[49m\u001b[43m)\u001b[49m\n\u001b[0;32m     39\u001b[0m             audio_features[\u001b[38;5;28mlen\u001b[39m(audio_features) \u001b[38;5;241m-\u001b[39m \u001b[38;5;241m1\u001b[39m][\u001b[38;5;124m'\u001b[39m\u001b[38;5;124mplaylist-no\u001b[39m\u001b[38;5;124m'\u001b[39m] \u001b[38;5;241m=\u001b[39m playlist_no\n\u001b[0;32m     41\u001b[0m song_details \u001b[38;5;241m=\u001b[39m []\n",
      "\u001b[1;31mMemoryError\u001b[0m: "
     ]
    }
   ],
   "source": [
    "get_playlist_info('https://open.spotify.com/playlist/4RofcSdvlSn8IuNdzXXWOf?si=14cf348d7105417d',1)"
   ]
  },
  {
   "cell_type": "code",
   "execution_count": null,
   "id": "4d77a024-7026-4372-8370-e2be3aedd0ba",
   "metadata": {},
   "outputs": [],
   "source": []
  }
 ],
 "metadata": {
  "kernelspec": {
   "display_name": "Python 3 (ipykernel)",
   "language": "python",
   "name": "python3"
  },
  "language_info": {
   "codemirror_mode": {
    "name": "ipython",
    "version": 3
   },
   "file_extension": ".py",
   "mimetype": "text/x-python",
   "name": "python",
   "nbconvert_exporter": "python",
   "pygments_lexer": "ipython3",
   "version": "3.10.13"
  }
 },
 "nbformat": 4,
 "nbformat_minor": 5
}
